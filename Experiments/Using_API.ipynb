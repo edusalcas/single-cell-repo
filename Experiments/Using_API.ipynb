{
 "cells": [
  {
   "cell_type": "code",
   "execution_count": 10,
   "metadata": {},
   "outputs": [],
   "source": [
    "import requests\n",
    "import pandas as pd\n",
    "import json\n",
    "\n",
    "from pprint import pprint\n"
   ]
  },
  {
   "cell_type": "code",
   "execution_count": 30,
   "metadata": {},
   "outputs": [
    {
     "data": {
      "text/plain": [
       "<Response [200]>"
      ]
     },
     "execution_count": 30,
     "metadata": {},
     "output_type": "execute_result"
    }
   ],
   "source": [
    "headers = {'content-type': 'application/json'}\n",
    "filters = {  \n",
    "    \"project_IDs\": [\n",
    "        \"E-MTAB-7303\"\n",
    "    ],\n",
    "    \"gen_names\": [\n",
    "        \"ENSG00000145335\"\n",
    "    ],\n",
    "    \"cell_types\": [\n",
    "        \"DopaminergicNeuron\"\n",
    "    ],\n",
    "    \"disease\": [\n",
    "        \"ParkinsonsDisease\",\n",
    "        \"Control\"\n",
    "    ]\n",
    "}\n",
    "\n",
    "response = requests.get('http://localhost:5001/percentiles', params={'filters': json.dumps(filters)}, headers=headers)\n",
    "response"
   ]
  },
  {
   "cell_type": "code",
   "execution_count": 51,
   "metadata": {},
   "outputs": [
    {
     "data": {
      "text/plain": [
       "<Response [500]>"
      ]
     },
     "execution_count": 51,
     "metadata": {},
     "output_type": "execute_result"
    }
   ],
   "source": [
    "headers = {'content-type': 'application/json'}\n",
    "filters = {  \n",
    "    \"project_IDs\": [\n",
    "        \"E-MTAB-7303\"\n",
    "    ],\n",
    "    \"gen_names\": [\n",
    "        \"ENSG00000145335\"\n",
    "    ],\n",
    "    \"cell_types\": [\n",
    "        \"DopaminergicNeuron\"\n",
    "    ],\n",
    "    \"disease\": [\n",
    "        \"ParkinsonsDisease\",\n",
    "        \"Control\"\n",
    "    ]\n",
    "}\n",
    "\n",
    "response = requests.get('http://localhost:5001/percentiles', json=filters, headers=headers)\n",
    "response"
   ]
  },
  {
   "cell_type": "code",
   "execution_count": 31,
   "metadata": {},
   "outputs": [
    {
     "data": {
      "text/plain": [
       "[{'gene_name': 'ENSG00000145335',\n",
       "  'metadata': {'cell type': 'DopaminergicNeuron',\n",
       "   'developmental stage': 'Adult',\n",
       "   'disease': 'ParkinsonsDisease',\n",
       "   'organism': 'HomoSapiens',\n",
       "   'organism part': 'Skin'},\n",
       "  'number_cells': 37,\n",
       "  'number_genes': 15892,\n",
       "  'percentile': 24.100176189277626,\n",
       "  'project_id': 'E-MTAB-7303'},\n",
       " {'gene_name': 'ENSG00000145335',\n",
       "  'metadata': {'cell type': 'DopaminergicNeuron',\n",
       "   'developmental stage': 'Adult',\n",
       "   'disease': 'Control',\n",
       "   'organism': 'HomoSapiens',\n",
       "   'organism part': 'Skin'},\n",
       "  'number_cells': 86,\n",
       "  'number_genes': 17035,\n",
       "  'percentile': 72.46257704725565,\n",
       "  'project_id': 'E-MTAB-7303'}]"
      ]
     },
     "execution_count": 31,
     "metadata": {},
     "output_type": "execute_result"
    }
   ],
   "source": [
    "response.json()"
   ]
  },
  {
   "cell_type": "code",
   "execution_count": 38,
   "metadata": {},
   "outputs": [
    {
     "data": {
      "text/plain": [
       "'{\"project_IDs\": [\"E-MTAB-7303\"], \"gen_names\": [\"ENSG00000145335\"], \"cell_types\": [\"DopaminergicNeuron\"], \"disease\": [\"ParkinsonsDisease\", \"Control\"]}'"
      ]
     },
     "execution_count": 38,
     "metadata": {},
     "output_type": "execute_result"
    }
   ],
   "source": [
    "json.dumps(filters)"
   ]
  },
  {
   "cell_type": "code",
   "execution_count": 55,
   "metadata": {},
   "outputs": [
    {
     "name": "stdout",
     "output_type": "stream",
     "text": [
      "HTTP/1.0 400 Bad request syntax ('GET /percentiles?filters={\"project_IDs\": [\"E-MTAB-7303\"]} HTTP/1.1')\r\n",
      "Connection: close\r\n",
      "Content-Type: text/html;charset=utf-8\r\n",
      "Content-Length: 557\r\n",
      "\r\n",
      "<!DOCTYPE HTML PUBLIC \"-//W3C//DTD HTML 4.01//EN\"\n",
      "        \"http://www.w3.org/TR/html4/strict.dtd\">\n",
      "<html>\n",
      "    <head>\n",
      "        <meta http-equiv=\"Content-Type\" content=\"text/html;charset=utf-8\">\n",
      "        <title>Error response</title>\n",
      "    </head>\n",
      "    <body>\n",
      "        <h1>Error response</h1>\n",
      "        <p>Error code: 400</p>\n",
      "        <p>Message: Bad request syntax ('GET /percentiles?filters={\"project_IDs\": [\"E-MTAB-7303\"]} HTTP/1.1').</p>\n",
      "        <p>Error code explanation: HTTPStatus.BAD_REQUEST - Bad request syntax or unsupported method.</p>\n",
      "    </body>\n",
      "</html>\n"
     ]
    },
    {
     "name": "stderr",
     "output_type": "stream",
     "text": [
      "  % Total    % Received % Xferd  Average Speed   Time    Time     Time  Current\n",
      "                                 Dload  Upload   Total   Spent    Left  Speed\n",
      "\r",
      "  0     0    0     0    0     0      0      0 --:--:-- --:--:-- --:--:--     0\r",
      "100   557  100   557    0     0  92833      0 --:--:-- --:--:-- --:--:-- 92833\n"
     ]
    }
   ],
   "source": [
    "%%bash\n",
    "curl -G -i \\\n",
    "'http://localhost:5001/percentiles' \\\n",
    "-H  \"accept: application/json\" \\\n",
    "-d filters='{\"project_IDs\": [\"E-MTAB-7303\"]}' "
   ]
  },
  {
   "cell_type": "code",
   "execution_count": null,
   "metadata": {},
   "outputs": [],
   "source": []
  }
 ],
 "metadata": {
  "kernelspec": {
   "display_name": "Python 3",
   "language": "python",
   "name": "python3"
  },
  "language_info": {
   "codemirror_mode": {
    "name": "ipython",
    "version": 3
   },
   "file_extension": ".py",
   "mimetype": "text/x-python",
   "name": "python",
   "nbconvert_exporter": "python",
   "pygments_lexer": "ipython3",
   "version": "3.8.8"
  }
 },
 "nbformat": 4,
 "nbformat_minor": 4
}
