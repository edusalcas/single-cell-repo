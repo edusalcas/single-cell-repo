{
 "cells": [
  {
   "cell_type": "code",
   "execution_count": 1,
   "metadata": {},
   "outputs": [
    {
     "name": "stderr",
     "output_type": "stream",
     "text": [
      "/home/edusal/.conda/envs/single-cell/lib/python3.8/site-packages/umap/__init__.py:9: UserWarning: Tensorflow not installed; ParametricUMAP will be unavailable\n",
      "  warn(\"Tensorflow not installed; ParametricUMAP will be unavailable\")\n"
     ]
    }
   ],
   "source": [
    "import pandas as pd\n",
    "import numpy as np\n",
    "import umap\n",
    "import matplotlib.pyplot as plt\n",
    "import requests\n",
    "\n",
    "from scipy.io import mmread\n",
    "from sklearn.decomposition import TruncatedSVD"
   ]
  },
  {
   "cell_type": "markdown",
   "metadata": {},
   "source": [
    "## Selecting projects"
   ]
  },
  {
   "cell_type": "code",
   "execution_count": 2,
   "metadata": {},
   "outputs": [],
   "source": [
    "server_name = 'http://194.4.103.244:3030'\n",
    "service_name = 'ds'\n",
    "request_url = server_name + '/' + service_name"
   ]
  },
  {
   "cell_type": "code",
   "execution_count": 3,
   "metadata": {},
   "outputs": [],
   "source": [
    "query = '''\n",
    "PREFIX a: <http://www.semanticweb.org/alicia/ontologies/2020/8/singleCellRepositories#> \n",
    "PREFIX rdf: <http://www.w3.org/1999/02/22-rdf-syntax-ns#>\n",
    "SELECT\n",
    "    ?projectTitle\n",
    "    ?repository\n",
    "    ?project\n",
    "    ?cellType\n",
    "    (SUM(?numCells) AS ?numTotalCells)\n",
    "WHERE\n",
    "{\n",
    "    ?specimenID rdf:type a:Specimen ;\n",
    "                a:SPR.hasSpecie a:HomoSapiens ;\n",
    "                a:SPR.hasMinAge ?minAge ;\n",
    "                a:SPR.hasOrganismPart a:Blood ;\n",
    "                a:SPR.hasProjectTitle ?projectTitle ;\n",
    "                a:SPR.isPartOfRepository ?repository ;\n",
    "                a:SPR.hasTotalCellCount ?numCells ;\n",
    "                a:SPR.hasCellType ?cellType .\n",
    "    ?projectID rdf:type a:Project ;\n",
    "               a:SPR.hasProjectTitle ?projectTitle ;\n",
    "               a:PR.hasProjectID ?project\n",
    "    FILTER (?numCells != -1) .\n",
    "    FILTER (?minAge > 17) .\n",
    "}\n",
    "GROUP BY ?projectTitle ?repository ?project ?cellType\n",
    "ORDER BY ?numTotalCells\n",
    "'''"
   ]
  },
  {
   "cell_type": "code",
   "execution_count": 4,
   "metadata": {},
   "outputs": [
    {
     "data": {
      "text/html": [
       "<div>\n",
       "<style scoped>\n",
       "    .dataframe tbody tr th:only-of-type {\n",
       "        vertical-align: middle;\n",
       "    }\n",
       "\n",
       "    .dataframe tbody tr th {\n",
       "        vertical-align: top;\n",
       "    }\n",
       "\n",
       "    .dataframe thead th {\n",
       "        text-align: right;\n",
       "    }\n",
       "</style>\n",
       "<table border=\"1\" class=\"dataframe\">\n",
       "  <thead>\n",
       "    <tr style=\"text-align: right;\">\n",
       "      <th></th>\n",
       "      <th>projectTitle</th>\n",
       "      <th>repository</th>\n",
       "      <th>project</th>\n",
       "      <th>cellType</th>\n",
       "      <th>numTotalCells</th>\n",
       "    </tr>\n",
       "  </thead>\n",
       "  <tbody>\n",
       "    <tr>\n",
       "      <th>0</th>\n",
       "      <td>Transcriptomic profiling of antigen-specific T...</td>\n",
       "      <td>SingleCellExpresionAtlas</td>\n",
       "      <td>E-MTAB-4850</td>\n",
       "      <td>CD8+AlphaBetaTcell</td>\n",
       "      <td>72</td>\n",
       "    </tr>\n",
       "    <tr>\n",
       "      <th>1</th>\n",
       "      <td>Single cell RNA-sequencing of PBMC derived B c...</td>\n",
       "      <td>SingleCellExpresionAtlas</td>\n",
       "      <td>E-MTAB-6386</td>\n",
       "      <td>MemoryBcell</td>\n",
       "      <td>117</td>\n",
       "    </tr>\n",
       "    <tr>\n",
       "      <th>2</th>\n",
       "      <td>Single cell RNA-sequencing of PBMC derived B c...</td>\n",
       "      <td>SingleCellExpresionAtlas</td>\n",
       "      <td>E-MTAB-6386</td>\n",
       "      <td>NaiveBcell</td>\n",
       "      <td>117</td>\n",
       "    </tr>\n",
       "    <tr>\n",
       "      <th>3</th>\n",
       "      <td>Single cell RNA-sequencing of PBMC derived B c...</td>\n",
       "      <td>SingleCellExpresionAtlas</td>\n",
       "      <td>E-MTAB-6386</td>\n",
       "      <td>Plasmablast</td>\n",
       "      <td>117</td>\n",
       "    </tr>\n",
       "    <tr>\n",
       "      <th>4</th>\n",
       "      <td>Single cell RNA-sequencing of PBMC derived B c...</td>\n",
       "      <td>SingleCellExpresionAtlas</td>\n",
       "      <td>E-MTAB-6386</td>\n",
       "      <td>TransitionalStageBcell</td>\n",
       "      <td>117</td>\n",
       "    </tr>\n",
       "    <tr>\n",
       "      <th>5</th>\n",
       "      <td>Single-cell RNAseq of Human T lymphocyte deriv...</td>\n",
       "      <td>SingleCellExpresionAtlas</td>\n",
       "      <td>E-MTAB-6379</td>\n",
       "      <td>CD8+AlphaBetaTcell</td>\n",
       "      <td>119</td>\n",
       "    </tr>\n",
       "    <tr>\n",
       "      <th>6</th>\n",
       "      <td>Single cell RNA seq of influenza tetramer spec...</td>\n",
       "      <td>SingleCellExpresionAtlas</td>\n",
       "      <td>E-MTAB-7606</td>\n",
       "      <td>CD8+AlphaBetaTcell</td>\n",
       "      <td>210</td>\n",
       "    </tr>\n",
       "    <tr>\n",
       "      <th>7</th>\n",
       "      <td>Precursors of human CD4+ cytotoxic T lymphocyt...</td>\n",
       "      <td>HumanCellAtlas</td>\n",
       "      <td>90bd6933-40c0-48d4-8d76-778c103bf545</td>\n",
       "      <td>CD8+AlphaBetaTcell</td>\n",
       "      <td>376</td>\n",
       "    </tr>\n",
       "    <tr>\n",
       "      <th>8</th>\n",
       "      <td>Precursors of human CD4+ cytotoxic T lymphocyt...</td>\n",
       "      <td>HumanCellAtlas</td>\n",
       "      <td>90bd6933-40c0-48d4-8d76-778c103bf545</td>\n",
       "      <td>EffectorMemoryCD8+AlphaBetaTCellTerminallyDiff...</td>\n",
       "      <td>1868</td>\n",
       "    </tr>\n",
       "    <tr>\n",
       "      <th>9</th>\n",
       "      <td>Immune landscape of viral- and carcinogen-deri...</td>\n",
       "      <td>SingleCellExpresionAtlas</td>\n",
       "      <td>E-GEOD-139324</td>\n",
       "      <td>Leukocyte</td>\n",
       "      <td>61675</td>\n",
       "    </tr>\n",
       "    <tr>\n",
       "      <th>10</th>\n",
       "      <td>A single-cell atlas of the peripheral immune r...</td>\n",
       "      <td>SingleCellExpresionAtlas</td>\n",
       "      <td>E-GEOD-150728</td>\n",
       "      <td>PeripheralBloodMononuclearCell</td>\n",
       "      <td>92783</td>\n",
       "    </tr>\n",
       "  </tbody>\n",
       "</table>\n",
       "</div>"
      ],
      "text/plain": [
       "                                         projectTitle  \\\n",
       "0   Transcriptomic profiling of antigen-specific T...   \n",
       "1   Single cell RNA-sequencing of PBMC derived B c...   \n",
       "2   Single cell RNA-sequencing of PBMC derived B c...   \n",
       "3   Single cell RNA-sequencing of PBMC derived B c...   \n",
       "4   Single cell RNA-sequencing of PBMC derived B c...   \n",
       "5   Single-cell RNAseq of Human T lymphocyte deriv...   \n",
       "6   Single cell RNA seq of influenza tetramer spec...   \n",
       "7   Precursors of human CD4+ cytotoxic T lymphocyt...   \n",
       "8   Precursors of human CD4+ cytotoxic T lymphocyt...   \n",
       "9   Immune landscape of viral- and carcinogen-deri...   \n",
       "10  A single-cell atlas of the peripheral immune r...   \n",
       "\n",
       "                  repository                               project  \\\n",
       "0   SingleCellExpresionAtlas                           E-MTAB-4850   \n",
       "1   SingleCellExpresionAtlas                           E-MTAB-6386   \n",
       "2   SingleCellExpresionAtlas                           E-MTAB-6386   \n",
       "3   SingleCellExpresionAtlas                           E-MTAB-6386   \n",
       "4   SingleCellExpresionAtlas                           E-MTAB-6386   \n",
       "5   SingleCellExpresionAtlas                           E-MTAB-6379   \n",
       "6   SingleCellExpresionAtlas                           E-MTAB-7606   \n",
       "7             HumanCellAtlas  90bd6933-40c0-48d4-8d76-778c103bf545   \n",
       "8             HumanCellAtlas  90bd6933-40c0-48d4-8d76-778c103bf545   \n",
       "9   SingleCellExpresionAtlas                         E-GEOD-139324   \n",
       "10  SingleCellExpresionAtlas                         E-GEOD-150728   \n",
       "\n",
       "                                             cellType numTotalCells  \n",
       "0                                  CD8+AlphaBetaTcell            72  \n",
       "1                                         MemoryBcell           117  \n",
       "2                                          NaiveBcell           117  \n",
       "3                                         Plasmablast           117  \n",
       "4                              TransitionalStageBcell           117  \n",
       "5                                  CD8+AlphaBetaTcell           119  \n",
       "6                                  CD8+AlphaBetaTcell           210  \n",
       "7                                  CD8+AlphaBetaTcell           376  \n",
       "8   EffectorMemoryCD8+AlphaBetaTCellTerminallyDiff...          1868  \n",
       "9                                           Leukocyte         61675  \n",
       "10                     PeripheralBloodMononuclearCell         92783  "
      ]
     },
     "execution_count": 4,
     "metadata": {},
     "output_type": "execute_result"
    }
   ],
   "source": [
    "response = requests.post(request_url,\n",
    "       data={'query': query})\n",
    "\n",
    "# print(response.text)\n",
    "\n",
    "headers = response.json()[\"head\"][\"vars\"]\n",
    "results = response.json()[\"results\"]\n",
    "\n",
    "rows = []\n",
    "\n",
    "for result in response.json()[\"results\"][\"bindings\"]:\n",
    "    result_dict = {}\n",
    "    for header in headers:\n",
    "        result_dict[header] = result[header]['value']\n",
    "        \n",
    "    rows.append(result_dict)\n",
    "\n",
    "df = pd.DataFrame(rows)\n",
    "\n",
    "df['cellType'] = df['cellType'].apply(lambda x: x.split('#')[1])\n",
    "\n",
    "df"
   ]
  },
  {
   "cell_type": "markdown",
   "metadata": {},
   "source": [
    "## Get matrices"
   ]
  },
  {
   "cell_type": "code",
   "execution_count": 2,
   "metadata": {},
   "outputs": [],
   "source": [
    "matrix0 = mmread('../SingleCell-Files/blood_downloads/E-MTAB-4850.aggregated_filtered_normalised_counts.mtx').transpose()\n",
    "matrix1 = mmread('../SingleCell-Files/blood_downloads/E-MTAB-6386.aggregated_filtered_normalised_counts.mtx').transpose()"
   ]
  },
  {
   "cell_type": "code",
   "execution_count": 3,
   "metadata": {},
   "outputs": [
    {
     "name": "stdout",
     "output_type": "stream",
     "text": [
      "E-MTAB-4850 size: (63, 15912)\n",
      "E-GEOD-6386 size: (117, 15545)\n"
     ]
    }
   ],
   "source": [
    "print(f'E-MTAB-4850 size: {matrix0.A.shape}')\n",
    "print(f'E-GEOD-6386 size: {matrix1.A.shape}')"
   ]
  },
  {
   "cell_type": "markdown",
   "metadata": {},
   "source": [
    "## Use metadata to group cells by cell type"
   ]
  },
  {
   "cell_type": "code",
   "execution_count": 4,
   "metadata": {},
   "outputs": [],
   "source": [
    "def get_groups(matrix_name):\n",
    "    metadata = pd.read_csv(f'https://www.ebi.ac.uk/gxa/sc/experiment/{matrix_name}/download?fileType=experiment-design&accessKey=', sep='\\t')\n",
    "    cell_types = metadata[['Assay', 'Sample Characteristic[cell type]']]\n",
    "    cell_names = pd.read_csv(f'../SingleCell-Files/blood_downloads/{matrix_name}.aggregated_filtered_normalised_counts.mtx_cols', header=None, names=['Assay'])\n",
    "    \n",
    "    cell_types = pd.merge(\n",
    "        cell_names,\n",
    "        cell_types,\n",
    "        how=\"inner\",\n",
    "        on='Assay'\n",
    "    )\n",
    "    \n",
    "    grouped = cell_types.groupby(by='Sample Characteristic[cell type]')\n",
    "\n",
    "    types = []\n",
    "\n",
    "    for name, group in grouped:\n",
    "        types.append({\n",
    "            'name': name,\n",
    "            'index': group.index\n",
    "        })\n",
    "\n",
    "    return types"
   ]
  },
  {
   "cell_type": "code",
   "execution_count": 5,
   "metadata": {},
   "outputs": [
    {
     "name": "stdout",
     "output_type": "stream",
     "text": [
      "['CD8-Positive T-Lymphocytes']\n"
     ]
    }
   ],
   "source": [
    "matrix0_types = get_groups('E-MTAB-4850')\n",
    "\n",
    "print([group['name'] for group in matrix0_types])"
   ]
  },
  {
   "cell_type": "code",
   "execution_count": 6,
   "metadata": {},
   "outputs": [
    {
     "name": "stdout",
     "output_type": "stream",
     "text": [
      "['memory B cell', 'naive B cell', 'plasmablast', 'transitional stage B cell']\n"
     ]
    }
   ],
   "source": [
    "matrix1_types = get_groups('E-MTAB-6386')\n",
    "\n",
    "print([group['name'] for group in matrix1_types])"
   ]
  },
  {
   "cell_type": "markdown",
   "metadata": {},
   "source": [
    "## Create embedding with UMAP and get the clusters"
   ]
  },
  {
   "cell_type": "code",
   "execution_count": 7,
   "metadata": {},
   "outputs": [],
   "source": [
    "reducer = umap.UMAP(random_state=2021)\n",
    "embedding = reducer.fit_transform(matrix0)\n",
    "\n",
    "for cell_type in matrix0_types:\n",
    "    cell_type['embedding'] = embedding[cell_type['index']]"
   ]
  },
  {
   "cell_type": "code",
   "execution_count": 8,
   "metadata": {},
   "outputs": [],
   "source": [
    "reducer = umap.UMAP(random_state=2021)\n",
    "embedding = reducer.fit_transform(matrix1)\n",
    "\n",
    "for cell_type in matrix1_types:\n",
    "    cell_type['embedding'] = embedding[cell_type['index']]"
   ]
  },
  {
   "cell_type": "markdown",
   "metadata": {},
   "source": [
    "### Plotting the projection"
   ]
  },
  {
   "cell_type": "code",
   "execution_count": 9,
   "metadata": {},
   "outputs": [],
   "source": [
    "def plot_cells(cell_types, title):\n",
    "    for cell_type in cell_types:\n",
    "        embedding = cell_type['embedding']\n",
    "\n",
    "        plt.scatter(\n",
    "            embedding[:, 0],\n",
    "            embedding[:, 1],\n",
    "            alpha=0.5,\n",
    "            label=cell_type['name']\n",
    "        )\n",
    "\n",
    "    plt.gca().set_aspect('equal', 'datalim')\n",
    "    plt.title(title, fontsize=24)\n",
    "    plt.legend()\n",
    "    plt.show()"
   ]
  },
  {
   "cell_type": "code",
   "execution_count": 10,
   "metadata": {},
   "outputs": [
    {
     "data": {
      "image/png": "[encoded data removed]",
      "text/plain": [
       "<Figure size 432x288 with 1 Axes>"
      ]
     },
     "metadata": {
      "needs_background": "light"
     },
     "output_type": "display_data"
    }
   ],
   "source": [
    "plot_cells(matrix0_types, 'UMAP projection of E-MTAB-4850')"
   ]
  },
  {
   "cell_type": "code",
   "execution_count": 11,
   "metadata": {
    "scrolled": true
   },
   "outputs": [
    {
     "data": {
      "image/png": "[encoded data removed]",
      "text/plain": [
       "<Figure size 432x288 with 1 Axes>"
      ]
     },
     "metadata": {
      "needs_background": "light"
     },
     "output_type": "display_data"
    }
   ],
   "source": [
    "plot_cells(matrix1_types, 'UMAP projection of E-MTAB-6386')"
   ]
  },
  {
   "cell_type": "markdown",
   "metadata": {},
   "source": [
    "## Create embedding with PCA and get the clusters"
   ]
  },
  {
   "cell_type": "code",
   "execution_count": 15,
   "metadata": {},
   "outputs": [],
   "source": [
    "pca = TruncatedSVD(n_components=2)\n",
    "projected = pca.fit_transform(matrix0)\n",
    "\n",
    "for cell_type in matrix0_types:\n",
    "    cell_type['embedding'] = projected[cell_type['index']]"
   ]
  },
  {
   "cell_type": "code",
   "execution_count": 16,
   "metadata": {},
   "outputs": [],
   "source": [
    "pca = TruncatedSVD(n_components=2)\n",
    "projected = pca.fit_transform(matrix1)\n",
    "\n",
    "for cell_type in matrix1_types:\n",
    "    cell_type['embedding'] = projected[cell_type['index']]"
   ]
  },
  {
   "cell_type": "markdown",
   "metadata": {},
   "source": [
    "### Plotting the projection"
   ]
  },
  {
   "cell_type": "code",
   "execution_count": 18,
   "metadata": {},
   "outputs": [
    {
     "data": {
      "image/png": "[encoded data removed]",
      "text/plain": [
       "<Figure size 432x288 with 1 Axes>"
      ]
     },
     "metadata": {
      "needs_background": "light"
     },
     "output_type": "display_data"
    }
   ],
   "source": [
    "plot_cells(matrix0_types, 'PCA projection of E-MTAB-4850')"
   ]
  },
  {
   "cell_type": "code",
   "execution_count": 19,
   "metadata": {
    "scrolled": false
   },
   "outputs": [
    {
     "data": {
      "image/png": "[encoded data removed]",
      "text/plain": [
       "<Figure size 432x288 with 1 Axes>"
      ]
     },
     "metadata": {
      "needs_background": "light"
     },
     "output_type": "display_data"
    }
   ],
   "source": [
    "plot_cells(matrix1_types, 'PCA projection of E-MTAB-6386')"
   ]
  },
  {
   "cell_type": "markdown",
   "metadata": {},
   "source": [
    "# Divide the matrix"
   ]
  },
  {
   "cell_type": "code",
   "execution_count": 20,
   "metadata": {},
   "outputs": [],
   "source": [
    "from scipy.stats import percentileofscore"
   ]
  },
  {
   "cell_type": "code",
   "execution_count": 33,
   "metadata": {},
   "outputs": [
    {
     "name": "stdout",
     "output_type": "stream",
     "text": [
      "memory B cell\n",
      "(30, 15545)\n",
      "naive B cell\n",
      "(30, 15545)\n",
      "plasmablast\n",
      "(30, 15545)\n",
      "transitional stage B cell\n",
      "(27, 15545)\n"
     ]
    }
   ],
   "source": [
    "for group in matrix1_types:\n",
    "    percentiles = []\n",
    "\n",
    "    print(group['name'])\n",
    "    submatrix = matrix1.A[group['index']]\n",
    "    print(submatrix.shape)\n",
    "    \n",
    "    for i in range(submatrix.shape[1]):\n",
    "        mean = np.mean([percentileofscore(submatrix[:,i], a, 'strict') for a in submatrix[:,i]])\n",
    "        percentiles.append(mean)\n",
    "\n",
    "    group['percentiles'] = percentiles"
   ]
  },
  {
   "cell_type": "code",
   "execution_count": 43,
   "metadata": {},
   "outputs": [
    {
     "name": "stdout",
     "output_type": "stream",
     "text": [
      "For cell type 'memory B cell', gen 199 is in the percentil 27.22\n",
      "For cell type 'naive B cell', gen 199 is in the percentil 20.22\n",
      "For cell type 'plasmablast', gen 199 is in the percentil 46.67\n",
      "For cell type 'transitional stage B cell', gen 199 is in the percentil 19.34\n"
     ]
    }
   ],
   "source": [
    "gen = 199\n",
    "\n",
    "for group in matrix1_types:\n",
    "    print(f\"For cell type '{group['name']}', gen {gen} is in the percentil {group['percentiles'][gen]:.2f}\")"
   ]
  },
  {
   "cell_type": "markdown",
   "metadata": {},
   "source": [
    "# Get quantiles"
   ]
  },
  {
   "cell_type": "code",
   "execution_count": null,
   "metadata": {},
   "outputs": [],
   "source": [
    "def get_percentiles_from_project(project_ID):\n",
    "    \n",
    "    print(\"Reading files...\")\n",
    "    #TODO Read project matrix and metadata\n",
    "    matrix, metadata, cell_names = read_files(project_ID)\n",
    "    \n",
    "    \n",
    "    #TODO Generate cell type groups with metadata\n",
    "    cell_type_groups = get_cell_type_groups(metadata, cell_names)\n",
    "    \n",
    "    #TODO Get mean percentiles of each cell type\n",
    "    percentiles = get_percentiles(matrix, cell_type_groups)\n",
    "    \n",
    "    return percentiles"
   ]
  },
  {
   "cell_type": "code",
   "execution_count": null,
   "metadata": {},
   "outputs": [],
   "source": [
    "def read_matrix(project_ID):\n",
    "    #TODO Download matrix using ontology link\n",
    "    download_matrix(project_ID)\n",
    "    \n",
    "    # Read matrix\n",
    "    matrix_file_name = f'../SingleCell-Files/blood_downloads/{project_ID}.aggregated_filtered_normalised_counts.mtx'\n",
    "    matrix = mmread(matrix_file_name).transpose()\n",
    "    \n",
    "    # Read metadata\n",
    "    metadata = pd.read_csv(f'https://www.ebi.ac.uk/gxa/sc/experiment/{matrix_name}/download?fileType=experiment-design&accessKey=', sep='\\t')\n",
    "    metadata = metadata[['Assay', 'Sample Characteristic[cell type]']]\n",
    "    \n",
    "    # Read cell names\n",
    "    cells_file_name = f'../SingleCell-Files/blood_downloads/{matrix_name}.aggregated_filtered_normalised_counts.mtx_cols'\n",
    "    cell_names = pd.read_csv(cells_file_name, header=None, names=['Assay'])\n",
    "    \n",
    "    return matrix, metadata, cell_names"
   ]
  },
  {
   "cell_type": "code",
   "execution_count": 44,
   "metadata": {},
   "outputs": [],
   "source": [
    "def download_matrix(project_ID):\n",
    "    return None"
   ]
  },
  {
   "cell_type": "code",
   "execution_count": 47,
   "metadata": {},
   "outputs": [],
   "source": [
    "def get_cell_type_groups(metadata, cell_names):\n",
    "    # Merge both dataframes so we get the cells of the matrix with their corresponding type\n",
    "    cell_types = pd.merge(\n",
    "        cell_names,\n",
    "        metadata,\n",
    "        how=\"inner\",\n",
    "        on='Assay'\n",
    "    )\n",
    "    \n",
    "    # Group by cell type\n",
    "    grouped = cell_types.groupby(by='Sample Characteristic[cell type]')\n",
    "\n",
    "    groups = []\n",
    "\n",
    "    # For each group, assign its name and the index of the matrix for this type\n",
    "    for name, group in grouped:\n",
    "        groups.append({\n",
    "            'name': name,\n",
    "            'index': group.index\n",
    "        })\n",
    "\n",
    "    return groups"
   ]
  },
  {
   "cell_type": "code",
   "execution_count": null,
   "metadata": {},
   "outputs": [],
   "source": []
  }
 ],
 "metadata": {
  "kernelspec": {
   "display_name": "single-cell",
   "language": "python",
   "name": "single-cell"
  },
  "language_info": {
   "codemirror_mode": {
    "name": "ipython",
    "version": 3
   },
   "file_extension": ".py",
   "mimetype": "text/x-python",
   "name": "python",
   "nbconvert_exporter": "python",
   "pygments_lexer": "ipython3",
   "version": "3.8.6"
  }
 },
 "nbformat": 4,
 "nbformat_minor": 4
}
