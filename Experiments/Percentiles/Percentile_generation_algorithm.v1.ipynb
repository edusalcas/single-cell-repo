{
 "cells": [
  {
   "cell_type": "markdown",
   "id": "proof-condition",
   "metadata": {},
   "source": [
    "# Generating percentiles"
   ]
  },
  {
   "cell_type": "markdown",
   "id": "ordinary-european",
   "metadata": {},
   "source": [
    "In this notebook we are going to generate the percentiles of a project. We are going to make use of the functionality explained in the notebook *Percentile_groups*.\n",
    "\n",
    "Given a project, we can divide it into subgroups depending on the characteristics of the project. Once divided we will generate as many percentile groups as we have subgroups. \n",
    "\n",
    "The basic structure of subgroups is as follows:\n",
    "\n",
    "```python\n",
    "[\n",
    "    {\n",
    "        'dataframe': <pandas dataframe object>, # df of the subgroup\n",
    "        'specie': 'homo sapiens',\n",
    "        'organ': 'brain',\n",
    "        'disease': 'parkinson'\n",
    "    },\n",
    "    {\n",
    "        'dataframe': <pandas dataframe object>, # df of the subgroup\n",
    "        'specie': 'homo sapiens',\n",
    "        'organ': 'brain',\n",
    "        'disease': 'brain cancer'\n",
    "    }\n",
    "]\n",
    "```"
   ]
  },
  {
   "cell_type": "markdown",
   "id": "anonymous-regression",
   "metadata": {},
   "source": [
    "In order to create the percentiles, we also need the expression matrix and the cell names of the matrix."
   ]
  },
  {
   "cell_type": "code",
   "execution_count": 1,
   "id": "sacred-botswana",
   "metadata": {},
   "outputs": [],
   "source": [
    "from Percentile_groups import read_files, process_metadata"
   ]
  },
  {
   "cell_type": "markdown",
   "id": "cooperative-worker",
   "metadata": {},
   "source": [
    "We are using the same project used in the *Percentile_groups* notebook. This project can be found in https://www.ebi.ac.uk/gxa/sc/experiments/E-MTAB-7678/experiment-design."
   ]
  },
  {
   "cell_type": "code",
   "execution_count": 2,
   "id": "threaded-abuse",
   "metadata": {},
   "outputs": [],
   "source": [
    "project_ID = 'E-MTAB-7678'"
   ]
  },
  {
   "cell_type": "markdown",
   "id": "agreed-sympathy",
   "metadata": {},
   "source": [
    "Before getting the subgroups, we can examine the files of this project."
   ]
  },
  {
   "cell_type": "code",
   "execution_count": 3,
   "id": "adverse-johnson",
   "metadata": {},
   "outputs": [],
   "source": [
    "metadata, matrix, gene_names, cell_names = read_files(project_ID)"
   ]
  },
  {
   "cell_type": "code",
   "execution_count": 4,
   "id": "grand-microphone",
   "metadata": {},
   "outputs": [],
   "source": [
    "metadata = process_metadata(metadata, cell_names)"
   ]
  },
  {
   "cell_type": "code",
   "execution_count": 5,
   "id": "chicken-surname",
   "metadata": {},
   "outputs": [
    {
     "name": "stdout",
     "output_type": "stream",
     "text": [
      "In metadata we have information of 7052 cells.\n",
      "Our matrix has dimensions of (7052, 19975).\n",
      "The matrix has 7052 genes and 19975 cells.\n"
     ]
    }
   ],
   "source": [
    "print(f\"In metadata we have information of {len(metadata)} cells.\")\n",
    "print(f\"Our matrix has dimensions of {matrix.A.shape}.\")\n",
    "print(f\"The matrix has {len(cell_names)} genes and {len(gene_names)} cells.\")"
   ]
  },
  {
   "cell_type": "code",
   "execution_count": 6,
   "id": "adjusted-excellence",
   "metadata": {},
   "outputs": [
    {
     "data": {
      "text/plain": [
       "True"
      ]
     },
     "execution_count": 6,
     "metadata": {},
     "output_type": "execute_result"
    }
   ],
   "source": [
    "cell_names['Assay'].equals(metadata['Assay'])"
   ]
  },
  {
   "cell_type": "markdown",
   "id": "effective-recording",
   "metadata": {},
   "source": [
    "As we can see, the cells in the metadata are the same (and in the same order) as the cells in the matrix."
   ]
  },
  {
   "cell_type": "markdown",
   "id": "macro-slovakia",
   "metadata": {},
   "source": [
    "## Obtaining the subgroups"
   ]
  },
  {
   "cell_type": "code",
   "execution_count": 2,
   "id": "returning-phase",
   "metadata": {},
   "outputs": [],
   "source": [
    "import pandas as pd\n",
    "from Percentile_groups import get_groups_from_project_multiple, print_subgroups"
   ]
  },
  {
   "cell_type": "code",
   "execution_count": 3,
   "id": "threaded-behalf",
   "metadata": {},
   "outputs": [],
   "source": [
    "common_characteristics = [\n",
    "    'organism',\n",
    "    'organism part',\n",
    "    'sampling site',\n",
    "    'biopsy site',\n",
    "    'metastatic site',\n",
    "    'developmental stage',\n",
    "    'cell line',\n",
    "    'disease'\n",
    "]\n",
    "\n",
    "characterictics_groups = [\n",
    "    common_characteristics + ['cell type'],\n",
    "    common_characteristics + ['inferred cell type - ontology labels'],\n",
    "    common_characteristics + ['inferred cell type - authors labels'],\n",
    "]"
   ]
  },
  {
   "cell_type": "markdown",
   "id": "magnetic-winner",
   "metadata": {},
   "source": [
    "### Getting all the subgroups for all the combinations"
   ]
  },
  {
   "cell_type": "code",
   "execution_count": 5,
   "id": "exotic-wrong",
   "metadata": {},
   "outputs": [],
   "source": [
    "rows, subgroups_combinations, matrix, gene_names = get_groups_from_project_multiple(project_ID, characterictics_groups, return_all=True, return_matrix=True)"
   ]
  },
  {
   "cell_type": "markdown",
   "id": "ceramic-commissioner",
   "metadata": {},
   "source": [
    "We can use the `print_subgroups` function to see how our subgroups looks like."
   ]
  },
  {
   "cell_type": "code",
   "execution_count": 11,
   "id": "intended-nomination",
   "metadata": {},
   "outputs": [
    {
     "name": "stdout",
     "output_type": "stream",
     "text": [
      "Subgroup 0:\n",
      "\tNumber of cells: 2718\n",
      "\torganism: Mus musculus\n",
      "\torganism part: lung\n",
      "\tdevelopmental stage: adult\n",
      "\tcell type: classical monocyte\n",
      "Subgroup 1:\n",
      "\tNumber of cells: 4334\n",
      "\torganism: Mus musculus\n",
      "\torganism part: lung\n",
      "\tdevelopmental stage: adult\n",
      "\tcell type: lung macrophage\n",
      "Subgroup 0:\n",
      "\tNumber of cells: 7052\n",
      "\torganism: Mus musculus\n",
      "\torganism part: lung\n",
      "\tdevelopmental stage: adult\n"
     ]
    }
   ],
   "source": [
    "for subgroups in subgroups_combinations:\n",
    "    print_subgroups(subgroups)"
   ]
  },
  {
   "cell_type": "code",
   "execution_count": 13,
   "id": "legitimate-diabetes",
   "metadata": {},
   "outputs": [
    {
     "data": {
      "text/html": [
       "<div>\n",
       "<style scoped>\n",
       "    .dataframe tbody tr th:only-of-type {\n",
       "        vertical-align: middle;\n",
       "    }\n",
       "\n",
       "    .dataframe tbody tr th {\n",
       "        vertical-align: top;\n",
       "    }\n",
       "\n",
       "    .dataframe thead th {\n",
       "        text-align: right;\n",
       "    }\n",
       "</style>\n",
       "<table border=\"1\" class=\"dataframe\">\n",
       "  <thead>\n",
       "    <tr style=\"text-align: right;\">\n",
       "      <th></th>\n",
       "      <th>project_ID</th>\n",
       "      <th>num_subgroups</th>\n",
       "      <th>num_cells</th>\n",
       "      <th>cells_used</th>\n",
       "      <th>characteristics_used</th>\n",
       "      <th>number_genes</th>\n",
       "    </tr>\n",
       "  </thead>\n",
       "  <tbody>\n",
       "    <tr>\n",
       "      <th>0</th>\n",
       "      <td>E-MTAB-7678</td>\n",
       "      <td>2</td>\n",
       "      <td>7052</td>\n",
       "      <td>100.0</td>\n",
       "      <td>organism/organism part/developmental stage/cel...</td>\n",
       "      <td>19975</td>\n",
       "    </tr>\n",
       "    <tr>\n",
       "      <th>1</th>\n",
       "      <td>E-MTAB-7678</td>\n",
       "      <td>1</td>\n",
       "      <td>7052</td>\n",
       "      <td>100.0</td>\n",
       "      <td>organism/organism part/developmental stage</td>\n",
       "      <td>19975</td>\n",
       "    </tr>\n",
       "  </tbody>\n",
       "</table>\n",
       "</div>"
      ],
      "text/plain": [
       "    project_ID  num_subgroups  num_cells  cells_used  \\\n",
       "0  E-MTAB-7678              2       7052       100.0   \n",
       "1  E-MTAB-7678              1       7052       100.0   \n",
       "\n",
       "                                characteristics_used  number_genes  \n",
       "0  organism/organism part/developmental stage/cel...         19975  \n",
       "1         organism/organism part/developmental stage         19975  "
      ]
     },
     "execution_count": 13,
     "metadata": {},
     "output_type": "execute_result"
    }
   ],
   "source": [
    "pd.DataFrame(rows)"
   ]
  },
  {
   "cell_type": "markdown",
   "id": "legislative-office",
   "metadata": {},
   "source": [
    "### Getting the subgroups for the best combination"
   ]
  },
  {
   "cell_type": "code",
   "execution_count": 4,
   "id": "necessary-marijuana",
   "metadata": {},
   "outputs": [],
   "source": [
    "row, subgroups, matrix, gene_names = get_groups_from_project_multiple(project_ID, characterictics_groups, return_all=False, return_matrix=True)"
   ]
  },
  {
   "cell_type": "markdown",
   "id": "grand-meaning",
   "metadata": {},
   "source": [
    "We can use the `print_subgroups` function to see how our subgroups looks like."
   ]
  },
  {
   "cell_type": "code",
   "execution_count": 11,
   "id": "fallen-viewer",
   "metadata": {},
   "outputs": [
    {
     "name": "stdout",
     "output_type": "stream",
     "text": [
      "Subgroup 0:\n",
      "\tNumber of cells: 2718\n",
      "\torganism: Mus musculus\n",
      "\torganism part: lung\n",
      "\tdevelopmental stage: adult\n",
      "\tcell type: classical monocyte\n",
      "Subgroup 1:\n",
      "\tNumber of cells: 4334\n",
      "\torganism: Mus musculus\n",
      "\torganism part: lung\n",
      "\tdevelopmental stage: adult\n",
      "\tcell type: lung macrophage\n"
     ]
    }
   ],
   "source": [
    "print_subgroups(subgroups)"
   ]
  },
  {
   "cell_type": "code",
   "execution_count": 12,
   "id": "cross-monster",
   "metadata": {},
   "outputs": [
    {
     "data": {
      "text/html": [
       "<div>\n",
       "<style scoped>\n",
       "    .dataframe tbody tr th:only-of-type {\n",
       "        vertical-align: middle;\n",
       "    }\n",
       "\n",
       "    .dataframe tbody tr th {\n",
       "        vertical-align: top;\n",
       "    }\n",
       "\n",
       "    .dataframe thead th {\n",
       "        text-align: right;\n",
       "    }\n",
       "</style>\n",
       "<table border=\"1\" class=\"dataframe\">\n",
       "  <thead>\n",
       "    <tr style=\"text-align: right;\">\n",
       "      <th></th>\n",
       "      <th>project_ID</th>\n",
       "      <th>num_subgroups</th>\n",
       "      <th>num_cells</th>\n",
       "      <th>cells_used</th>\n",
       "      <th>characteristics_used</th>\n",
       "      <th>number_genes</th>\n",
       "    </tr>\n",
       "  </thead>\n",
       "  <tbody>\n",
       "    <tr>\n",
       "      <th>0</th>\n",
       "      <td>E-MTAB-7678</td>\n",
       "      <td>2</td>\n",
       "      <td>7052</td>\n",
       "      <td>100.0</td>\n",
       "      <td>organism/organism part/developmental stage/cel...</td>\n",
       "      <td>19975</td>\n",
       "    </tr>\n",
       "  </tbody>\n",
       "</table>\n",
       "</div>"
      ],
      "text/plain": [
       "    project_ID  num_subgroups  num_cells  cells_used  \\\n",
       "0  E-MTAB-7678              2       7052       100.0   \n",
       "\n",
       "                                characteristics_used  number_genes  \n",
       "0  organism/organism part/developmental stage/cel...         19975  "
      ]
     },
     "execution_count": 12,
     "metadata": {},
     "output_type": "execute_result"
    }
   ],
   "source": [
    "pd.DataFrame([row])"
   ]
  },
  {
   "cell_type": "markdown",
   "id": "behind-engineer",
   "metadata": {},
   "source": [
    "## Calculating percentiles"
   ]
  },
  {
   "cell_type": "markdown",
   "id": "auburn-episode",
   "metadata": {},
   "source": [
    "Now we have the subgroups, we want to obtain the percentile of each one. To archieve that, we are first explaining what we are going to do step by step.\n",
    "\n",
    "As we said before, the cells in the subgroups (part of the metadata) are the same and in the same order as the cells in the matrix. Knowing that, we can index the matrix to obtain the matrix with the cells of the subgroup."
   ]
  },
  {
   "cell_type": "code",
   "execution_count": null,
   "id": "toxic-briefs",
   "metadata": {
    "scrolled": true
   },
   "outputs": [],
   "source": [
    "sub = subgroups[0]\n",
    "sub['dataframe']"
   ]
  },
  {
   "cell_type": "code",
   "execution_count": null,
   "id": "extra-seeking",
   "metadata": {},
   "outputs": [],
   "source": [
    "sub_cells_index = sub['dataframe']['Assay'].index\n",
    "print(len(sub_cells_index))"
   ]
  },
  {
   "cell_type": "code",
   "execution_count": null,
   "id": "integral-progress",
   "metadata": {},
   "outputs": [],
   "source": [
    "sub_matrix = matrix.A[sub_cells_index]\n",
    "print(f\"The matrix of the subgroup has shape {sub_matrix.shape}\")"
   ]
  },
  {
   "cell_type": "code",
   "execution_count": null,
   "id": "regulated-sauce",
   "metadata": {},
   "outputs": [],
   "source": [
    "import numpy as np"
   ]
  },
  {
   "cell_type": "code",
   "execution_count": null,
   "id": "negative-georgia",
   "metadata": {},
   "outputs": [],
   "source": [
    "sub_matrix_mean = np.mean(sub_matrix, axis=0)\n",
    "print(f\"We have an array of mean expresion for {len(sub_matrix_mean)} genes. An example of the first 5 items:\")\n",
    "print(sub_matrix_mean[:5])"
   ]
  },
  {
   "cell_type": "markdown",
   "id": "authorized-volume",
   "metadata": {},
   "source": [
    "However, when generating the percentiles, we do not want to take into account genes that have a mean expression of 0, as we consider that these genes are not expressed in these cells."
   ]
  },
  {
   "cell_type": "code",
   "execution_count": 60,
   "id": "parliamentary-boutique",
   "metadata": {
    "scrolled": true
   },
   "outputs": [
    {
     "name": "stdout",
     "output_type": "stream",
     "text": [
      "We have 314 genes that are not expressed in our array.\n"
     ]
    }
   ],
   "source": [
    "print(f\"We have {np.sum(sub_matrix_mean == 0)} genes that are not expressed in our array.\")"
   ]
  },
  {
   "cell_type": "code",
   "execution_count": 49,
   "id": "sapphire-signature",
   "metadata": {},
   "outputs": [
    {
     "name": "stdout",
     "output_type": "stream",
     "text": [
      "Removing zeros from the mean expression array, we have 19661 genes expressed.\n"
     ]
    }
   ],
   "source": [
    "sub_matrix_mean_without_zeros = sub_matrix_mean[sub_matrix_mean != 0]\n",
    "print(f\"Removing zeros from the mean expression array, we have {len(sub_matrix_mean_without_zeros)} genes expressed.\")"
   ]
  },
  {
   "cell_type": "markdown",
   "id": "secret-platinum",
   "metadata": {},
   "source": [
    "### Explaining percentiles"
   ]
  },
  {
   "cell_type": "markdown",
   "id": "sized-catering",
   "metadata": {},
   "source": [
    "In statistics, a percentile (or a centile) is a score below which a given percentage of scores in its frequency distribution falls (exclusive definition) or a score at or below which a given percentage falls (inclusive definition).\n",
    "\n",
    "We are using the `scipy.stats` module function `percentileofscore`. In this function there are multiple types of percentiles. We will see an example of them.\n",
    "\n",
    "More of this function in https://docs.scipy.org/doc/scipy/reference/generated/scipy.stats.percentileofscore.html"
   ]
  },
  {
   "cell_type": "code",
   "execution_count": 43,
   "id": "therapeutic-screw",
   "metadata": {},
   "outputs": [],
   "source": [
    "from scipy.stats import percentileofscore"
   ]
  },
  {
   "cell_type": "code",
   "execution_count": 52,
   "id": "olive-chicago",
   "metadata": {},
   "outputs": [
    {
     "name": "stdout",
     "output_type": "stream",
     "text": [
      "[20.0, 40.0, 70.0, 70.0, 100.0]\n",
      "[20.0, 40.0, 80.0, 80.0, 100.0]\n",
      "[0.0, 20.0, 40.0, 40.0, 80.0]\n",
      "[10.0, 30.0, 60.0, 60.0, 90.0]\n"
     ]
    }
   ],
   "source": [
    "l = [1, 2, 3, 3, 4]\n",
    "\n",
    "print([percentileofscore(l, x, 'rank') for x in l])\n",
    "print([percentileofscore(l, x, 'weak') for x in l])\n",
    "print([percentileofscore(l, x, 'strict') for x in l])\n",
    "print([percentileofscore(l, x, 'mean') for x in l])"
   ]
  },
  {
   "cell_type": "markdown",
   "id": "sporting-salon",
   "metadata": {},
   "source": [
    "We are interested in the *rank*, *weak* or *mean* percentile type, since we dont want any expressed gene to have a 0% percentile. We will select, for example, the *weak* type."
   ]
  },
  {
   "cell_type": "markdown",
   "id": "personal-windsor",
   "metadata": {},
   "source": [
    "### Generate percentiles"
   ]
  },
  {
   "cell_type": "markdown",
   "id": "careful-stanley",
   "metadata": {},
   "source": [
    "As we have said, we will not take into account genes that are not expressed when calculating percentiles. However, these genes will have a percentile of 0% to indicate that they are not expressed."
   ]
  },
  {
   "cell_type": "code",
   "execution_count": 56,
   "id": "serial-three",
   "metadata": {},
   "outputs": [
    {
     "name": "stdout",
     "output_type": "stream",
     "text": [
      "We have 19975 percentiles for the subgroup. We can see the first 5 percentiles:\n",
      "[87.6354203753624, 28.838817964498247, 14.505874574029805, 48.28340369258939, 98.2554295305427]\n"
     ]
    }
   ],
   "source": [
    "sub_matrix_percentiles = [percentileofscore(sub_matrix_mean_without_zeros, x, 'weak') for x in sub_matrix_mean]\n",
    "print(f\"We have {len(sub_matrix_percentiles)} percentiles for the subgroup. We can see the first 5 percentiles:\")\n",
    "print(sub_matrix_percentiles[:5])"
   ]
  },
  {
   "cell_type": "markdown",
   "id": "lyric-consent",
   "metadata": {},
   "source": [
    "# Using module"
   ]
  },
  {
   "cell_type": "code",
   "execution_count": 5,
   "id": "mathematical-bradley",
   "metadata": {},
   "outputs": [],
   "source": [
    "from PercentileCreation import generate_percentiles"
   ]
  },
  {
   "cell_type": "code",
   "execution_count": 6,
   "id": "republican-runner",
   "metadata": {},
   "outputs": [],
   "source": [
    "results, results_info = generate_percentiles(project_ID, subgroups[0], matrix, gene_names)"
   ]
  },
  {
   "cell_type": "code",
   "execution_count": 15,
   "id": "lonely-briefs",
   "metadata": {},
   "outputs": [
    {
     "data": {
      "text/html": [
       "<div>\n",
       "<style scoped>\n",
       "    .dataframe tbody tr th:only-of-type {\n",
       "        vertical-align: middle;\n",
       "    }\n",
       "\n",
       "    .dataframe tbody tr th {\n",
       "        vertical-align: top;\n",
       "    }\n",
       "\n",
       "    .dataframe thead th {\n",
       "        text-align: right;\n",
       "    }\n",
       "</style>\n",
       "<table border=\"1\" class=\"dataframe\">\n",
       "  <thead>\n",
       "    <tr style=\"text-align: right;\">\n",
       "      <th></th>\n",
       "      <th>gene_name</th>\n",
       "      <th>percentile</th>\n",
       "    </tr>\n",
       "  </thead>\n",
       "  <tbody>\n",
       "    <tr>\n",
       "      <th>0</th>\n",
       "      <td>ENSMUSG00000000001</td>\n",
       "      <td>87.635420</td>\n",
       "    </tr>\n",
       "    <tr>\n",
       "      <th>1</th>\n",
       "      <td>ENSMUSG00000000028</td>\n",
       "      <td>28.838818</td>\n",
       "    </tr>\n",
       "    <tr>\n",
       "      <th>2</th>\n",
       "      <td>ENSMUSG00000000037</td>\n",
       "      <td>14.505875</td>\n",
       "    </tr>\n",
       "    <tr>\n",
       "      <th>3</th>\n",
       "      <td>ENSMUSG00000000056</td>\n",
       "      <td>48.283404</td>\n",
       "    </tr>\n",
       "    <tr>\n",
       "      <th>4</th>\n",
       "      <td>ENSMUSG00000000058</td>\n",
       "      <td>98.255430</td>\n",
       "    </tr>\n",
       "    <tr>\n",
       "      <th>...</th>\n",
       "      <td>...</td>\n",
       "      <td>...</td>\n",
       "    </tr>\n",
       "    <tr>\n",
       "      <th>19970</th>\n",
       "      <td>ENSMUSG00000118618</td>\n",
       "      <td>1.571639</td>\n",
       "    </tr>\n",
       "    <tr>\n",
       "      <th>19971</th>\n",
       "      <td>ENSMUSG00000118623</td>\n",
       "      <td>1.942933</td>\n",
       "    </tr>\n",
       "    <tr>\n",
       "      <th>19972</th>\n",
       "      <td>ENSMUSG00000118626</td>\n",
       "      <td>48.263059</td>\n",
       "    </tr>\n",
       "    <tr>\n",
       "      <th>19973</th>\n",
       "      <td>ENSMUSG00000118633</td>\n",
       "      <td>59.183154</td>\n",
       "    </tr>\n",
       "    <tr>\n",
       "      <th>19974</th>\n",
       "      <td>ENSMUSG00000118640</td>\n",
       "      <td>0.142414</td>\n",
       "    </tr>\n",
       "  </tbody>\n",
       "</table>\n",
       "<p>19975 rows × 2 columns</p>\n",
       "</div>"
      ],
      "text/plain": [
       "                gene_name  percentile\n",
       "0      ENSMUSG00000000001   87.635420\n",
       "1      ENSMUSG00000000028   28.838818\n",
       "2      ENSMUSG00000000037   14.505875\n",
       "3      ENSMUSG00000000056   48.283404\n",
       "4      ENSMUSG00000000058   98.255430\n",
       "...                   ...         ...\n",
       "19970  ENSMUSG00000118618    1.571639\n",
       "19971  ENSMUSG00000118623    1.942933\n",
       "19972  ENSMUSG00000118626   48.263059\n",
       "19973  ENSMUSG00000118633   59.183154\n",
       "19974  ENSMUSG00000118640    0.142414\n",
       "\n",
       "[19975 rows x 2 columns]"
      ]
     },
     "execution_count": 15,
     "metadata": {},
     "output_type": "execute_result"
    }
   ],
   "source": [
    "results"
   ]
  },
  {
   "cell_type": "code",
   "execution_count": 16,
   "id": "miniature-astronomy",
   "metadata": {},
   "outputs": [
    {
     "data": {
      "text/html": [
       "<div>\n",
       "<style scoped>\n",
       "    .dataframe tbody tr th:only-of-type {\n",
       "        vertical-align: middle;\n",
       "    }\n",
       "\n",
       "    .dataframe tbody tr th {\n",
       "        vertical-align: top;\n",
       "    }\n",
       "\n",
       "    .dataframe thead th {\n",
       "        text-align: right;\n",
       "    }\n",
       "</style>\n",
       "<table border=\"1\" class=\"dataframe\">\n",
       "  <thead>\n",
       "    <tr style=\"text-align: right;\">\n",
       "      <th></th>\n",
       "      <th>project_id</th>\n",
       "      <th>metadata</th>\n",
       "      <th>number_genes</th>\n",
       "      <th>number_cells</th>\n",
       "    </tr>\n",
       "  </thead>\n",
       "  <tbody>\n",
       "    <tr>\n",
       "      <th>0</th>\n",
       "      <td>E-MTAB-7678</td>\n",
       "      <td>{'organism': 'Mus musculus', 'organism part': ...</td>\n",
       "      <td>19661</td>\n",
       "      <td>2718</td>\n",
       "    </tr>\n",
       "  </tbody>\n",
       "</table>\n",
       "</div>"
      ],
      "text/plain": [
       "    project_id                                           metadata  \\\n",
       "0  E-MTAB-7678  {'organism': 'Mus musculus', 'organism part': ...   \n",
       "\n",
       "   number_genes  number_cells  \n",
       "0         19661          2718  "
      ]
     },
     "execution_count": 16,
     "metadata": {},
     "output_type": "execute_result"
    }
   ],
   "source": [
    "results_info"
   ]
  },
  {
   "cell_type": "markdown",
   "id": "incredible-secret",
   "metadata": {},
   "source": [
    "# Saving percentiles in the database"
   ]
  },
  {
   "cell_type": "code",
   "execution_count": 7,
   "id": "sweet-bronze",
   "metadata": {},
   "outputs": [],
   "source": [
    "import os\n",
    "import sys\n",
    "module_path = os.path.abspath(os.path.join('..'))\n",
    "\n",
    "if module_path not in sys.path:\n",
    "    sys.path.append(module_path)"
   ]
  },
  {
   "cell_type": "code",
   "execution_count": 8,
   "id": "innovative-analyst",
   "metadata": {},
   "outputs": [],
   "source": [
    "from Database.Postgres_Controller import PostgresController"
   ]
  },
  {
   "cell_type": "code",
   "execution_count": 9,
   "id": "fabulous-convenience",
   "metadata": {},
   "outputs": [],
   "source": [
    "controller = PostgresController()"
   ]
  },
  {
   "cell_type": "code",
   "execution_count": 16,
   "id": "formal-channel",
   "metadata": {},
   "outputs": [],
   "source": [
    "import time"
   ]
  },
  {
   "cell_type": "code",
   "execution_count": 18,
   "id": "killing-douglas",
   "metadata": {},
   "outputs": [
    {
     "name": "stdout",
     "output_type": "stream",
     "text": [
      "Error: unsupported format character 'f' (0x66) at index 90\n",
      "Error: unsupported format character 'f' (0x66) at index 90\n",
      "Error: unsupported format character 'f' (0x66) at index 90\n",
      "Error: unsupported format character 'f' (0x66) at index 90\n",
      "Error: unsupported format character 'f' (0x66) at index 90\n",
      "Error: unsupported format character 'f' (0x66) at index 90\n",
      "Error: unsupported format character 'f' (0x66) at index 90\n",
      "Error: unsupported format character 'f' (0x66) at index 90\n",
      "Error: unsupported format character 'f' (0x66) at index 90\n",
      "Error: unsupported format character 'f' (0x66) at index 90\n"
     ]
    },
    {
     "name": "stderr",
     "output_type": "stream",
     "text": [
      "/home/edusal/git-repos/single-cell-repo/Experiments/Database/Postgres_Controller.py:214: SettingWithCopyWarning: \n",
      "A value is trying to be set on a copy of a slice from a DataFrame.\n",
      "Try using .loc[row_indexer,col_indexer] = value instead\n",
      "\n",
      "See the caveats in the documentation: https://pandas.pydata.org/pandas-docs/stable/user_guide/indexing.html#returning-a-view-versus-a-copy\n",
      "  percentiles['percentil_group'] = [percentile_group_id] * len(percentiles)\n"
     ]
    }
   ],
   "source": [
    "method_dict = {\n",
    "    'simple': {\n",
    "        'times': [],\n",
    "        'method': controller.simple_insert_percentile\n",
    "    },\n",
    "    'many': {\n",
    "        'times': [],\n",
    "        'method': controller.insert_many_percentile\n",
    "    },\n",
    "    'stringio': {\n",
    "        'times': [],\n",
    "        'method': controller.copy_from_stringio_percentile\n",
    "    }\n",
    "}\n",
    "\n",
    "\n",
    "for method in method_dict:\n",
    "    for i in range(1, 500, 50):\n",
    "        start = time.time()\n",
    "        controller.add_sampling_percentiles(results[:i], results_info, method_dict[method]['method'])\n",
    "        end = time.time()\n",
    "        method_dict[method]['times'].append(end-start)"
   ]
  },
  {
   "cell_type": "code",
   "execution_count": 15,
   "id": "direct-welcome",
   "metadata": {},
   "outputs": [],
   "source": [
    "%matplotlib inline\n",
    "import matplotlib.pyplot as plt"
   ]
  },
  {
   "cell_type": "code",
   "execution_count": 16,
   "id": "fluid-tracker",
   "metadata": {},
   "outputs": [
    {
     "data": {
      "image/png": "[encoded data removed]",
      "text/plain": [
       "<Figure size 432x288 with 1 Axes>"
      ]
     },
     "metadata": {
      "needs_background": "light"
     },
     "output_type": "display_data"
    }
   ],
   "source": [
    "x = range(1, 500, 50)\n",
    "for method in method_dict:\n",
    "    plt.plot(x, method_dict[method]['times'], label=method)\n",
    "\n",
    "plt.xlabel('number of percentiles')\n",
    "plt.ylabel('seconds')\n",
    "\n",
    "plt.legend();"
   ]
  },
  {
   "cell_type": "code",
   "execution_count": 21,
   "id": "liberal-watershed",
   "metadata": {},
   "outputs": [
    {
     "name": "stdout",
     "output_type": "stream",
     "text": [
      "Error: unsupported format character 'f' (0x66) at index 90\n",
      "CPU times: user 2.93 ms, sys: 127 µs, total: 3.06 ms\n",
      "Wall time: 649 ms\n"
     ]
    },
    {
     "data": {
      "text/plain": [
       "1"
      ]
     },
     "execution_count": 21,
     "metadata": {},
     "output_type": "execute_result"
    }
   ],
   "source": [
    "%%time\n",
    "controller.add_sampling_percentiles(results[:10], results_info, controller.insert_many_percentile)"
   ]
  },
  {
   "cell_type": "code",
   "execution_count": 22,
   "id": "premium-carrier",
   "metadata": {},
   "outputs": [
    {
     "data": {
      "text/plain": [
       "['gene_name', 'percentile', 'percentil_group']"
      ]
     },
     "execution_count": 22,
     "metadata": {},
     "output_type": "execute_result"
    }
   ],
   "source": [
    "list(results.columns)"
   ]
  }
 ],
 "metadata": {
  "kernelspec": {
   "display_name": "Python 3",
   "language": "python",
   "name": "python3"
  },
  "language_info": {
   "codemirror_mode": {
    "name": "ipython",
    "version": 3
   },
   "file_extension": ".py",
   "mimetype": "text/x-python",
   "name": "python",
   "nbconvert_exporter": "python",
   "pygments_lexer": "ipython3",
   "version": "3.8.8"
  }
 },
 "nbformat": 4,
 "nbformat_minor": 5
}
