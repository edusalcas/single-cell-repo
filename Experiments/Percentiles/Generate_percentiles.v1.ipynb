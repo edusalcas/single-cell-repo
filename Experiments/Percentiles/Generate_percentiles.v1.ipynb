{
 "cells": [
  {
   "cell_type": "markdown",
   "id": "historical-queen",
   "metadata": {},
   "source": [
    "# Generating percentiles"
   ]
  },
  {
   "cell_type": "markdown",
   "id": "passive-october",
   "metadata": {},
   "source": [
    "In this notebook we are going to generate the percentiles of a project. We are going to make use of the functionality explained in the notebook *Percentile_groups*.\n",
    "\n",
    "Given a project, we can divide it into subgroups depending on the characteristics of the project. Once divided we will generate as many percentile groups as we have subgroups. \n",
    "\n",
    "The basic structure of subgroups is as follows:\n",
    "\n",
    "```python\n",
    "[\n",
    "    {\n",
    "        'dataframe': <pandas dataframe object>, # df of the subgroup\n",
    "        'specie': 'homo sapiens',\n",
    "        'organ': 'brain',\n",
    "        'disease': 'parkinson'\n",
    "    },\n",
    "    {\n",
    "        'dataframe': <pandas dataframe object>, # df of the subgroup\n",
    "        'specie': 'homo sapiens',\n",
    "        'organ': 'brain',\n",
    "        'disease': 'brain cancer'\n",
    "    }\n",
    "]\n",
    "```"
   ]
  },
  {
   "cell_type": "markdown",
   "id": "hawaiian-lesson",
   "metadata": {},
   "source": [
    "In order to create the percentiles, we also need the expression matrix and the cell names of the matrix."
   ]
  },
  {
   "cell_type": "code",
   "execution_count": 16,
   "id": "aboriginal-picnic",
   "metadata": {},
   "outputs": [],
   "source": [
    "from Percentile_groups import read_files, process_metadata, get_groups_from_project_multiple"
   ]
  },
  {
   "cell_type": "markdown",
   "id": "checked-documentary",
   "metadata": {},
   "source": [
    "We are using the same project used in the *Percentile_groups* notebook. This project can be found in https://www.ebi.ac.uk/gxa/sc/experiments/E-MTAB-7678/experiment-design."
   ]
  },
  {
   "cell_type": "code",
   "execution_count": 2,
   "id": "mental-proposition",
   "metadata": {},
   "outputs": [],
   "source": [
    "project_ID = 'E-MTAB-7678'"
   ]
  },
  {
   "cell_type": "markdown",
   "id": "clear-recipient",
   "metadata": {},
   "source": [
    "Before getting the subgroups, we can examine the files of this project."
   ]
  },
  {
   "cell_type": "code",
   "execution_count": 3,
   "id": "vocational-stress",
   "metadata": {},
   "outputs": [],
   "source": [
    "metadata, matrix, gene_names, cell_names = read_files(project_ID)"
   ]
  },
  {
   "cell_type": "code",
   "execution_count": 5,
   "id": "floating-stream",
   "metadata": {},
   "outputs": [
    {
     "name": "stdout",
     "output_type": "stream",
     "text": [
      "In metadata we have information of 7052 cells.\n",
      "Our matrix has dimensions of (7052, 19975).\n",
      "The matrix has 19975 genes and 7052 cells.\n"
     ]
    }
   ],
   "source": [
    "print(f\"In metadata we have information of {len(metadata)} cells.\")\n",
    "print(f\"Our matrix has dimensions of {matrix.A.shape}.\")\n",
    "print(f\"The matrix has {len(gene_names)} genes and {len(cell_names)} cells.\")"
   ]
  },
  {
   "cell_type": "code",
   "execution_count": 11,
   "id": "everyday-scheme",
   "metadata": {},
   "outputs": [],
   "source": [
    "metadata = process_metadata(metadata, cell_names)"
   ]
  },
  {
   "cell_type": "code",
   "execution_count": 13,
   "id": "italic-solomon",
   "metadata": {},
   "outputs": [
    {
     "data": {
      "text/plain": [
       "True"
      ]
     },
     "execution_count": 13,
     "metadata": {},
     "output_type": "execute_result"
    }
   ],
   "source": [
    "cell_names['Assay'].equals(metadata['Assay'])"
   ]
  },
  {
   "cell_type": "markdown",
   "id": "comfortable-handy",
   "metadata": {},
   "source": [
    "As we can see, the cells in the metadata are the same (and in the same order) as the cells in the matrix."
   ]
  },
  {
   "cell_type": "markdown",
   "id": "animated-ethnic",
   "metadata": {},
   "source": [
    "## Obtaining the subgroups"
   ]
  },
  {
   "cell_type": "code",
   "execution_count": 18,
   "id": "decent-interstate",
   "metadata": {},
   "outputs": [],
   "source": [
    "from Percentile_groups import get_groups_from_project_multiple, print_subgroups"
   ]
  },
  {
   "cell_type": "code",
   "execution_count": 14,
   "id": "distributed-australia",
   "metadata": {},
   "outputs": [],
   "source": [
    "common_characteristics = [\n",
    "    'organism',\n",
    "    'organism part',\n",
    "    'sampling site',\n",
    "    'biopsy site',\n",
    "    'metastatic site',\n",
    "    'developmental stage',\n",
    "    'cell line',\n",
    "    'disease'\n",
    "]\n",
    "\n",
    "characterictics_groups = [\n",
    "    common_characteristics + ['cell type'],\n",
    "    common_characteristics + ['inferred cell type - ontology labels'],\n",
    "    common_characteristics + ['inferred cell type - authors labels'],\n",
    "]"
   ]
  },
  {
   "cell_type": "code",
   "execution_count": 17,
   "id": "entire-piece",
   "metadata": {},
   "outputs": [],
   "source": [
    "row, subgroups = get_groups_from_project_multiple(project_ID, characterictics_groups)"
   ]
  },
  {
   "cell_type": "markdown",
   "id": "original-capacity",
   "metadata": {},
   "source": [
    "We can use the `print_subgroups` function to see how our subgroups looks like."
   ]
  },
  {
   "cell_type": "code",
   "execution_count": 19,
   "id": "attractive-ability",
   "metadata": {},
   "outputs": [
    {
     "name": "stdout",
     "output_type": "stream",
     "text": [
      "Subgroup 0:\n",
      "\tNumber of cells: 2718\n",
      "\torganism: Mus musculus\n",
      "\torganism part: lung\n",
      "\tdevelopmental stage: adult\n",
      "\tcell type: classical monocyte\n",
      "Subgroup 1:\n",
      "\tNumber of cells: 4334\n",
      "\torganism: Mus musculus\n",
      "\torganism part: lung\n",
      "\tdevelopmental stage: adult\n",
      "\tcell type: lung macrophage\n"
     ]
    }
   ],
   "source": [
    "print_subgroups(subgroups)"
   ]
  },
  {
   "cell_type": "markdown",
   "id": "consolidated-prison",
   "metadata": {},
   "source": [
    "## Calculating percentiles"
   ]
  },
  {
   "cell_type": "markdown",
   "id": "working-tissue",
   "metadata": {},
   "source": [
    "Now we have the subgroups, we want to obtain the percentile of each one. To archieve that, we are first explaining what we are going to do step by step.\n",
    "\n",
    "As we said before, the cells in the subgroups (part of the metadata) are the same and in the same order as the cells in the matrix. Knowing that, we can index the matrix to obtain the matrix with the cells of the subgroup."
   ]
  },
  {
   "cell_type": "code",
   "execution_count": 21,
   "id": "recognized-begin",
   "metadata": {
    "scrolled": true
   },
   "outputs": [
    {
     "data": {
      "text/html": [
       "<div>\n",
       "<style scoped>\n",
       "    .dataframe tbody tr th:only-of-type {\n",
       "        vertical-align: middle;\n",
       "    }\n",
       "\n",
       "    .dataframe tbody tr th {\n",
       "        vertical-align: top;\n",
       "    }\n",
       "\n",
       "    .dataframe thead th {\n",
       "        text-align: right;\n",
       "    }\n",
       "</style>\n",
       "<table border=\"1\" class=\"dataframe\">\n",
       "  <thead>\n",
       "    <tr style=\"text-align: right;\">\n",
       "      <th></th>\n",
       "      <th>Assay</th>\n",
       "      <th>organism</th>\n",
       "      <th>strain</th>\n",
       "      <th>age</th>\n",
       "      <th>developmental stage</th>\n",
       "      <th>sex</th>\n",
       "      <th>genotype</th>\n",
       "      <th>organism part</th>\n",
       "      <th>cell type</th>\n",
       "      <th>immunophenotype</th>\n",
       "    </tr>\n",
       "  </thead>\n",
       "  <tbody>\n",
       "    <tr>\n",
       "      <th>4334</th>\n",
       "      <td>SAMEA5367305-AAACCTGAGACTGGGT</td>\n",
       "      <td>Mus musculus</td>\n",
       "      <td>C57BL/6J</td>\n",
       "      <td>10 week</td>\n",
       "      <td>adult</td>\n",
       "      <td>female</td>\n",
       "      <td>wild type genotype</td>\n",
       "      <td>lung</td>\n",
       "      <td>classical monocyte</td>\n",
       "      <td>CD45+ F4/80+ CD11c- Ly6C hi CD64-</td>\n",
       "    </tr>\n",
       "    <tr>\n",
       "      <th>4335</th>\n",
       "      <td>SAMEA5367305-AAACCTGAGCTGAACG</td>\n",
       "      <td>Mus musculus</td>\n",
       "      <td>C57BL/6J</td>\n",
       "      <td>10 week</td>\n",
       "      <td>adult</td>\n",
       "      <td>female</td>\n",
       "      <td>wild type genotype</td>\n",
       "      <td>lung</td>\n",
       "      <td>classical monocyte</td>\n",
       "      <td>CD45+ F4/80+ CD11c- Ly6C hi CD64-</td>\n",
       "    </tr>\n",
       "    <tr>\n",
       "      <th>4336</th>\n",
       "      <td>SAMEA5367305-AAACCTGAGTAGGCCA</td>\n",
       "      <td>Mus musculus</td>\n",
       "      <td>C57BL/6J</td>\n",
       "      <td>10 week</td>\n",
       "      <td>adult</td>\n",
       "      <td>female</td>\n",
       "      <td>wild type genotype</td>\n",
       "      <td>lung</td>\n",
       "      <td>classical monocyte</td>\n",
       "      <td>CD45+ F4/80+ CD11c- Ly6C hi CD64-</td>\n",
       "    </tr>\n",
       "    <tr>\n",
       "      <th>4337</th>\n",
       "      <td>SAMEA5367305-AAACCTGTCCAAGCCG</td>\n",
       "      <td>Mus musculus</td>\n",
       "      <td>C57BL/6J</td>\n",
       "      <td>10 week</td>\n",
       "      <td>adult</td>\n",
       "      <td>female</td>\n",
       "      <td>wild type genotype</td>\n",
       "      <td>lung</td>\n",
       "      <td>classical monocyte</td>\n",
       "      <td>CD45+ F4/80+ CD11c- Ly6C hi CD64-</td>\n",
       "    </tr>\n",
       "    <tr>\n",
       "      <th>4338</th>\n",
       "      <td>SAMEA5367305-AAACGGGCAGCCAATT</td>\n",
       "      <td>Mus musculus</td>\n",
       "      <td>C57BL/6J</td>\n",
       "      <td>10 week</td>\n",
       "      <td>adult</td>\n",
       "      <td>female</td>\n",
       "      <td>wild type genotype</td>\n",
       "      <td>lung</td>\n",
       "      <td>classical monocyte</td>\n",
       "      <td>CD45+ F4/80+ CD11c- Ly6C hi CD64-</td>\n",
       "    </tr>\n",
       "    <tr>\n",
       "      <th>...</th>\n",
       "      <td>...</td>\n",
       "      <td>...</td>\n",
       "      <td>...</td>\n",
       "      <td>...</td>\n",
       "      <td>...</td>\n",
       "      <td>...</td>\n",
       "      <td>...</td>\n",
       "      <td>...</td>\n",
       "      <td>...</td>\n",
       "      <td>...</td>\n",
       "    </tr>\n",
       "    <tr>\n",
       "      <th>7047</th>\n",
       "      <td>SAMEA5367306-TTTGCGCTCCTAGGGC</td>\n",
       "      <td>Mus musculus</td>\n",
       "      <td>C57BL/6J</td>\n",
       "      <td>10 week</td>\n",
       "      <td>adult</td>\n",
       "      <td>female</td>\n",
       "      <td>wild type genotype</td>\n",
       "      <td>lung</td>\n",
       "      <td>classical monocyte</td>\n",
       "      <td>CD45+ F4/80+ CD11c- Ly6C lo CD64-</td>\n",
       "    </tr>\n",
       "    <tr>\n",
       "      <th>7048</th>\n",
       "      <td>SAMEA5367306-TTTGCGCTCCTCAATT</td>\n",
       "      <td>Mus musculus</td>\n",
       "      <td>C57BL/6J</td>\n",
       "      <td>10 week</td>\n",
       "      <td>adult</td>\n",
       "      <td>female</td>\n",
       "      <td>wild type genotype</td>\n",
       "      <td>lung</td>\n",
       "      <td>classical monocyte</td>\n",
       "      <td>CD45+ F4/80+ CD11c- Ly6C lo CD64-</td>\n",
       "    </tr>\n",
       "    <tr>\n",
       "      <th>7049</th>\n",
       "      <td>SAMEA5367306-TTTGGTTTCGGATGGA</td>\n",
       "      <td>Mus musculus</td>\n",
       "      <td>C57BL/6J</td>\n",
       "      <td>10 week</td>\n",
       "      <td>adult</td>\n",
       "      <td>female</td>\n",
       "      <td>wild type genotype</td>\n",
       "      <td>lung</td>\n",
       "      <td>classical monocyte</td>\n",
       "      <td>CD45+ F4/80+ CD11c- Ly6C lo CD64-</td>\n",
       "    </tr>\n",
       "    <tr>\n",
       "      <th>7050</th>\n",
       "      <td>SAMEA5367306-TTTGTCACAATGAATG</td>\n",
       "      <td>Mus musculus</td>\n",
       "      <td>C57BL/6J</td>\n",
       "      <td>10 week</td>\n",
       "      <td>adult</td>\n",
       "      <td>female</td>\n",
       "      <td>wild type genotype</td>\n",
       "      <td>lung</td>\n",
       "      <td>classical monocyte</td>\n",
       "      <td>CD45+ F4/80+ CD11c- Ly6C lo CD64-</td>\n",
       "    </tr>\n",
       "    <tr>\n",
       "      <th>7051</th>\n",
       "      <td>SAMEA5367306-TTTGTCACACAACGCC</td>\n",
       "      <td>Mus musculus</td>\n",
       "      <td>C57BL/6J</td>\n",
       "      <td>10 week</td>\n",
       "      <td>adult</td>\n",
       "      <td>female</td>\n",
       "      <td>wild type genotype</td>\n",
       "      <td>lung</td>\n",
       "      <td>classical monocyte</td>\n",
       "      <td>CD45+ F4/80+ CD11c- Ly6C lo CD64-</td>\n",
       "    </tr>\n",
       "  </tbody>\n",
       "</table>\n",
       "<p>2718 rows × 10 columns</p>\n",
       "</div>"
      ],
      "text/plain": [
       "                              Assay      organism    strain      age  \\\n",
       "4334  SAMEA5367305-AAACCTGAGACTGGGT  Mus musculus  C57BL/6J  10 week   \n",
       "4335  SAMEA5367305-AAACCTGAGCTGAACG  Mus musculus  C57BL/6J  10 week   \n",
       "4336  SAMEA5367305-AAACCTGAGTAGGCCA  Mus musculus  C57BL/6J  10 week   \n",
       "4337  SAMEA5367305-AAACCTGTCCAAGCCG  Mus musculus  C57BL/6J  10 week   \n",
       "4338  SAMEA5367305-AAACGGGCAGCCAATT  Mus musculus  C57BL/6J  10 week   \n",
       "...                             ...           ...       ...      ...   \n",
       "7047  SAMEA5367306-TTTGCGCTCCTAGGGC  Mus musculus  C57BL/6J  10 week   \n",
       "7048  SAMEA5367306-TTTGCGCTCCTCAATT  Mus musculus  C57BL/6J  10 week   \n",
       "7049  SAMEA5367306-TTTGGTTTCGGATGGA  Mus musculus  C57BL/6J  10 week   \n",
       "7050  SAMEA5367306-TTTGTCACAATGAATG  Mus musculus  C57BL/6J  10 week   \n",
       "7051  SAMEA5367306-TTTGTCACACAACGCC  Mus musculus  C57BL/6J  10 week   \n",
       "\n",
       "     developmental stage     sex            genotype organism part  \\\n",
       "4334               adult  female  wild type genotype          lung   \n",
       "4335               adult  female  wild type genotype          lung   \n",
       "4336               adult  female  wild type genotype          lung   \n",
       "4337               adult  female  wild type genotype          lung   \n",
       "4338               adult  female  wild type genotype          lung   \n",
       "...                  ...     ...                 ...           ...   \n",
       "7047               adult  female  wild type genotype          lung   \n",
       "7048               adult  female  wild type genotype          lung   \n",
       "7049               adult  female  wild type genotype          lung   \n",
       "7050               adult  female  wild type genotype          lung   \n",
       "7051               adult  female  wild type genotype          lung   \n",
       "\n",
       "               cell type                    immunophenotype  \n",
       "4334  classical monocyte  CD45+ F4/80+ CD11c- Ly6C hi CD64-  \n",
       "4335  classical monocyte  CD45+ F4/80+ CD11c- Ly6C hi CD64-  \n",
       "4336  classical monocyte  CD45+ F4/80+ CD11c- Ly6C hi CD64-  \n",
       "4337  classical monocyte  CD45+ F4/80+ CD11c- Ly6C hi CD64-  \n",
       "4338  classical monocyte  CD45+ F4/80+ CD11c- Ly6C hi CD64-  \n",
       "...                  ...                                ...  \n",
       "7047  classical monocyte  CD45+ F4/80+ CD11c- Ly6C lo CD64-  \n",
       "7048  classical monocyte  CD45+ F4/80+ CD11c- Ly6C lo CD64-  \n",
       "7049  classical monocyte  CD45+ F4/80+ CD11c- Ly6C lo CD64-  \n",
       "7050  classical monocyte  CD45+ F4/80+ CD11c- Ly6C lo CD64-  \n",
       "7051  classical monocyte  CD45+ F4/80+ CD11c- Ly6C lo CD64-  \n",
       "\n",
       "[2718 rows x 10 columns]"
      ]
     },
     "execution_count": 21,
     "metadata": {},
     "output_type": "execute_result"
    }
   ],
   "source": [
    "sub = subgroups[0]\n",
    "sub['dataframe']"
   ]
  },
  {
   "cell_type": "code",
   "execution_count": 26,
   "id": "maritime-alexander",
   "metadata": {},
   "outputs": [
    {
     "name": "stdout",
     "output_type": "stream",
     "text": [
      "2718\n"
     ]
    }
   ],
   "source": [
    "sub_cells_index = sub['dataframe']['Assay'].index\n",
    "print(len(sub_cells_index))"
   ]
  },
  {
   "cell_type": "code",
   "execution_count": 29,
   "id": "august-ghost",
   "metadata": {},
   "outputs": [
    {
     "name": "stdout",
     "output_type": "stream",
     "text": [
      "The matrix of the subgroup has shape (2718, 19975)\n"
     ]
    }
   ],
   "source": [
    "sub_matrix = matrix.A[sub_cells_index]\n",
    "print(f\"The matrix of the subgroup has shape {sub_matrix.shape}\")"
   ]
  },
  {
   "cell_type": "code",
   "execution_count": 31,
   "id": "stuffed-isaac",
   "metadata": {},
   "outputs": [],
   "source": [
    "import numpy as np"
   ]
  },
  {
   "cell_type": "code",
   "execution_count": 42,
   "id": "loved-system",
   "metadata": {},
   "outputs": [
    {
     "name": "stdout",
     "output_type": "stream",
     "text": [
      "We have an array of mean expresion for 19975 genes. An example of the first 5 items:\n",
      "[ 66.43592566   1.88408312   0.42475511   7.80919696 423.00130105]\n"
     ]
    }
   ],
   "source": [
    "sub_matrix_mean = np.mean(sub_matrix, axis=0)\n",
    "print(f\"We have an array of mean expresion for {len(sub_matrix_mean)} genes. An example of the first 5 items:\")\n",
    "print(sub_matrix_mean[:5])"
   ]
  },
  {
   "cell_type": "markdown",
   "id": "mechanical-november",
   "metadata": {},
   "source": [
    "However, when generating the percentiles, we do not want to take into account genes that have a mean expression of 0, as we consider that these genes are not expressed in these cells."
   ]
  },
  {
   "cell_type": "code",
   "execution_count": 60,
   "id": "relative-mongolia",
   "metadata": {
    "scrolled": true
   },
   "outputs": [
    {
     "name": "stdout",
     "output_type": "stream",
     "text": [
      "We have 314 genes that are not expressed in our array.\n"
     ]
    }
   ],
   "source": [
    "print(f\"We have {np.sum(sub_matrix_mean == 0)} genes that are not expressed in our array.\")"
   ]
  },
  {
   "cell_type": "code",
   "execution_count": 49,
   "id": "circular-marks",
   "metadata": {},
   "outputs": [
    {
     "name": "stdout",
     "output_type": "stream",
     "text": [
      "Removing zeros from the mean expression array, we have 19661 genes expressed.\n"
     ]
    }
   ],
   "source": [
    "sub_matrix_mean_without_zeros = sub_matrix_mean[sub_matrix_mean != 0]\n",
    "print(f\"Removing zeros from the mean expression array, we have {len(sub_matrix_mean_without_zeros)} genes expressed.\")"
   ]
  },
  {
   "cell_type": "markdown",
   "id": "rural-corruption",
   "metadata": {},
   "source": [
    "### Explaining percentiles"
   ]
  },
  {
   "cell_type": "markdown",
   "id": "undefined-optimum",
   "metadata": {},
   "source": [
    "In statistics, a percentile (or a centile) is a score below which a given percentage of scores in its frequency distribution falls (exclusive definition) or a score at or below which a given percentage falls (inclusive definition).\n",
    "\n",
    "We are using the `scipy.stats` module function `percentileofscore`. In this function there are multiple types of percentiles. We will see an example of them.\n",
    "\n",
    "More of this function in https://docs.scipy.org/doc/scipy/reference/generated/scipy.stats.percentileofscore.html"
   ]
  },
  {
   "cell_type": "code",
   "execution_count": 43,
   "id": "silent-occupation",
   "metadata": {},
   "outputs": [],
   "source": [
    "from scipy.stats import percentileofscore"
   ]
  },
  {
   "cell_type": "code",
   "execution_count": 52,
   "id": "phantom-press",
   "metadata": {},
   "outputs": [
    {
     "name": "stdout",
     "output_type": "stream",
     "text": [
      "[20.0, 40.0, 70.0, 70.0, 100.0]\n",
      "[20.0, 40.0, 80.0, 80.0, 100.0]\n",
      "[0.0, 20.0, 40.0, 40.0, 80.0]\n",
      "[10.0, 30.0, 60.0, 60.0, 90.0]\n"
     ]
    }
   ],
   "source": [
    "l = [1, 2, 3, 3, 4]\n",
    "\n",
    "print([percentileofscore(l, x, 'rank') for x in l])\n",
    "print([percentileofscore(l, x, 'weak') for x in l])\n",
    "print([percentileofscore(l, x, 'strict') for x in l])\n",
    "print([percentileofscore(l, x, 'mean') for x in l])"
   ]
  },
  {
   "cell_type": "markdown",
   "id": "assigned-rough",
   "metadata": {},
   "source": [
    "We are interested in the *rank*, *weak* or *mean* percentile type, since we dont want any expressed gene to have a 0% percentile. We will select, for example, the *weak* type."
   ]
  },
  {
   "cell_type": "markdown",
   "id": "anticipated-transfer",
   "metadata": {},
   "source": [
    "### Generate percentiles"
   ]
  },
  {
   "cell_type": "markdown",
   "id": "extensive-lloyd",
   "metadata": {},
   "source": [
    "As we have said, we will not take into account genes that are not expressed when calculating percentiles. However, these genes will have a percentile of 0% to indicate that they are not expressed."
   ]
  },
  {
   "cell_type": "code",
   "execution_count": 56,
   "id": "mineral-expert",
   "metadata": {},
   "outputs": [
    {
     "name": "stdout",
     "output_type": "stream",
     "text": [
      "We have 19975 percentiles for the subgroup. We can see the first 5 percentiles:\n",
      "[87.6354203753624, 28.838817964498247, 14.505874574029805, 48.28340369258939, 98.2554295305427]\n"
     ]
    }
   ],
   "source": [
    "sub_matrix_percentiles = [percentileofscore(sub_matrix_mean_without_zeros, x, 'weak') for x in sub_matrix_mean]\n",
    "print(f\"We have {len(sub_matrix_percentiles)} percentiles for the subgroup. We can see the first 5 percentiles:\")\n",
    "print(sub_matrix_percentiles[:5])"
   ]
  },
  {
   "cell_type": "markdown",
   "id": "cloudy-medium",
   "metadata": {},
   "source": [
    "## Saving percentiles"
   ]
  },
  {
   "cell_type": "markdown",
   "id": "baking-agent",
   "metadata": {},
   "source": [
    "The best way to save the percentiles generated, since we want to insert them into the postgres database, is to build a dataframe and save is as a csv. There are two ways of build the dataframe that we are going to see. In both of them the gene_names are needed."
   ]
  },
  {
   "cell_type": "code",
   "execution_count": 82,
   "id": "characteristic-polymer",
   "metadata": {},
   "outputs": [
    {
     "data": {
      "text/html": [
       "<div>\n",
       "<style scoped>\n",
       "    .dataframe tbody tr th:only-of-type {\n",
       "        vertical-align: middle;\n",
       "    }\n",
       "\n",
       "    .dataframe tbody tr th {\n",
       "        vertical-align: top;\n",
       "    }\n",
       "\n",
       "    .dataframe thead th {\n",
       "        text-align: right;\n",
       "    }\n",
       "</style>\n",
       "<table border=\"1\" class=\"dataframe\">\n",
       "  <thead>\n",
       "    <tr style=\"text-align: right;\">\n",
       "      <th></th>\n",
       "      <th>Gen_Name</th>\n",
       "    </tr>\n",
       "  </thead>\n",
       "  <tbody>\n",
       "    <tr>\n",
       "      <th>0</th>\n",
       "      <td>ENSMUSG00000000001\\tENSMUSG00000000001</td>\n",
       "    </tr>\n",
       "    <tr>\n",
       "      <th>1</th>\n",
       "      <td>ENSMUSG00000000028\\tENSMUSG00000000028</td>\n",
       "    </tr>\n",
       "    <tr>\n",
       "      <th>2</th>\n",
       "      <td>ENSMUSG00000000037\\tENSMUSG00000000037</td>\n",
       "    </tr>\n",
       "    <tr>\n",
       "      <th>3</th>\n",
       "      <td>ENSMUSG00000000056\\tENSMUSG00000000056</td>\n",
       "    </tr>\n",
       "    <tr>\n",
       "      <th>4</th>\n",
       "      <td>ENSMUSG00000000058\\tENSMUSG00000000058</td>\n",
       "    </tr>\n",
       "    <tr>\n",
       "      <th>...</th>\n",
       "      <td>...</td>\n",
       "    </tr>\n",
       "    <tr>\n",
       "      <th>19970</th>\n",
       "      <td>ENSMUSG00000118618\\tENSMUSG00000118618</td>\n",
       "    </tr>\n",
       "    <tr>\n",
       "      <th>19971</th>\n",
       "      <td>ENSMUSG00000118623\\tENSMUSG00000118623</td>\n",
       "    </tr>\n",
       "    <tr>\n",
       "      <th>19972</th>\n",
       "      <td>ENSMUSG00000118626\\tENSMUSG00000118626</td>\n",
       "    </tr>\n",
       "    <tr>\n",
       "      <th>19973</th>\n",
       "      <td>ENSMUSG00000118633\\tENSMUSG00000118633</td>\n",
       "    </tr>\n",
       "    <tr>\n",
       "      <th>19974</th>\n",
       "      <td>ENSMUSG00000118640\\tENSMUSG00000118640</td>\n",
       "    </tr>\n",
       "  </tbody>\n",
       "</table>\n",
       "<p>19975 rows × 1 columns</p>\n",
       "</div>"
      ],
      "text/plain": [
       "                                     Gen_Name\n",
       "0      ENSMUSG00000000001\\tENSMUSG00000000001\n",
       "1      ENSMUSG00000000028\\tENSMUSG00000000028\n",
       "2      ENSMUSG00000000037\\tENSMUSG00000000037\n",
       "3      ENSMUSG00000000056\\tENSMUSG00000000056\n",
       "4      ENSMUSG00000000058\\tENSMUSG00000000058\n",
       "...                                       ...\n",
       "19970  ENSMUSG00000118618\\tENSMUSG00000118618\n",
       "19971  ENSMUSG00000118623\\tENSMUSG00000118623\n",
       "19972  ENSMUSG00000118626\\tENSMUSG00000118626\n",
       "19973  ENSMUSG00000118633\\tENSMUSG00000118633\n",
       "19974  ENSMUSG00000118640\\tENSMUSG00000118640\n",
       "\n",
       "[19975 rows x 1 columns]"
      ]
     },
     "execution_count": 82,
     "metadata": {},
     "output_type": "execute_result"
    }
   ],
   "source": [
    "gene_names"
   ]
  },
  {
   "cell_type": "markdown",
   "id": "unexpected-commitment",
   "metadata": {},
   "source": [
    "And as we can see, the gene names are 'duplicated'. Fixing it is pretty simple."
   ]
  },
  {
   "cell_type": "code",
   "execution_count": 85,
   "id": "julian-romance",
   "metadata": {},
   "outputs": [
    {
     "data": {
      "text/html": [
       "<div>\n",
       "<style scoped>\n",
       "    .dataframe tbody tr th:only-of-type {\n",
       "        vertical-align: middle;\n",
       "    }\n",
       "\n",
       "    .dataframe tbody tr th {\n",
       "        vertical-align: top;\n",
       "    }\n",
       "\n",
       "    .dataframe thead th {\n",
       "        text-align: right;\n",
       "    }\n",
       "</style>\n",
       "<table border=\"1\" class=\"dataframe\">\n",
       "  <thead>\n",
       "    <tr style=\"text-align: right;\">\n",
       "      <th></th>\n",
       "      <th>Gen_Name</th>\n",
       "    </tr>\n",
       "  </thead>\n",
       "  <tbody>\n",
       "    <tr>\n",
       "      <th>0</th>\n",
       "      <td>ENSMUSG00000000001</td>\n",
       "    </tr>\n",
       "    <tr>\n",
       "      <th>1</th>\n",
       "      <td>ENSMUSG00000000028</td>\n",
       "    </tr>\n",
       "    <tr>\n",
       "      <th>2</th>\n",
       "      <td>ENSMUSG00000000037</td>\n",
       "    </tr>\n",
       "    <tr>\n",
       "      <th>3</th>\n",
       "      <td>ENSMUSG00000000056</td>\n",
       "    </tr>\n",
       "    <tr>\n",
       "      <th>4</th>\n",
       "      <td>ENSMUSG00000000058</td>\n",
       "    </tr>\n",
       "    <tr>\n",
       "      <th>...</th>\n",
       "      <td>...</td>\n",
       "    </tr>\n",
       "    <tr>\n",
       "      <th>19970</th>\n",
       "      <td>ENSMUSG00000118618</td>\n",
       "    </tr>\n",
       "    <tr>\n",
       "      <th>19971</th>\n",
       "      <td>ENSMUSG00000118623</td>\n",
       "    </tr>\n",
       "    <tr>\n",
       "      <th>19972</th>\n",
       "      <td>ENSMUSG00000118626</td>\n",
       "    </tr>\n",
       "    <tr>\n",
       "      <th>19973</th>\n",
       "      <td>ENSMUSG00000118633</td>\n",
       "    </tr>\n",
       "    <tr>\n",
       "      <th>19974</th>\n",
       "      <td>ENSMUSG00000118640</td>\n",
       "    </tr>\n",
       "  </tbody>\n",
       "</table>\n",
       "<p>19975 rows × 1 columns</p>\n",
       "</div>"
      ],
      "text/plain": [
       "                 Gen_Name\n",
       "0      ENSMUSG00000000001\n",
       "1      ENSMUSG00000000028\n",
       "2      ENSMUSG00000000037\n",
       "3      ENSMUSG00000000056\n",
       "4      ENSMUSG00000000058\n",
       "...                   ...\n",
       "19970  ENSMUSG00000118618\n",
       "19971  ENSMUSG00000118623\n",
       "19972  ENSMUSG00000118626\n",
       "19973  ENSMUSG00000118633\n",
       "19974  ENSMUSG00000118640\n",
       "\n",
       "[19975 rows x 1 columns]"
      ]
     },
     "execution_count": 85,
     "metadata": {},
     "output_type": "execute_result"
    }
   ],
   "source": [
    "gene_names['Gen_Name'] = gene_names['Gen_Name'].apply(lambda x: x.split('\\t')[1])\n",
    "gene_names"
   ]
  },
  {
   "cell_type": "markdown",
   "id": "vital-accountability",
   "metadata": {},
   "source": [
    "### Dense CSV"
   ]
  },
  {
   "cell_type": "markdown",
   "id": "banner-respondent",
   "metadata": {},
   "source": [
    "Here we create a CSV with a row per gene, and columns for the percentile, gene name and subgroup information."
   ]
  },
  {
   "cell_type": "code",
   "execution_count": 57,
   "id": "constant-shoulder",
   "metadata": {},
   "outputs": [],
   "source": [
    "import pandas as pd"
   ]
  },
  {
   "cell_type": "code",
   "execution_count": 139,
   "id": "handed-period",
   "metadata": {},
   "outputs": [
    {
     "data": {
      "text/html": [
       "<div>\n",
       "<style scoped>\n",
       "    .dataframe tbody tr th:only-of-type {\n",
       "        vertical-align: middle;\n",
       "    }\n",
       "\n",
       "    .dataframe tbody tr th {\n",
       "        vertical-align: top;\n",
       "    }\n",
       "\n",
       "    .dataframe thead th {\n",
       "        text-align: right;\n",
       "    }\n",
       "</style>\n",
       "<table border=\"1\" class=\"dataframe\">\n",
       "  <thead>\n",
       "    <tr style=\"text-align: right;\">\n",
       "      <th></th>\n",
       "      <th>project_id</th>\n",
       "      <th>metadata</th>\n",
       "      <th>gene_name</th>\n",
       "      <th>percentile</th>\n",
       "      <th>number_genes</th>\n",
       "      <th>number_cells</th>\n",
       "    </tr>\n",
       "  </thead>\n",
       "  <tbody>\n",
       "    <tr>\n",
       "      <th>0</th>\n",
       "      <td>E-MTAB-7678</td>\n",
       "      <td>{'organism': 'Mus musculus', 'organism part': ...</td>\n",
       "      <td>ENSMUSG00000000001</td>\n",
       "      <td>87.635420</td>\n",
       "      <td>19661</td>\n",
       "      <td>2718</td>\n",
       "    </tr>\n",
       "    <tr>\n",
       "      <th>1</th>\n",
       "      <td>E-MTAB-7678</td>\n",
       "      <td>{'organism': 'Mus musculus', 'organism part': ...</td>\n",
       "      <td>ENSMUSG00000000028</td>\n",
       "      <td>28.838818</td>\n",
       "      <td>19661</td>\n",
       "      <td>2718</td>\n",
       "    </tr>\n",
       "    <tr>\n",
       "      <th>2</th>\n",
       "      <td>E-MTAB-7678</td>\n",
       "      <td>{'organism': 'Mus musculus', 'organism part': ...</td>\n",
       "      <td>ENSMUSG00000000037</td>\n",
       "      <td>14.505875</td>\n",
       "      <td>19661</td>\n",
       "      <td>2718</td>\n",
       "    </tr>\n",
       "    <tr>\n",
       "      <th>3</th>\n",
       "      <td>E-MTAB-7678</td>\n",
       "      <td>{'organism': 'Mus musculus', 'organism part': ...</td>\n",
       "      <td>ENSMUSG00000000056</td>\n",
       "      <td>48.283404</td>\n",
       "      <td>19661</td>\n",
       "      <td>2718</td>\n",
       "    </tr>\n",
       "    <tr>\n",
       "      <th>4</th>\n",
       "      <td>E-MTAB-7678</td>\n",
       "      <td>{'organism': 'Mus musculus', 'organism part': ...</td>\n",
       "      <td>ENSMUSG00000000058</td>\n",
       "      <td>98.255430</td>\n",
       "      <td>19661</td>\n",
       "      <td>2718</td>\n",
       "    </tr>\n",
       "    <tr>\n",
       "      <th>...</th>\n",
       "      <td>...</td>\n",
       "      <td>...</td>\n",
       "      <td>...</td>\n",
       "      <td>...</td>\n",
       "      <td>...</td>\n",
       "      <td>...</td>\n",
       "    </tr>\n",
       "    <tr>\n",
       "      <th>19970</th>\n",
       "      <td>E-MTAB-7678</td>\n",
       "      <td>{'organism': 'Mus musculus', 'organism part': ...</td>\n",
       "      <td>ENSMUSG00000118618</td>\n",
       "      <td>1.571639</td>\n",
       "      <td>19661</td>\n",
       "      <td>2718</td>\n",
       "    </tr>\n",
       "    <tr>\n",
       "      <th>19971</th>\n",
       "      <td>E-MTAB-7678</td>\n",
       "      <td>{'organism': 'Mus musculus', 'organism part': ...</td>\n",
       "      <td>ENSMUSG00000118623</td>\n",
       "      <td>1.942933</td>\n",
       "      <td>19661</td>\n",
       "      <td>2718</td>\n",
       "    </tr>\n",
       "    <tr>\n",
       "      <th>19972</th>\n",
       "      <td>E-MTAB-7678</td>\n",
       "      <td>{'organism': 'Mus musculus', 'organism part': ...</td>\n",
       "      <td>ENSMUSG00000118626</td>\n",
       "      <td>48.263059</td>\n",
       "      <td>19661</td>\n",
       "      <td>2718</td>\n",
       "    </tr>\n",
       "    <tr>\n",
       "      <th>19973</th>\n",
       "      <td>E-MTAB-7678</td>\n",
       "      <td>{'organism': 'Mus musculus', 'organism part': ...</td>\n",
       "      <td>ENSMUSG00000118633</td>\n",
       "      <td>59.183154</td>\n",
       "      <td>19661</td>\n",
       "      <td>2718</td>\n",
       "    </tr>\n",
       "    <tr>\n",
       "      <th>19974</th>\n",
       "      <td>E-MTAB-7678</td>\n",
       "      <td>{'organism': 'Mus musculus', 'organism part': ...</td>\n",
       "      <td>ENSMUSG00000118640</td>\n",
       "      <td>0.142414</td>\n",
       "      <td>19661</td>\n",
       "      <td>2718</td>\n",
       "    </tr>\n",
       "  </tbody>\n",
       "</table>\n",
       "<p>19975 rows × 6 columns</p>\n",
       "</div>"
      ],
      "text/plain": [
       "        project_id                                           metadata  \\\n",
       "0      E-MTAB-7678  {'organism': 'Mus musculus', 'organism part': ...   \n",
       "1      E-MTAB-7678  {'organism': 'Mus musculus', 'organism part': ...   \n",
       "2      E-MTAB-7678  {'organism': 'Mus musculus', 'organism part': ...   \n",
       "3      E-MTAB-7678  {'organism': 'Mus musculus', 'organism part': ...   \n",
       "4      E-MTAB-7678  {'organism': 'Mus musculus', 'organism part': ...   \n",
       "...            ...                                                ...   \n",
       "19970  E-MTAB-7678  {'organism': 'Mus musculus', 'organism part': ...   \n",
       "19971  E-MTAB-7678  {'organism': 'Mus musculus', 'organism part': ...   \n",
       "19972  E-MTAB-7678  {'organism': 'Mus musculus', 'organism part': ...   \n",
       "19973  E-MTAB-7678  {'organism': 'Mus musculus', 'organism part': ...   \n",
       "19974  E-MTAB-7678  {'organism': 'Mus musculus', 'organism part': ...   \n",
       "\n",
       "                gene_name  percentile  number_genes  number_cells  \n",
       "0      ENSMUSG00000000001   87.635420         19661          2718  \n",
       "1      ENSMUSG00000000028   28.838818         19661          2718  \n",
       "2      ENSMUSG00000000037   14.505875         19661          2718  \n",
       "3      ENSMUSG00000000056   48.283404         19661          2718  \n",
       "4      ENSMUSG00000000058   98.255430         19661          2718  \n",
       "...                   ...         ...           ...           ...  \n",
       "19970  ENSMUSG00000118618    1.571639         19661          2718  \n",
       "19971  ENSMUSG00000118623    1.942933         19661          2718  \n",
       "19972  ENSMUSG00000118626   48.263059         19661          2718  \n",
       "19973  ENSMUSG00000118633   59.183154         19661          2718  \n",
       "19974  ENSMUSG00000118640    0.142414         19661          2718  \n",
       "\n",
       "[19975 rows x 6 columns]"
      ]
     },
     "execution_count": 139,
     "metadata": {},
     "output_type": "execute_result"
    }
   ],
   "source": [
    "n_genes = len(gene_names)\n",
    "\n",
    "sub_copy = sub.copy()\n",
    "del sub_copy['dataframe']\n",
    "\n",
    "sub_matrix_results = pd.DataFrame(data = {\n",
    "    'project_id': [project_ID] * n_genes,\n",
    "    'metadata': [str(sub_copy)] * n_genes,\n",
    "    'gene_name': gene_names['Gen_Name'],\n",
    "    'percentile': sub_matrix_percentiles,\n",
    "    'number_genes': [len(sub_matrix_mean_without_zeros)] * n_genes,\n",
    "    'number_cells': [len(sub['dataframe'])] * n_genes\n",
    "})\n",
    "\n",
    "sub_matrix_results"
   ]
  },
  {
   "cell_type": "code",
   "execution_count": 134,
   "id": "polar-stretch",
   "metadata": {},
   "outputs": [],
   "source": [
    "sub_matrix_results.to_csv(project_ID + '.v0.csv', index=False)"
   ]
  },
  {
   "cell_type": "markdown",
   "id": "junior-genealogy",
   "metadata": {},
   "source": [
    "### Light CSV"
   ]
  },
  {
   "cell_type": "markdown",
   "id": "assigned-religion",
   "metadata": {},
   "source": [
    "Here, we create two dataframes, one with the percentiles and their genes and other with the subgroup information."
   ]
  },
  {
   "cell_type": "code",
   "execution_count": 135,
   "id": "cubic-wrist",
   "metadata": {},
   "outputs": [
    {
     "data": {
      "text/html": [
       "<div>\n",
       "<style scoped>\n",
       "    .dataframe tbody tr th:only-of-type {\n",
       "        vertical-align: middle;\n",
       "    }\n",
       "\n",
       "    .dataframe tbody tr th {\n",
       "        vertical-align: top;\n",
       "    }\n",
       "\n",
       "    .dataframe thead th {\n",
       "        text-align: right;\n",
       "    }\n",
       "</style>\n",
       "<table border=\"1\" class=\"dataframe\">\n",
       "  <thead>\n",
       "    <tr style=\"text-align: right;\">\n",
       "      <th></th>\n",
       "      <th>gene_name</th>\n",
       "      <th>percentile</th>\n",
       "    </tr>\n",
       "  </thead>\n",
       "  <tbody>\n",
       "    <tr>\n",
       "      <th>0</th>\n",
       "      <td>ENSMUSG00000000001</td>\n",
       "      <td>87.635420</td>\n",
       "    </tr>\n",
       "    <tr>\n",
       "      <th>1</th>\n",
       "      <td>ENSMUSG00000000028</td>\n",
       "      <td>28.838818</td>\n",
       "    </tr>\n",
       "    <tr>\n",
       "      <th>2</th>\n",
       "      <td>ENSMUSG00000000037</td>\n",
       "      <td>14.505875</td>\n",
       "    </tr>\n",
       "    <tr>\n",
       "      <th>3</th>\n",
       "      <td>ENSMUSG00000000056</td>\n",
       "      <td>48.283404</td>\n",
       "    </tr>\n",
       "    <tr>\n",
       "      <th>4</th>\n",
       "      <td>ENSMUSG00000000058</td>\n",
       "      <td>98.255430</td>\n",
       "    </tr>\n",
       "    <tr>\n",
       "      <th>...</th>\n",
       "      <td>...</td>\n",
       "      <td>...</td>\n",
       "    </tr>\n",
       "    <tr>\n",
       "      <th>19970</th>\n",
       "      <td>ENSMUSG00000118618</td>\n",
       "      <td>1.571639</td>\n",
       "    </tr>\n",
       "    <tr>\n",
       "      <th>19971</th>\n",
       "      <td>ENSMUSG00000118623</td>\n",
       "      <td>1.942933</td>\n",
       "    </tr>\n",
       "    <tr>\n",
       "      <th>19972</th>\n",
       "      <td>ENSMUSG00000118626</td>\n",
       "      <td>48.263059</td>\n",
       "    </tr>\n",
       "    <tr>\n",
       "      <th>19973</th>\n",
       "      <td>ENSMUSG00000118633</td>\n",
       "      <td>59.183154</td>\n",
       "    </tr>\n",
       "    <tr>\n",
       "      <th>19974</th>\n",
       "      <td>ENSMUSG00000118640</td>\n",
       "      <td>0.142414</td>\n",
       "    </tr>\n",
       "  </tbody>\n",
       "</table>\n",
       "<p>19975 rows × 2 columns</p>\n",
       "</div>"
      ],
      "text/plain": [
       "                gene_name  percentile\n",
       "0      ENSMUSG00000000001   87.635420\n",
       "1      ENSMUSG00000000028   28.838818\n",
       "2      ENSMUSG00000000037   14.505875\n",
       "3      ENSMUSG00000000056   48.283404\n",
       "4      ENSMUSG00000000058   98.255430\n",
       "...                   ...         ...\n",
       "19970  ENSMUSG00000118618    1.571639\n",
       "19971  ENSMUSG00000118623    1.942933\n",
       "19972  ENSMUSG00000118626   48.263059\n",
       "19973  ENSMUSG00000118633   59.183154\n",
       "19974  ENSMUSG00000118640    0.142414\n",
       "\n",
       "[19975 rows x 2 columns]"
      ]
     },
     "execution_count": 135,
     "metadata": {},
     "output_type": "execute_result"
    }
   ],
   "source": [
    "sub_matrix_results = pd.DataFrame(data = {\n",
    "    'gene_name': gene_names['Gen_Name'],\n",
    "    'percentile': sub_matrix_percentiles\n",
    "})\n",
    "\n",
    "sub_matrix_results"
   ]
  },
  {
   "cell_type": "code",
   "execution_count": 140,
   "id": "civil-marina",
   "metadata": {},
   "outputs": [
    {
     "data": {
      "text/html": [
       "<div>\n",
       "<style scoped>\n",
       "    .dataframe tbody tr th:only-of-type {\n",
       "        vertical-align: middle;\n",
       "    }\n",
       "\n",
       "    .dataframe tbody tr th {\n",
       "        vertical-align: top;\n",
       "    }\n",
       "\n",
       "    .dataframe thead th {\n",
       "        text-align: right;\n",
       "    }\n",
       "</style>\n",
       "<table border=\"1\" class=\"dataframe\">\n",
       "  <thead>\n",
       "    <tr style=\"text-align: right;\">\n",
       "      <th></th>\n",
       "      <th>project_id</th>\n",
       "      <th>metadata</th>\n",
       "      <th>number_genes</th>\n",
       "      <th>number_cells</th>\n",
       "    </tr>\n",
       "  </thead>\n",
       "  <tbody>\n",
       "    <tr>\n",
       "      <th>0</th>\n",
       "      <td>E-MTAB-7678</td>\n",
       "      <td>{'organism': 'Mus musculus', 'organism part': ...</td>\n",
       "      <td>19661</td>\n",
       "      <td>2718</td>\n",
       "    </tr>\n",
       "  </tbody>\n",
       "</table>\n",
       "</div>"
      ],
      "text/plain": [
       "    project_id                                           metadata  \\\n",
       "0  E-MTAB-7678  {'organism': 'Mus musculus', 'organism part': ...   \n",
       "\n",
       "   number_genes  number_cells  \n",
       "0         19661          2718  "
      ]
     },
     "execution_count": 140,
     "metadata": {},
     "output_type": "execute_result"
    }
   ],
   "source": [
    "sub_copy = sub.copy()\n",
    "del sub_copy['dataframe']\n",
    "\n",
    "sub_matrix_results_info = pd.DataFrame([{\n",
    "    'project_id': project_ID,\n",
    "    'metadata': str(sub_copy),\n",
    "    'number_genes': len(sub_matrix_mean_without_zeros),\n",
    "    'number_cells': len(sub['dataframe'])\n",
    "}])\n",
    "\n",
    "sub_matrix_results_info"
   ]
  },
  {
   "cell_type": "code",
   "execution_count": 137,
   "id": "fiscal-drill",
   "metadata": {},
   "outputs": [],
   "source": [
    "sub_matrix_results.to_csv(project_ID + '.v2.csv', index=False)\n",
    "sub_matrix_results_info.to_csv(project_ID + '_info.v2.csv', index=False)"
   ]
  },
  {
   "cell_type": "markdown",
   "id": "circular-dragon",
   "metadata": {},
   "source": [
    "### Comparing CSVs"
   ]
  },
  {
   "cell_type": "markdown",
   "id": "vocational-extent",
   "metadata": {},
   "source": [
    "With the dense CSV we have all the information in one dataframe, and it make easier to insert the data into the database. We can even append this dense dataframe for the other subgroups of the project or even to other projects dataframes. However, with this approach we have a lot of information repeated unnecessarily, leading to an increase in the space it occupies.\n",
    "\n",
    "On the other hand, we have the ligh CSV approach, here we will have more documents (2 per subgroup) but saving a lot of space. Also, the process of insertion into the database can be a bit more tedious as we have to navigate over more files."
   ]
  },
  {
   "cell_type": "code",
   "execution_count": 142,
   "id": "existing-backing",
   "metadata": {},
   "outputs": [
    {
     "name": "stdout",
     "output_type": "stream",
     "text": [
      "3,5M\tE-MTAB-7678.v0.csv\n",
      "724K\tE-MTAB-7678.v2.csv\n",
      "4,0K\tE-MTAB-7678_info.v2.csv\n"
     ]
    }
   ],
   "source": [
    "%%bash\n",
    "du -h E-MTAB-7678*"
   ]
  }
 ],
 "metadata": {
  "kernelspec": {
   "display_name": "Python 3",
   "language": "python",
   "name": "python3"
  },
  "language_info": {
   "codemirror_mode": {
    "name": "ipython",
    "version": 3
   },
   "file_extension": ".py",
   "mimetype": "text/x-python",
   "name": "python",
   "nbconvert_exporter": "python",
   "pygments_lexer": "ipython3",
   "version": "3.8.8"
  }
 },
 "nbformat": 4,
 "nbformat_minor": 5
}
