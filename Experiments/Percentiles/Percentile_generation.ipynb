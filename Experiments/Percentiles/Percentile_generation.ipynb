{
 "cells": [
  {
   "cell_type": "code",
   "execution_count": 1,
   "metadata": {},
   "outputs": [],
   "source": [
    "import os\n",
    "import sys\n",
    "module_path = os.path.abspath(os.path.join('..'))\n",
    "\n",
    "if module_path not in sys.path:\n",
    "    sys.path.append(module_path)"
   ]
  },
  {
   "cell_type": "code",
   "execution_count": 2,
   "metadata": {},
   "outputs": [],
   "source": [
    "import requests\n",
    "\n",
    "from IPython.display import clear_output\n",
    "\n",
    "from Percentile_groups import get_groups_from_project_multiple\n",
    "from PercentileCreation import generate_percentiles\n",
    "from Database.Postgres_Controller import PostgresController"
   ]
  },
  {
   "cell_type": "code",
   "execution_count": 3,
   "metadata": {},
   "outputs": [],
   "source": [
    "project_IDs = requests.get('http://194.4.103.57:5000/project/metadata/project_ID').json()"
   ]
  },
  {
   "cell_type": "code",
   "execution_count": 4,
   "metadata": {},
   "outputs": [],
   "source": [
    "characterictics_groups = [\n",
    "    [\n",
    "        'organism',\n",
    "        'cell type',\n",
    "        'developmental stage',\n",
    "        'disease',\n",
    "        'organism part',\n",
    "        'sampling site',\n",
    "        'biopsy site',\n",
    "        'metastatic site'\n",
    "    ],\n",
    "    [\n",
    "        'organism',\n",
    "        'developmental stage',\n",
    "        'inferred cell type - ontology labels',\n",
    "        'disease',\n",
    "        'organism part',\n",
    "        'sampling site',\n",
    "        'biopsy site',\n",
    "        'metastatic site'\n",
    "    ]\n",
    "]"
   ]
  },
  {
   "cell_type": "code",
   "execution_count": 5,
   "metadata": {},
   "outputs": [],
   "source": [
    "n_projects = len(project_IDs)\n",
    "controller = PostgresController()"
   ]
  },
  {
   "cell_type": "code",
   "execution_count": 7,
   "metadata": {},
   "outputs": [
    {
     "name": "stdout",
     "output_type": "stream",
     "text": [
      "187/187\n",
      "Creating percentiles for f8aa201c-4ff1-45a4-890e-840d63459ca2.\n",
      "Getting subsamplings...\n",
      "Generating percentiles for 9 samplings...\n",
      "\tPercentiles for sampling 1/9 created and added to database.\n",
      "\tPercentiles for sampling 2/9 created and added to database.\n",
      "\tPercentiles for sampling 3/9 created and added to database.\n",
      "\tPercentiles for sampling 4/9 created and added to database.\n",
      "\tPercentiles for sampling 5/9 created and added to database.\n",
      "\tPercentiles for sampling 6/9 created and added to database.\n",
      "\tPercentiles for sampling 7/9 created and added to database.\n",
      "\tPercentiles for sampling 8/9 created and added to database.\n",
      "\tPercentiles for sampling 9/9 created and added to database.\n"
     ]
    }
   ],
   "source": [
    "for n, project_ID in enumerate(project_IDs[185:]):\n",
    "    clear_output(wait=True)\n",
    "    print(f\"{n+1+185}/{n_projects}\")\n",
    "    print(f\"Creating percentiles for {project_ID}.\")\n",
    "    \n",
    "    print(\"Getting subsamplings...\")\n",
    "    _, subgroups_combinations, matrix, gene_names = get_groups_from_project_multiple(project_ID, characterictics_groups, return_all=True, return_matrix=True)\n",
    "    \n",
    "    subgroups = [item for sublist in subgroups_combinations for item in sublist]\n",
    "    n_samplings = len(subgroups)\n",
    "    \n",
    "    print(f\"Generating percentiles for {n_samplings} samplings...\")\n",
    "    for n, subgroup in enumerate(subgroups):\n",
    "        percentiles, sampling_info = generate_percentiles(project_ID, subgroup, matrix, gene_names)\n",
    "        controller.add_sampling_percentiles(percentiles, sampling_info, controller.copy_from_stringio_percentile)\n",
    "        print(f\"\\tPercentiles for sampling {n+1}/{n_samplings} created and added to database.\")"
   ]
  },
  {
   "cell_type": "code",
   "execution_count": null,
   "metadata": {},
   "outputs": [],
   "source": []
  }
 ],
 "metadata": {
  "kernelspec": {
   "display_name": "Python 3",
   "language": "python",
   "name": "python3"
  },
  "language_info": {
   "codemirror_mode": {
    "name": "ipython",
    "version": 3
   },
   "file_extension": ".py",
   "mimetype": "text/x-python",
   "name": "python",
   "nbconvert_exporter": "python",
   "pygments_lexer": "ipython3",
   "version": "3.8.8"
  }
 },
 "nbformat": 4,
 "nbformat_minor": 4
}
