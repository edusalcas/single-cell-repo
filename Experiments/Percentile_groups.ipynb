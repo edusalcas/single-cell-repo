{
 "cells": [
  {
   "cell_type": "markdown",
   "id": "alpine-portrait",
   "metadata": {},
   "source": [
    "# Getting percentile groups from a project"
   ]
  },
  {
   "cell_type": "markdown",
   "id": "recent-concert",
   "metadata": {},
   "source": [
    "In this notebook, we are going to show the process we follow when generating the different subgroups of cells of a project in order to later create the percentiles. These subgroups will be obtained following an algorithm, according to the different characteristics and conditions of a project.\n",
    "\n",
    "Another objetive of this notebook is to generate a table with a row per project and a column for each characteristic combination, with the goal of get the number of subgroups we can get of a project.\n",
    "\n",
    "An important fact in the subgroup generation is that, even all the combinations of characterictics are posible, we will are using a subset of these combinations. Since we want the subgroups to be as specific as posible, we will go straight forward instead of get all the possible combinations.\n",
    "\n",
    "\n",
    "\n",
    "Here we can see an example of the table structure:\n",
    "\n",
    "| Project_ID | X0 | X1 | X2 | X0-X1 | X0-X2 | X1-X2 | X0-X1-X2 |\n",
    "| --- | --- | --- | --- | --- | --- | --- | --- |\n",
    "| 000 | 1 | 0 | 0 | 2 | 0 | 0 | 4 |\n",
    "| 001 | 0 | 5 | 0 | 0 | 0 | 0 | 0 |\n",
    "| 002 | 1 | 0 | 0 | 0 | 10 | 0 | 0 |\n",
    "\n",
    "In this example, we can see that the project with the id *000* has all the characterictics and the number of subgroups are calculated for the combinations *X0*, *X0-X1* and *X0-X1-X2*; the second project just has X1 and the last one has *X0* and *X2*, so number of subgroups are calculated for the combinations *X0* and *X0-X2*."
   ]
  },
  {
   "cell_type": "markdown",
   "id": "obvious-groove",
   "metadata": {},
   "source": [
    "## Algorithm explanation"
   ]
  },
  {
   "cell_type": "markdown",
   "id": "treated-madness",
   "metadata": {},
   "source": [
    "First, we are explaining the main algorithm, explaining some keypoints. We will call this main function `get_groups_from_project`, and it get as a param the ID of a project. To understand what this algorithm does, we will first look at the pseudocode of the function, and then explain the variables used and the auxiliary functions."
   ]
  },
  {
   "cell_type": "markdown",
   "id": "bibliographic-piece",
   "metadata": {},
   "source": [
    "### Main function"
   ]
  },
  {
   "cell_type": "markdown",
   "id": "hollywood-tackle",
   "metadata": {},
   "source": [
    "Here is the pseudocode of the function:\n",
    "\n",
    "```\n",
    "function get_groups_from_project(project_ID):\n",
    "    characteristics <- list of characteristics we will use to divide in groups\n",
    "    metadata <- read_metadata(project_ID)\n",
    "    \n",
    "    subgroups <- init_subgroups(metadata, 'specie')\n",
    "    used_characteristics <- ['specie']\n",
    "    \n",
    "    row <- init_row(project_ID, used_characteristics + characterictics)\n",
    "    update_row(row, used_characteristics, subgroups)\n",
    "    \n",
    "    project_characteristics <- metadatos.columns\n",
    "    \n",
    "    for characteristic in characteristics:\n",
    "        if c not in project_characteristics\n",
    "            skip this characteristic\n",
    "        \n",
    "        subgroups_aux <- []\n",
    "        for subgroup in subgroups:\n",
    "            subgroup_aux <- get_subgroups(subgroup, characteristic)\n",
    "            \n",
    "            subgroups_aux <- subgroups_aux + subgroup_aux\n",
    "        \n",
    "        used_characteristics <- used_characteristics + [c]\n",
    "        subgroups <- subgroups_aux\n",
    "        update_row(row, used_characteristics, subgroups)\n",
    "\n",
    "    return row, subgroups\n",
    "```"
   ]
  },
  {
   "cell_type": "markdown",
   "id": "narrative-florida",
   "metadata": {},
   "source": [
    "The variables we use are use for:\n",
    "\n",
    "- **characteristics**: A list of the characteristics we will use for divide the cells in groups.\n",
    "- **metadata**: A dataframe with the project information. Here we can find a row per cell and a column of each characteristic.\n",
    "- **subgroups**: A list of the groups we have at the moment, obtained using *used_characterictics* for divide the dataframe. Each subgroup is a python dictionary with the dataframe of the group and the characterictics used in the division. An example of subgroup can be:\n",
    "\n",
    "```\n",
    "    {\n",
    "        'dataframe': <pandas dataframe object>,\n",
    "        'specie': 'homo sapiens',\n",
    "        'cell_type': 'neuron',\n",
    "        'organ': 'brain'\n",
    "    }\n",
    "```\n",
    "- **used_characterictics**: A list of the characterictics from *characterictics* that have been used to divide the cells in subgroups.\n",
    "- **row**: The row of tha table with the number of subgroups for each combination. In our case it is a dictionary.\n",
    "- **project_characterisic**: The list of characterstics that the project uses."
   ]
  },
  {
   "cell_type": "markdown",
   "id": "vanilla-amino",
   "metadata": {},
   "source": [
    "As we can see, the function just seen is making use of some other functions, which we are going to explain in the next sections. These functions are:\n",
    "\n",
    "- read_metadata\n",
    "- init_subgroups\n",
    "- get_subgroups\n",
    "- init_row\n",
    "- update_row"
   ]
  },
  {
   "cell_type": "markdown",
   "id": "chronic-efficiency",
   "metadata": {},
   "source": [
    "### Reading metadata"
   ]
  },
  {
   "cell_type": "markdown",
   "id": "closing-grass",
   "metadata": {},
   "source": [
    "### Getting subgroups "
   ]
  },
  {
   "cell_type": "markdown",
   "id": "contemporary-intensity",
   "metadata": {},
   "source": [
    "### Managing rows"
   ]
  },
  {
   "cell_type": "markdown",
   "id": "sharp-associate",
   "metadata": {},
   "source": [
    "## Algorithm implementation"
   ]
  },
  {
   "cell_type": "code",
   "execution_count": 6,
   "id": "extended-talent",
   "metadata": {},
   "outputs": [],
   "source": [
    "def get_groups_from_project(project_ID, characteristics):\n",
    "    \"\"\"Generate the groups for percentile creation using characteristics to divide.\n",
    "\n",
    "    Parameters\n",
    "    ----------\n",
    "    project_ID : str\n",
    "        The ID of a project\n",
    "    characteristics : list\n",
    "        List of str with the characteristics used to divide the project\n",
    "\n",
    "    Returns\n",
    "    -------\n",
    "    \n",
    "    row: dict\n",
    "        The row (dictionary) with the number of subgroups created with each combination\n",
    "    subgroups: list\n",
    "        A list with dictionaries containing the groups, the characteristics and the values used for the division.\n",
    "    \"\"\"\n",
    "    \n",
    "    # Read the metadata file using the API\n",
    "    metadata = read_metadata(project_ID)\n",
    "    \n",
    "    # Initialitation of parameters\n",
    "    subgroups = init_subgroups(metadata, 'specie')\n",
    "    used_characteristics = ['specie']\n",
    "    \n",
    "    row = init_row(project_ID, used_characteristics + characterictics)\n",
    "    update_row(row, used_characteristics, subgroups)\n",
    "    \n",
    "    project_characteristics = metadatos.columns\n",
    "    \n",
    "    # Start the subgroup generation using the characteristics\n",
    "    for characteristic in characteristics:\n",
    "        # If the characteristic is not in the project, we skip it\n",
    "        if c not in project_characteristics:\n",
    "            continue\n",
    "        \n",
    "        # For each subgroup created, divide it using the current characteristic\n",
    "        subgroups_aux = []\n",
    "        for subgroup in subgroups:\n",
    "            subgroup_aux = get_subgroups(subgroup, characteristic)\n",
    "            \n",
    "            subgroups_aux = subgroups_aux + subgroup_aux\n",
    "        \n",
    "        # Update parameters\n",
    "        used_characteristics = used_characteristics + [c]\n",
    "        subgroups = subgroups_aux\n",
    "        update_row(row, used_characteristics, subgroups)\n",
    "\n",
    "    return row, subgroups"
   ]
  }
 ],
 "metadata": {
  "kernelspec": {
   "display_name": "Python 3",
   "language": "python",
   "name": "python3"
  },
  "language_info": {
   "codemirror_mode": {
    "name": "ipython",
    "version": 3
   },
   "file_extension": ".py",
   "mimetype": "text/x-python",
   "name": "python",
   "nbconvert_exporter": "python",
   "pygments_lexer": "ipython3",
   "version": "3.8.8"
  }
 },
 "nbformat": 4,
 "nbformat_minor": 5
}
