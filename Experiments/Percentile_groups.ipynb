{
 "cells": [
  {
   "cell_type": "markdown",
   "id": "alpine-portrait",
   "metadata": {},
   "source": [
    "# Getting percentile groups from a project"
   ]
  },
  {
   "cell_type": "markdown",
   "id": "recent-concert",
   "metadata": {},
   "source": [
    "In this notebook, we are going to show the process we follow when generating the different subgroups of cells of a project in order to later create the percentiles. These subgroups will be obtained following an algorithm, according to the different characteristics and conditions of a project.\n",
    "\n",
    "Another objetive of this notebook is to generate a table with a row per project and a column for each characteristic combination, with the goal of get the number of subgroups we can get of a project.\n",
    "\n",
    "An important fact in the subgroup generation is that, even all the combinations of characteristics are posible, we will are using a subset of these combinations. Since we want the subgroups to be as specific as posible, we will go straight forward instead of get all the possible combinations.\n",
    "\n",
    "\n",
    "\n",
    "Here we can see an example of the table structure:\n",
    "\n",
    "| Project_ID | X0 | X1 | X2 | X0-X1 | X0-X2 | X1-X2 | X0-X1-X2 |\n",
    "| --- | --- | --- | --- | --- | --- | --- | --- |\n",
    "| 000 | 1 | 0 | 0 | 2 | 0 | 0 | 4 |\n",
    "| 001 | 0 | 5 | 0 | 0 | 0 | 0 | 0 |\n",
    "| 002 | 1 | 0 | 0 | 0 | 10 | 0 | 0 |\n",
    "\n",
    "In this example, we can see that the project with the id *000* has all the characteristics and the number of subgroups are calculated for the combinations *X0*, *X0-X1* and *X0-X1-X2*; the second project just has X1 and the last one has *X0* and *X2*, so number of subgroups are calculated for the combinations *X0* and *X0-X2*."
   ]
  },
  {
   "cell_type": "markdown",
   "id": "obvious-groove",
   "metadata": {},
   "source": [
    "## Algorithm explanation"
   ]
  },
  {
   "cell_type": "markdown",
   "id": "treated-madness",
   "metadata": {},
   "source": [
    "First, we are explaining the main algorithm, explaining some keypoints. We will call this main function `get_groups_from_project`, and it get as a param the ID of a project. To understand what this algorithm does, we will first look at the pseudocode of the function, and then explain the variables used and the auxiliary functions."
   ]
  },
  {
   "cell_type": "markdown",
   "id": "bibliographic-piece",
   "metadata": {},
   "source": [
    "### Main function"
   ]
  },
  {
   "cell_type": "markdown",
   "id": "compound-bacteria",
   "metadata": {},
   "source": [
    "The frist part of the function consist in reading the metadata and initializing the variables we are going to use (these variables are explained below). Then, we try to divide the data with every characteristic if it is present in the data, building the row with the number of groups per combination, and, finally, we return the row and the subgroups created.\n",
    "\n",
    "An important step is the stop condition: there are remaining characteristics to divide and we still have some subgroups to divide (a subgroup has to meet some conditions to be considered valid)."
   ]
  },
  {
   "cell_type": "markdown",
   "id": "hollywood-tackle",
   "metadata": {},
   "source": [
    "Here is the pseudocode of the function:\n",
    "\n",
    "---\n",
    "```\n",
    "function get_groups_from_project(project_ID):\n",
    "    characteristics <- list of characteristics we will use to divide in groups\n",
    "    metadata <- read_metadata(project_ID)\n",
    "    \n",
    "    subgroups <- init_subgroups(metadata)\n",
    "    used_characteristics <- []\n",
    "    \n",
    "    row <- init_row(project_ID, characteristics)\n",
    "    \n",
    "    project_characteristics <- metadatos.columns\n",
    "    \n",
    "    for characteristic in characteristics:\n",
    "        if c not in project_characteristics\n",
    "            skip this characteristic\n",
    "        \n",
    "        subgroups_aux <- []\n",
    "        for subgroup in subgroups:\n",
    "            subgroup_aux <- get_subgroups(subgroup, characteristic)\n",
    "            \n",
    "            subgroups_aux <- subgroups_aux + subgroup_aux\n",
    "        \n",
    "        used_characteristics <- used_characteristics + [c]\n",
    "        subgroups <- subgroups_aux\n",
    "        \n",
    "        if subgroups is empty:\n",
    "            break\n",
    "        \n",
    "        update_row(row, used_characteristics, subgroups)\n",
    "\n",
    "    return row, subgroups\n",
    "```\n",
    "---"
   ]
  },
  {
   "cell_type": "markdown",
   "id": "narrative-florida",
   "metadata": {},
   "source": [
    "The variables we use are use for:\n",
    "\n",
    "- **characteristics**: A list of the characteristics we will use for divide the cells in groups.\n",
    "- **metadata**: A dataframe with the project information. Here we can find a row per cell and a column of each characteristic.\n",
    "- **subgroups**: A list of the groups we have at the moment, obtained using *used_characteristics* for divide the dataframe. Each subgroup is a python dictionary with the dataframe of the group and the characteristics used in the division. An example of subgroup can be:\n",
    "\n",
    "```python\n",
    "    {\n",
    "        'dataframe': <pandas dataframe object>,\n",
    "        'specie': 'homo sapiens',\n",
    "        'cell_type': 'neuron',\n",
    "        'organ': 'brain'\n",
    "    }\n",
    "```\n",
    "- **used_characteristics**: A list of the characteristics from *characteristics* that have been used to divide the cells in subgroups.\n",
    "- **row**: The row of tha table with the number of subgroups for each combination. In our case it is a dictionary.\n",
    "- **project_characterisic**: The list of characterstics that the project uses."
   ]
  },
  {
   "cell_type": "markdown",
   "id": "vanilla-amino",
   "metadata": {},
   "source": [
    "As we can see, the function just seen is making use of some other functions, which we are going to explain in the next sections. These functions are:\n",
    "\n",
    "- read_metadata\n",
    "- init_subgroups\n",
    "- get_subgroups\n",
    "- init_row\n",
    "- update_row"
   ]
  },
  {
   "cell_type": "markdown",
   "id": "chronic-efficiency",
   "metadata": {},
   "source": [
    "### Reading metadata"
   ]
  },
  {
   "cell_type": "markdown",
   "id": "starting-newark",
   "metadata": {},
   "source": [
    "The first thing to do is to read the metadata that will contain the information of the projects related to the characteristics for each cell studied with which we want to divide the project into groups. To archieve that, we have design a method that uses the API-REST to get the download link of a project and read the metadata."
   ]
  },
  {
   "cell_type": "markdown",
   "id": "cubic-rebecca",
   "metadata": {},
   "source": [
    "We can see the pseudocode of the function here:\n",
    "\n",
    "---\n",
    "```\n",
    "function read_metadata(project_ID):\n",
    "    links <- obtain links of the projects from the API\n",
    "    \n",
    "    if metadata_link in links:\n",
    "        return metadata\n",
    "        \n",
    "    return error - no metadata for this project\n",
    "```\n",
    "---"
   ]
  },
  {
   "cell_type": "markdown",
   "id": "palestinian-luther",
   "metadata": {},
   "source": [
    "It is a very simple function that first query the API for the links and then return the dataframe if it exists."
   ]
  },
  {
   "cell_type": "markdown",
   "id": "closing-grass",
   "metadata": {},
   "source": [
    "### Getting subgroups "
   ]
  },
  {
   "cell_type": "markdown",
   "id": "breathing-publication",
   "metadata": {},
   "source": [
    "In this part, we are going to explain how we divide a group in the corresponding subgroups using a characteristic. Given a group (a python dictionary object) and a characteristic, we can do a `groupby` by this characteristic and return a subgroup for each value. \n",
    "\n",
    "Also, not all subgroups will be considered valid, for a subgroup to be valid, it has to fulfill that this group consists of 25 cells or more. This is done so that the calculation of the percentiles is meaningful since a smaller number of cells would make the calculation too insignificant."
   ]
  },
  {
   "cell_type": "markdown",
   "id": "naval-disney",
   "metadata": {},
   "source": [
    "Now, we can take a look at the pseudocode of the function called `get_subgroups`:\n",
    "\n",
    "---\n",
    "```\n",
    "function get_subgroups(group, characteristic):\n",
    "    dataframe <- group['dataframe']\n",
    "    groupby <- dataframe.groupby(characteristic)\n",
    "    \n",
    "    subgroups <- []\n",
    "    for value, subgroup in groupby:\n",
    "        if n_cells(subgroup) < 25:\n",
    "            skip this subgroup\n",
    "            \n",
    "        new_subgroup <- group.copy()\n",
    "        new_subgroup['dataframe'] <- subgroup\n",
    "        new_subgroup[characteristic] <- value\n",
    "        subgroups <- subgroups + new_subgroup\n",
    "    \n",
    "    return subgroups\n",
    "```\n",
    "---"
   ]
  },
  {
   "cell_type": "markdown",
   "id": "desperate-organic",
   "metadata": {},
   "source": [
    "To clarify the use of the function, let's exemplify the following example. The parameters given to the function are *disease* as characteristic and this group:\n",
    "\n",
    "```python\n",
    "{\n",
    "    'dataframe': <pandas dataframe object>,\n",
    "    'specie': 'homo sapiens',\n",
    "    'organ': 'brain'\n",
    "}\n",
    "```\n",
    "\n",
    "Now, we have three diseases in this group: *parkinson*, *alzheimer* and *brain cancer*. Since the subgroup with the disease *kdhds* has 10 cells, it wont be consider as a valid subgroup. Knowing that, the list of subgroups we get is:\n",
    "\n",
    "```python\n",
    "[\n",
    "    {\n",
    "        'dataframe': <pandas dataframe object>, # df of the subgroup\n",
    "        'specie': 'homo sapiens',\n",
    "        'organ': 'brain',\n",
    "        'disease': 'parkinson'\n",
    "    },\n",
    "    {\n",
    "        'dataframe': <pandas dataframe object>, # df of the subgroup\n",
    "        'specie': 'homo sapiens',\n",
    "        'organ': 'brain',\n",
    "        'disease': 'brain cancer'\n",
    "    }\n",
    "]\n",
    "```"
   ]
  },
  {
   "cell_type": "markdown",
   "id": "ancient-adrian",
   "metadata": {},
   "source": [
    "However, in the main algorithm we dont have a 'subgroup', we have a dataframe with all the metadata. In order to initialize the subgroups, we can create the function called `init_subgroups`. This function creates a python dictionary only with the dataframe and returns it as a list. It is a pretty simple function as we can see in the pseudocode:\n",
    "\n",
    "---\n",
    "```\n",
    "function init_subgroups(metadata):\n",
    "    dictionary <- dictionary with metadata as 'dataframe'\n",
    "    subgroups <- [dictionary]\n",
    "    \n",
    "    return subgroups\n",
    "```\n",
    "---"
   ]
  },
  {
   "cell_type": "markdown",
   "id": "contemporary-intensity",
   "metadata": {},
   "source": [
    "### Managing rows"
   ]
  },
  {
   "cell_type": "markdown",
   "id": "arranged-edition",
   "metadata": {},
   "source": [
    "Finally, we have to mess with the creating and updating of the row with the number of subgroups per each combination. As we said before, this row will be a python dictionary with each combination. For the initiation of the row, we have created the function `init_row`, which gets all the combinations of the characteristics and creates a dictionary with each combination initialized at 0."
   ]
  },
  {
   "cell_type": "markdown",
   "id": "caring-performance",
   "metadata": {},
   "source": [
    "Here we can see the pseudocode of this function:\n",
    "\n",
    "---\n",
    "```\n",
    "function init_row(project_ID, characteristics):\n",
    "    combination_names <- get all combinations of the characteristics\n",
    "    row <- init dict with combination_names as keys, with a value of 0 for each key\n",
    "    row['project_ID'] <- project_ID\n",
    "    \n",
    "    return row\n",
    "```\n",
    "---"
   ]
  },
  {
   "cell_type": "markdown",
   "id": "introductory-freeware",
   "metadata": {},
   "source": [
    "An example of an empty row for the characteristics *X0*, *X1* and *X2* is:\n",
    "\n",
    "```python\n",
    "{\n",
    "    'project_ID': '000',\n",
    "    'X0': 0,\n",
    "    'X1': 0,\n",
    "    'X2': 0,\n",
    "    'X0-X1': 0,\n",
    "    'X0-X2': 0,\n",
    "    'X1-X2': 0,\n",
    "    'X0-X1-X2': 0\n",
    "}\n",
    "```"
   ]
  },
  {
   "cell_type": "markdown",
   "id": "quarterly-density",
   "metadata": {},
   "source": [
    "Once we have the row created, we can update the number of groups in a combination using the function `update_row`. This function recives as parameters the row, the characteristics used to create the subgroup and the subgroups created. With the characteristics used, it generates the name of the combination that corresponds to the name of the combinaition in the row. For example, if the subgroups have been created with the characterictictics *X1* and *X2*, the name generated is *X1-X2*. Finally, it updates the combination in the row with the number of subgroups."
   ]
  },
  {
   "cell_type": "markdown",
   "id": "acoustic-access",
   "metadata": {},
   "source": [
    "The pseudocode of this function is:\n",
    "\n",
    "---\n",
    "```\n",
    "function update_row(row, characteristics_used, subgroups):\n",
    "    n_subgroups <- length(subgroups)\n",
    "    combination_name <- generate name from characteristics_used\n",
    "    row[combination_name] <- n_subgroups\n",
    "```\n",
    "---"
   ]
  },
  {
   "cell_type": "markdown",
   "id": "sharp-associate",
   "metadata": {},
   "source": [
    "## Algorithm implementation"
   ]
  },
  {
   "cell_type": "markdown",
   "id": "round-bulletin",
   "metadata": {},
   "source": [
    "Now we undestand the algorithm, we can continue with the implementation of the methods explained.\n",
    "\n",
    "First, we will implement `read_metadata`, then we are going to implement the functions relationed with the subgroups: `init_subgroups` and `get_subgroups`, continuing with the functions for manage rows `init_row` and `update_row`, ending with the main function that uses all these functions `get_groups_from_project`."
   ]
  },
  {
   "cell_type": "markdown",
   "id": "hawaiian-naples",
   "metadata": {},
   "source": [
    "As we implement a method we will be testing it with a sample project from the *Single Cell Expresion Atlas* (SCEA) repository. This project can be found in https://www.ebi.ac.uk/gxa/sc/experiments/E-MTAB-7678/experiment-design."
   ]
  },
  {
   "cell_type": "code",
   "execution_count": 1,
   "id": "dangerous-climb",
   "metadata": {},
   "outputs": [],
   "source": [
    "project_ID = 'E-MTAB-7678'"
   ]
  },
  {
   "cell_type": "markdown",
   "id": "demonstrated-separate",
   "metadata": {},
   "source": [
    "### Reading metadata implementation"
   ]
  },
  {
   "cell_type": "code",
   "execution_count": 2,
   "id": "administrative-monster",
   "metadata": {},
   "outputs": [],
   "source": [
    "import requests    \n",
    "import pandas as pd"
   ]
  },
  {
   "cell_type": "code",
   "execution_count": 3,
   "id": "dietary-honduras",
   "metadata": {},
   "outputs": [],
   "source": [
    "def read_metadata(project_ID):\n",
    "    \"\"\"Return the metadata of the project with the project_ID\n",
    "    \n",
    "    Parameters\n",
    "    ----------\n",
    "    project_ID : str\n",
    "        The ID of a project\n",
    "\n",
    "    Returns\n",
    "    -------\n",
    "    \n",
    "    metadata: pandas dataframe\n",
    "        A dataframe of the project with its metadata\n",
    "    \"\"\"\n",
    "    \n",
    "    # Define the link and the metadata key name\n",
    "    API_downloads_link = 'http://localhost:5000/project/downloads/'\n",
    "    metadata_key_name = 'experimentDesignLink'\n",
    "    \n",
    "    # Get the download links of the project\n",
    "    links = requests.get(API_downloads_link + project_ID).json()\n",
    "    if not links: # If project doesn't exists\n",
    "        raise Exception(f'Project with ID {project_ID} not found')\n",
    "    links = links[0]\n",
    "    \n",
    "    # Return the metadata if it exists\n",
    "    if metadata_key_name in links:\n",
    "        metadata_link = links[metadata_key_name]\n",
    "        metadata = pd.read_csv(metadata_link, sep='\\t')\n",
    "        \n",
    "        return metadata\n",
    "\n",
    "    raise Exception('Metadata link not found')"
   ]
  },
  {
   "cell_type": "code",
   "execution_count": 42,
   "id": "desirable-broadcast",
   "metadata": {},
   "outputs": [
    {
     "data": {
      "text/html": [
       "<div>\n",
       "<style scoped>\n",
       "    .dataframe tbody tr th:only-of-type {\n",
       "        vertical-align: middle;\n",
       "    }\n",
       "\n",
       "    .dataframe tbody tr th {\n",
       "        vertical-align: top;\n",
       "    }\n",
       "\n",
       "    .dataframe thead th {\n",
       "        text-align: right;\n",
       "    }\n",
       "</style>\n",
       "<table border=\"1\" class=\"dataframe\">\n",
       "  <thead>\n",
       "    <tr style=\"text-align: right;\">\n",
       "      <th></th>\n",
       "      <th>Assay</th>\n",
       "      <th>Sample Characteristic[organism]</th>\n",
       "      <th>Sample Characteristic Ontology Term[organism]</th>\n",
       "      <th>Sample Characteristic[strain]</th>\n",
       "      <th>Sample Characteristic Ontology Term[strain]</th>\n",
       "      <th>Sample Characteristic[age]</th>\n",
       "      <th>Sample Characteristic Ontology Term[age]</th>\n",
       "      <th>Sample Characteristic[developmental stage]</th>\n",
       "      <th>Sample Characteristic Ontology Term[developmental stage]</th>\n",
       "      <th>Sample Characteristic[sex]</th>\n",
       "      <th>...</th>\n",
       "      <th>Sample Characteristic[organism part]</th>\n",
       "      <th>Sample Characteristic Ontology Term[organism part]</th>\n",
       "      <th>Sample Characteristic[cell type]</th>\n",
       "      <th>Sample Characteristic Ontology Term[cell type]</th>\n",
       "      <th>Sample Characteristic[immunophenotype]</th>\n",
       "      <th>Sample Characteristic Ontology Term[immunophenotype]</th>\n",
       "      <th>Factor Value[cell type]</th>\n",
       "      <th>Factor Value Ontology Term[cell type]</th>\n",
       "      <th>Factor Value[immunophenotype]</th>\n",
       "      <th>Factor Value Ontology Term[immunophenotype]</th>\n",
       "    </tr>\n",
       "  </thead>\n",
       "  <tbody>\n",
       "    <tr>\n",
       "      <th>0</th>\n",
       "      <td>SAMEA5367303-AAACCTGAGGATGTAT</td>\n",
       "      <td>Mus musculus</td>\n",
       "      <td>http://purl.obolibrary.org/obo/NCBITaxon_10090</td>\n",
       "      <td>C57BL/6J</td>\n",
       "      <td>http://www.ebi.ac.uk/efo/EFO_0000606</td>\n",
       "      <td>10 week</td>\n",
       "      <td>NaN</td>\n",
       "      <td>adult</td>\n",
       "      <td>http://www.ebi.ac.uk/efo/EFO_0001272</td>\n",
       "      <td>female</td>\n",
       "      <td>...</td>\n",
       "      <td>lung</td>\n",
       "      <td>http://purl.obolibrary.org/obo/UBERON_0002048</td>\n",
       "      <td>lung macrophage</td>\n",
       "      <td>http://purl.obolibrary.org/obo/CL_1001603</td>\n",
       "      <td>CD45+ F4/80+ CD11c- Ly6C lo CD64+</td>\n",
       "      <td>NaN</td>\n",
       "      <td>lung macrophage</td>\n",
       "      <td>http://purl.obolibrary.org/obo/CL_1001603</td>\n",
       "      <td>CD45+ F4/80+ CD11c- Ly6C lo CD64+</td>\n",
       "      <td>NaN</td>\n",
       "    </tr>\n",
       "    <tr>\n",
       "      <th>1</th>\n",
       "      <td>SAMEA5367303-AAACCTGCACCGTTGG</td>\n",
       "      <td>Mus musculus</td>\n",
       "      <td>http://purl.obolibrary.org/obo/NCBITaxon_10090</td>\n",
       "      <td>C57BL/6J</td>\n",
       "      <td>http://www.ebi.ac.uk/efo/EFO_0000606</td>\n",
       "      <td>10 week</td>\n",
       "      <td>NaN</td>\n",
       "      <td>adult</td>\n",
       "      <td>http://www.ebi.ac.uk/efo/EFO_0001272</td>\n",
       "      <td>female</td>\n",
       "      <td>...</td>\n",
       "      <td>lung</td>\n",
       "      <td>http://purl.obolibrary.org/obo/UBERON_0002048</td>\n",
       "      <td>lung macrophage</td>\n",
       "      <td>http://purl.obolibrary.org/obo/CL_1001603</td>\n",
       "      <td>CD45+ F4/80+ CD11c- Ly6C lo CD64+</td>\n",
       "      <td>NaN</td>\n",
       "      <td>lung macrophage</td>\n",
       "      <td>http://purl.obolibrary.org/obo/CL_1001603</td>\n",
       "      <td>CD45+ F4/80+ CD11c- Ly6C lo CD64+</td>\n",
       "      <td>NaN</td>\n",
       "    </tr>\n",
       "    <tr>\n",
       "      <th>2</th>\n",
       "      <td>SAMEA5367303-AAACCTGGTCCAGTGC</td>\n",
       "      <td>Mus musculus</td>\n",
       "      <td>http://purl.obolibrary.org/obo/NCBITaxon_10090</td>\n",
       "      <td>C57BL/6J</td>\n",
       "      <td>http://www.ebi.ac.uk/efo/EFO_0000606</td>\n",
       "      <td>10 week</td>\n",
       "      <td>NaN</td>\n",
       "      <td>adult</td>\n",
       "      <td>http://www.ebi.ac.uk/efo/EFO_0001272</td>\n",
       "      <td>female</td>\n",
       "      <td>...</td>\n",
       "      <td>lung</td>\n",
       "      <td>http://purl.obolibrary.org/obo/UBERON_0002048</td>\n",
       "      <td>lung macrophage</td>\n",
       "      <td>http://purl.obolibrary.org/obo/CL_1001603</td>\n",
       "      <td>CD45+ F4/80+ CD11c- Ly6C lo CD64+</td>\n",
       "      <td>NaN</td>\n",
       "      <td>lung macrophage</td>\n",
       "      <td>http://purl.obolibrary.org/obo/CL_1001603</td>\n",
       "      <td>CD45+ F4/80+ CD11c- Ly6C lo CD64+</td>\n",
       "      <td>NaN</td>\n",
       "    </tr>\n",
       "    <tr>\n",
       "      <th>3</th>\n",
       "      <td>SAMEA5367303-AAACCTGTCAGCTGGC</td>\n",
       "      <td>Mus musculus</td>\n",
       "      <td>http://purl.obolibrary.org/obo/NCBITaxon_10090</td>\n",
       "      <td>C57BL/6J</td>\n",
       "      <td>http://www.ebi.ac.uk/efo/EFO_0000606</td>\n",
       "      <td>10 week</td>\n",
       "      <td>NaN</td>\n",
       "      <td>adult</td>\n",
       "      <td>http://www.ebi.ac.uk/efo/EFO_0001272</td>\n",
       "      <td>female</td>\n",
       "      <td>...</td>\n",
       "      <td>lung</td>\n",
       "      <td>http://purl.obolibrary.org/obo/UBERON_0002048</td>\n",
       "      <td>lung macrophage</td>\n",
       "      <td>http://purl.obolibrary.org/obo/CL_1001603</td>\n",
       "      <td>CD45+ F4/80+ CD11c- Ly6C lo CD64+</td>\n",
       "      <td>NaN</td>\n",
       "      <td>lung macrophage</td>\n",
       "      <td>http://purl.obolibrary.org/obo/CL_1001603</td>\n",
       "      <td>CD45+ F4/80+ CD11c- Ly6C lo CD64+</td>\n",
       "      <td>NaN</td>\n",
       "    </tr>\n",
       "    <tr>\n",
       "      <th>4</th>\n",
       "      <td>SAMEA5367303-AAACGGGAGACTGTAA</td>\n",
       "      <td>Mus musculus</td>\n",
       "      <td>http://purl.obolibrary.org/obo/NCBITaxon_10090</td>\n",
       "      <td>C57BL/6J</td>\n",
       "      <td>http://www.ebi.ac.uk/efo/EFO_0000606</td>\n",
       "      <td>10 week</td>\n",
       "      <td>NaN</td>\n",
       "      <td>adult</td>\n",
       "      <td>http://www.ebi.ac.uk/efo/EFO_0001272</td>\n",
       "      <td>female</td>\n",
       "      <td>...</td>\n",
       "      <td>lung</td>\n",
       "      <td>http://purl.obolibrary.org/obo/UBERON_0002048</td>\n",
       "      <td>lung macrophage</td>\n",
       "      <td>http://purl.obolibrary.org/obo/CL_1001603</td>\n",
       "      <td>CD45+ F4/80+ CD11c- Ly6C lo CD64+</td>\n",
       "      <td>NaN</td>\n",
       "      <td>lung macrophage</td>\n",
       "      <td>http://purl.obolibrary.org/obo/CL_1001603</td>\n",
       "      <td>CD45+ F4/80+ CD11c- Ly6C lo CD64+</td>\n",
       "      <td>NaN</td>\n",
       "    </tr>\n",
       "  </tbody>\n",
       "</table>\n",
       "<p>5 rows × 23 columns</p>\n",
       "</div>"
      ],
      "text/plain": [
       "                           Assay Sample Characteristic[organism]  \\\n",
       "0  SAMEA5367303-AAACCTGAGGATGTAT                    Mus musculus   \n",
       "1  SAMEA5367303-AAACCTGCACCGTTGG                    Mus musculus   \n",
       "2  SAMEA5367303-AAACCTGGTCCAGTGC                    Mus musculus   \n",
       "3  SAMEA5367303-AAACCTGTCAGCTGGC                    Mus musculus   \n",
       "4  SAMEA5367303-AAACGGGAGACTGTAA                    Mus musculus   \n",
       "\n",
       "    Sample Characteristic Ontology Term[organism]  \\\n",
       "0  http://purl.obolibrary.org/obo/NCBITaxon_10090   \n",
       "1  http://purl.obolibrary.org/obo/NCBITaxon_10090   \n",
       "2  http://purl.obolibrary.org/obo/NCBITaxon_10090   \n",
       "3  http://purl.obolibrary.org/obo/NCBITaxon_10090   \n",
       "4  http://purl.obolibrary.org/obo/NCBITaxon_10090   \n",
       "\n",
       "  Sample Characteristic[strain] Sample Characteristic Ontology Term[strain]  \\\n",
       "0                      C57BL/6J        http://www.ebi.ac.uk/efo/EFO_0000606   \n",
       "1                      C57BL/6J        http://www.ebi.ac.uk/efo/EFO_0000606   \n",
       "2                      C57BL/6J        http://www.ebi.ac.uk/efo/EFO_0000606   \n",
       "3                      C57BL/6J        http://www.ebi.ac.uk/efo/EFO_0000606   \n",
       "4                      C57BL/6J        http://www.ebi.ac.uk/efo/EFO_0000606   \n",
       "\n",
       "  Sample Characteristic[age]  Sample Characteristic Ontology Term[age]  \\\n",
       "0                    10 week                                       NaN   \n",
       "1                    10 week                                       NaN   \n",
       "2                    10 week                                       NaN   \n",
       "3                    10 week                                       NaN   \n",
       "4                    10 week                                       NaN   \n",
       "\n",
       "  Sample Characteristic[developmental stage]  \\\n",
       "0                                      adult   \n",
       "1                                      adult   \n",
       "2                                      adult   \n",
       "3                                      adult   \n",
       "4                                      adult   \n",
       "\n",
       "  Sample Characteristic Ontology Term[developmental stage]  \\\n",
       "0               http://www.ebi.ac.uk/efo/EFO_0001272         \n",
       "1               http://www.ebi.ac.uk/efo/EFO_0001272         \n",
       "2               http://www.ebi.ac.uk/efo/EFO_0001272         \n",
       "3               http://www.ebi.ac.uk/efo/EFO_0001272         \n",
       "4               http://www.ebi.ac.uk/efo/EFO_0001272         \n",
       "\n",
       "  Sample Characteristic[sex]  ... Sample Characteristic[organism part]  \\\n",
       "0                     female  ...                                 lung   \n",
       "1                     female  ...                                 lung   \n",
       "2                     female  ...                                 lung   \n",
       "3                     female  ...                                 lung   \n",
       "4                     female  ...                                 lung   \n",
       "\n",
       "  Sample Characteristic Ontology Term[organism part]  \\\n",
       "0      http://purl.obolibrary.org/obo/UBERON_0002048   \n",
       "1      http://purl.obolibrary.org/obo/UBERON_0002048   \n",
       "2      http://purl.obolibrary.org/obo/UBERON_0002048   \n",
       "3      http://purl.obolibrary.org/obo/UBERON_0002048   \n",
       "4      http://purl.obolibrary.org/obo/UBERON_0002048   \n",
       "\n",
       "   Sample Characteristic[cell type]  \\\n",
       "0                   lung macrophage   \n",
       "1                   lung macrophage   \n",
       "2                   lung macrophage   \n",
       "3                   lung macrophage   \n",
       "4                   lung macrophage   \n",
       "\n",
       "  Sample Characteristic Ontology Term[cell type]  \\\n",
       "0      http://purl.obolibrary.org/obo/CL_1001603   \n",
       "1      http://purl.obolibrary.org/obo/CL_1001603   \n",
       "2      http://purl.obolibrary.org/obo/CL_1001603   \n",
       "3      http://purl.obolibrary.org/obo/CL_1001603   \n",
       "4      http://purl.obolibrary.org/obo/CL_1001603   \n",
       "\n",
       "  Sample Characteristic[immunophenotype]  \\\n",
       "0      CD45+ F4/80+ CD11c- Ly6C lo CD64+   \n",
       "1      CD45+ F4/80+ CD11c- Ly6C lo CD64+   \n",
       "2      CD45+ F4/80+ CD11c- Ly6C lo CD64+   \n",
       "3      CD45+ F4/80+ CD11c- Ly6C lo CD64+   \n",
       "4      CD45+ F4/80+ CD11c- Ly6C lo CD64+   \n",
       "\n",
       "  Sample Characteristic Ontology Term[immunophenotype]  \\\n",
       "0                                                NaN     \n",
       "1                                                NaN     \n",
       "2                                                NaN     \n",
       "3                                                NaN     \n",
       "4                                                NaN     \n",
       "\n",
       "  Factor Value[cell type]      Factor Value Ontology Term[cell type]  \\\n",
       "0         lung macrophage  http://purl.obolibrary.org/obo/CL_1001603   \n",
       "1         lung macrophage  http://purl.obolibrary.org/obo/CL_1001603   \n",
       "2         lung macrophage  http://purl.obolibrary.org/obo/CL_1001603   \n",
       "3         lung macrophage  http://purl.obolibrary.org/obo/CL_1001603   \n",
       "4         lung macrophage  http://purl.obolibrary.org/obo/CL_1001603   \n",
       "\n",
       "       Factor Value[immunophenotype]  \\\n",
       "0  CD45+ F4/80+ CD11c- Ly6C lo CD64+   \n",
       "1  CD45+ F4/80+ CD11c- Ly6C lo CD64+   \n",
       "2  CD45+ F4/80+ CD11c- Ly6C lo CD64+   \n",
       "3  CD45+ F4/80+ CD11c- Ly6C lo CD64+   \n",
       "4  CD45+ F4/80+ CD11c- Ly6C lo CD64+   \n",
       "\n",
       "  Factor Value Ontology Term[immunophenotype]  \n",
       "0                                         NaN  \n",
       "1                                         NaN  \n",
       "2                                         NaN  \n",
       "3                                         NaN  \n",
       "4                                         NaN  \n",
       "\n",
       "[5 rows x 23 columns]"
      ]
     },
     "execution_count": 42,
     "metadata": {},
     "output_type": "execute_result"
    }
   ],
   "source": [
    "metadata = read_metadata(project_ID)\n",
    "metadata.head()"
   ]
  },
  {
   "cell_type": "markdown",
   "id": "injured-directive",
   "metadata": {},
   "source": [
    "As we can see, the column names are too long and there are also some columns we don't want (Ontology Term columns). SO we will apply a function to proccess the metadata before we use it."
   ]
  },
  {
   "cell_type": "code",
   "execution_count": 41,
   "id": "statistical-celebration",
   "metadata": {},
   "outputs": [],
   "source": [
    "import re\n",
    "\n",
    "def process_metadata(metadata):\n",
    "    \"\"\"Return the processed metadata\n",
    "    \n",
    "    Parameters\n",
    "    ----------\n",
    "    metadata : pandas dataframe\n",
    "        metadata of a project\n",
    "\n",
    "    Returns\n",
    "    -------\n",
    "    \n",
    "    metadata: pandas dataframe\n",
    "        metadata processed\n",
    "    \"\"\"\n",
    "    cols = [c for c in metadata.columns if 'ontology term' not in c.lower()]\n",
    "    metadata = metadata[cols] # Drop columns with ontology terms\n",
    "\n",
    "    metadata = metadata.rename(columns=lambda x: re.sub(r'.+\\[(.+)\\]',r'\\1',x)) # Rename columns\n",
    "    \n",
    "    metadata = metadata.loc[:,~metadata.columns.duplicated()] # Remove duplicated columns\n",
    "    \n",
    "    return metadata"
   ]
  },
  {
   "cell_type": "code",
   "execution_count": 43,
   "id": "psychological-soldier",
   "metadata": {},
   "outputs": [
    {
     "data": {
      "text/html": [
       "<div>\n",
       "<style scoped>\n",
       "    .dataframe tbody tr th:only-of-type {\n",
       "        vertical-align: middle;\n",
       "    }\n",
       "\n",
       "    .dataframe tbody tr th {\n",
       "        vertical-align: top;\n",
       "    }\n",
       "\n",
       "    .dataframe thead th {\n",
       "        text-align: right;\n",
       "    }\n",
       "</style>\n",
       "<table border=\"1\" class=\"dataframe\">\n",
       "  <thead>\n",
       "    <tr style=\"text-align: right;\">\n",
       "      <th></th>\n",
       "      <th>Assay</th>\n",
       "      <th>organism</th>\n",
       "      <th>strain</th>\n",
       "      <th>age</th>\n",
       "      <th>developmental stage</th>\n",
       "      <th>sex</th>\n",
       "      <th>genotype</th>\n",
       "      <th>organism part</th>\n",
       "      <th>cell type</th>\n",
       "      <th>immunophenotype</th>\n",
       "    </tr>\n",
       "  </thead>\n",
       "  <tbody>\n",
       "    <tr>\n",
       "      <th>0</th>\n",
       "      <td>SAMEA5367303-AAACCTGAGGATGTAT</td>\n",
       "      <td>Mus musculus</td>\n",
       "      <td>C57BL/6J</td>\n",
       "      <td>10 week</td>\n",
       "      <td>adult</td>\n",
       "      <td>female</td>\n",
       "      <td>wild type genotype</td>\n",
       "      <td>lung</td>\n",
       "      <td>lung macrophage</td>\n",
       "      <td>CD45+ F4/80+ CD11c- Ly6C lo CD64+</td>\n",
       "    </tr>\n",
       "    <tr>\n",
       "      <th>1</th>\n",
       "      <td>SAMEA5367303-AAACCTGCACCGTTGG</td>\n",
       "      <td>Mus musculus</td>\n",
       "      <td>C57BL/6J</td>\n",
       "      <td>10 week</td>\n",
       "      <td>adult</td>\n",
       "      <td>female</td>\n",
       "      <td>wild type genotype</td>\n",
       "      <td>lung</td>\n",
       "      <td>lung macrophage</td>\n",
       "      <td>CD45+ F4/80+ CD11c- Ly6C lo CD64+</td>\n",
       "    </tr>\n",
       "    <tr>\n",
       "      <th>2</th>\n",
       "      <td>SAMEA5367303-AAACCTGGTCCAGTGC</td>\n",
       "      <td>Mus musculus</td>\n",
       "      <td>C57BL/6J</td>\n",
       "      <td>10 week</td>\n",
       "      <td>adult</td>\n",
       "      <td>female</td>\n",
       "      <td>wild type genotype</td>\n",
       "      <td>lung</td>\n",
       "      <td>lung macrophage</td>\n",
       "      <td>CD45+ F4/80+ CD11c- Ly6C lo CD64+</td>\n",
       "    </tr>\n",
       "    <tr>\n",
       "      <th>3</th>\n",
       "      <td>SAMEA5367303-AAACCTGTCAGCTGGC</td>\n",
       "      <td>Mus musculus</td>\n",
       "      <td>C57BL/6J</td>\n",
       "      <td>10 week</td>\n",
       "      <td>adult</td>\n",
       "      <td>female</td>\n",
       "      <td>wild type genotype</td>\n",
       "      <td>lung</td>\n",
       "      <td>lung macrophage</td>\n",
       "      <td>CD45+ F4/80+ CD11c- Ly6C lo CD64+</td>\n",
       "    </tr>\n",
       "    <tr>\n",
       "      <th>4</th>\n",
       "      <td>SAMEA5367303-AAACGGGAGACTGTAA</td>\n",
       "      <td>Mus musculus</td>\n",
       "      <td>C57BL/6J</td>\n",
       "      <td>10 week</td>\n",
       "      <td>adult</td>\n",
       "      <td>female</td>\n",
       "      <td>wild type genotype</td>\n",
       "      <td>lung</td>\n",
       "      <td>lung macrophage</td>\n",
       "      <td>CD45+ F4/80+ CD11c- Ly6C lo CD64+</td>\n",
       "    </tr>\n",
       "  </tbody>\n",
       "</table>\n",
       "</div>"
      ],
      "text/plain": [
       "                           Assay      organism    strain      age  \\\n",
       "0  SAMEA5367303-AAACCTGAGGATGTAT  Mus musculus  C57BL/6J  10 week   \n",
       "1  SAMEA5367303-AAACCTGCACCGTTGG  Mus musculus  C57BL/6J  10 week   \n",
       "2  SAMEA5367303-AAACCTGGTCCAGTGC  Mus musculus  C57BL/6J  10 week   \n",
       "3  SAMEA5367303-AAACCTGTCAGCTGGC  Mus musculus  C57BL/6J  10 week   \n",
       "4  SAMEA5367303-AAACGGGAGACTGTAA  Mus musculus  C57BL/6J  10 week   \n",
       "\n",
       "  developmental stage     sex            genotype organism part  \\\n",
       "0               adult  female  wild type genotype          lung   \n",
       "1               adult  female  wild type genotype          lung   \n",
       "2               adult  female  wild type genotype          lung   \n",
       "3               adult  female  wild type genotype          lung   \n",
       "4               adult  female  wild type genotype          lung   \n",
       "\n",
       "         cell type                    immunophenotype  \n",
       "0  lung macrophage  CD45+ F4/80+ CD11c- Ly6C lo CD64+  \n",
       "1  lung macrophage  CD45+ F4/80+ CD11c- Ly6C lo CD64+  \n",
       "2  lung macrophage  CD45+ F4/80+ CD11c- Ly6C lo CD64+  \n",
       "3  lung macrophage  CD45+ F4/80+ CD11c- Ly6C lo CD64+  \n",
       "4  lung macrophage  CD45+ F4/80+ CD11c- Ly6C lo CD64+  "
      ]
     },
     "execution_count": 43,
     "metadata": {},
     "output_type": "execute_result"
    }
   ],
   "source": [
    "metadata = process_metadata(metadata)\n",
    "metadata.head()"
   ]
  },
  {
   "cell_type": "markdown",
   "id": "annoying-gamma",
   "metadata": {},
   "source": [
    "### Getting subgroups implementation"
   ]
  },
  {
   "cell_type": "code",
   "execution_count": 5,
   "id": "municipal-april",
   "metadata": {},
   "outputs": [],
   "source": [
    "def init_subgroups(metadata):\n",
    "    \"\"\"Returns a list of one dictionary, containing the metadata\n",
    "    \n",
    "    Parameters\n",
    "    ----------\n",
    "    \n",
    "    metadata : pandas dataframe\n",
    "        The metadata of a project in a dataframe\n",
    "\n",
    "    Returns\n",
    "    -------\n",
    "    \n",
    "    subgroups: list\n",
    "        List with the initial group of the metadata\n",
    "    \"\"\"\n",
    "    dictionary = {'dataframe': metadata}\n",
    "    subgroups = [dictionary]\n",
    "\n",
    "    return subgroups"
   ]
  },
  {
   "cell_type": "code",
   "execution_count": 6,
   "id": "choice-hospital",
   "metadata": {},
   "outputs": [],
   "source": [
    "subgroups = init_subgroups(metadata)"
   ]
  },
  {
   "cell_type": "code",
   "execution_count": 7,
   "id": "cordless-sarah",
   "metadata": {},
   "outputs": [],
   "source": [
    "def get_subgroups(group, characteristic):\n",
    "    \"\"\"Divide the group in subgroups using the characteristic\n",
    "    \n",
    "    Parameters\n",
    "    ----------\n",
    "    \n",
    "    group : dict\n",
    "        The group with the dataframe and the characteristics used\n",
    "\n",
    "    characteristic: str\n",
    "        The characteristic used for the division\n",
    "    \n",
    "    Returns\n",
    "    -------\n",
    "    \n",
    "    subgroups: list\n",
    "        List with the subgroups created\n",
    "    \"\"\"\n",
    "    # Get the dataframe and group by the characteristic\n",
    "    dataframe = group['dataframe']\n",
    "    groupby = dataframe.groupby(by=characteristic)\n",
    "\n",
    "    # Create the new subgroups\n",
    "    subgroups = []\n",
    "    for value, subgroup in groupby:\n",
    "        # If the group does not have enough cells skip it\n",
    "        if len(subgroup) < 25:\n",
    "            continue\n",
    "\n",
    "        # Creaete the subgroup from the group\n",
    "        new_subgroup = group.copy()\n",
    "        new_subgroup['dataframe'] = subgroup\n",
    "        new_subgroup[characteristic] = value\n",
    "        subgroups = subgroups + [new_subgroup]\n",
    "\n",
    "    return subgroups"
   ]
  },
  {
   "cell_type": "code",
   "execution_count": 8,
   "id": "pharmaceutical-yorkshire",
   "metadata": {},
   "outputs": [],
   "source": [
    "subgroups = get_subgroups(subgroups[0], 'Sample Characteristic[cell type]')"
   ]
  },
  {
   "cell_type": "code",
   "execution_count": 9,
   "id": "owned-uzbekistan",
   "metadata": {
    "scrolled": true
   },
   "outputs": [
    {
     "name": "stdout",
     "output_type": "stream",
     "text": [
      "Dividing with cell type, we get 2 subgroups\n",
      "\n",
      "The first subgroup has the celltype \"classical monocyte\" and has 2718 cells\n",
      "The second subgroup has the celltype \"lung macrophage\" and has 4334 cells\n"
     ]
    }
   ],
   "source": [
    "print(f'Dividing with cell type, we get {len(subgroups)} subgroups')\n",
    "print()\n",
    "print(f\"The first subgroup has the celltype \\\"{subgroups[0]['Sample Characteristic[cell type]']}\\\" and has {len(subgroups[0]['dataframe'])} cells\")\n",
    "print(f\"The second subgroup has the celltype \\\"{subgroups[1]['Sample Characteristic[cell type]']}\\\" and has {len(subgroups[1]['dataframe'])} cells\")"
   ]
  },
  {
   "cell_type": "markdown",
   "id": "dried-blocking",
   "metadata": {},
   "source": [
    "### Managing rows implementation"
   ]
  },
  {
   "cell_type": "markdown",
   "id": "completed-crowd",
   "metadata": {},
   "source": [
    "We will select *X0*, *X1* and *X2* as examples of charactericticts."
   ]
  },
  {
   "cell_type": "code",
   "execution_count": 53,
   "id": "protective-suspension",
   "metadata": {},
   "outputs": [],
   "source": [
    "characteristics = ['X0','X1','X2']"
   ]
  },
  {
   "cell_type": "markdown",
   "id": "adequate-glass",
   "metadata": {},
   "source": [
    "Before implement `init_row`, we have to create a function to get all the names of a list of characteristics.\n",
    "\n",
    "In this case, we have created three simple functions:\n",
    "- `get_combinations`: Given a list get all the combinations.\n",
    "- `combination_to_name`: Given a combination, returns its name.\n",
    "- `get_combinations_names`: Given a list, get the names of all combinations"
   ]
  },
  {
   "cell_type": "markdown",
   "id": "sealed-monitoring",
   "metadata": {},
   "source": [
    "Here we can see the three functions with examples."
   ]
  },
  {
   "cell_type": "code",
   "execution_count": 54,
   "id": "expired-convert",
   "metadata": {},
   "outputs": [],
   "source": [
    "import itertools\n",
    "\n",
    "def get_combinations(stuff):\n",
    "    combinations = []\n",
    "    for L in range(1, len(stuff)+1):\n",
    "        for subset in itertools.combinations(stuff, L):\n",
    "            combinations += [subset]\n",
    "\n",
    "    return combinations"
   ]
  },
  {
   "cell_type": "code",
   "execution_count": 55,
   "id": "blind-savannah",
   "metadata": {},
   "outputs": [
    {
     "data": {
      "text/plain": [
       "[('X0',),\n",
       " ('X1',),\n",
       " ('X2',),\n",
       " ('X0', 'X1'),\n",
       " ('X0', 'X2'),\n",
       " ('X1', 'X2'),\n",
       " ('X0', 'X1', 'X2')]"
      ]
     },
     "execution_count": 55,
     "metadata": {},
     "output_type": "execute_result"
    }
   ],
   "source": [
    "get_combinations(characteristics)"
   ]
  },
  {
   "cell_type": "code",
   "execution_count": 56,
   "id": "clear-accent",
   "metadata": {},
   "outputs": [],
   "source": [
    "def combiation_to_name(combination):\n",
    "    name = ''\n",
    "    for item in combination:\n",
    "        name += str(item) + '-'\n",
    "    \n",
    "    return name[:-1]"
   ]
  },
  {
   "cell_type": "code",
   "execution_count": 57,
   "id": "designed-stuff",
   "metadata": {},
   "outputs": [
    {
     "data": {
      "text/plain": [
       "'X0-X1-X2'"
      ]
     },
     "execution_count": 57,
     "metadata": {},
     "output_type": "execute_result"
    }
   ],
   "source": [
    "combiation_to_name(characteristics)"
   ]
  },
  {
   "cell_type": "code",
   "execution_count": 58,
   "id": "healthy-earthquake",
   "metadata": {},
   "outputs": [],
   "source": [
    "def get_combinations_names(stuff):\n",
    "    combinations = get_combinations(stuff)\n",
    "    \n",
    "    combinations_names = [combiation_to_name(combination) for combination in combinations]\n",
    "    return combinations_names"
   ]
  },
  {
   "cell_type": "code",
   "execution_count": 59,
   "id": "absolute-sheriff",
   "metadata": {},
   "outputs": [
    {
     "data": {
      "text/plain": [
       "['X0', 'X1', 'X2', 'X0-X1', 'X0-X2', 'X1-X2', 'X0-X1-X2']"
      ]
     },
     "execution_count": 59,
     "metadata": {},
     "output_type": "execute_result"
    }
   ],
   "source": [
    "combination_names = get_combinations_names(characteristics)\n",
    "combination_names"
   ]
  },
  {
   "cell_type": "markdown",
   "id": "color-amplifier",
   "metadata": {},
   "source": [
    "Now, we can make use of `get_combinations_names` in the function `init_row` to build the row:"
   ]
  },
  {
   "cell_type": "code",
   "execution_count": 60,
   "id": "phantom-buying",
   "metadata": {},
   "outputs": [],
   "source": [
    "def init_row(project_ID, characteristics):\n",
    "    \"\"\"Creates a new row with the combinations of the characteristics.\n",
    "\n",
    "    Parameters\n",
    "    ----------\n",
    "    project_ID : str\n",
    "        The ID of a project\n",
    "    characteristics : list\n",
    "        List of str with the characteristics used to divide the project\n",
    "\n",
    "    Returns\n",
    "    -------\n",
    "    \n",
    "    row: dict\n",
    "        An empty row with the combinations\n",
    "    \"\"\"\n",
    "    \n",
    "    combinations_names = get_combinations_names(characteristics)\n",
    "    row = dict.fromkeys(combinations_names, 0)\n",
    "    row['project_ID'] = project_ID\n",
    "\n",
    "    return row"
   ]
  },
  {
   "cell_type": "code",
   "execution_count": 61,
   "id": "foreign-pacific",
   "metadata": {},
   "outputs": [
    {
     "data": {
      "text/plain": [
       "{'X0': 0,\n",
       " 'X1': 0,\n",
       " 'X2': 0,\n",
       " 'X0-X1': 0,\n",
       " 'X0-X2': 0,\n",
       " 'X1-X2': 0,\n",
       " 'X0-X1-X2': 0,\n",
       " 'project_ID': 'E-MTAB-7678'}"
      ]
     },
     "execution_count": 61,
     "metadata": {},
     "output_type": "execute_result"
    }
   ],
   "source": [
    "row = init_row(project_ID, characteristics)\n",
    "row"
   ]
  },
  {
   "cell_type": "markdown",
   "id": "atmospheric-nerve",
   "metadata": {},
   "source": [
    "The next step is to create the function `update_row` we explained before."
   ]
  },
  {
   "cell_type": "code",
   "execution_count": 62,
   "id": "collaborative-career",
   "metadata": {},
   "outputs": [],
   "source": [
    "def update_row(row, characteristics_used, subgroups):\n",
    "    \"\"\"Update the row adding the number of subgroups to the combination.\n",
    "\n",
    "    Parameters\n",
    "    ----------\n",
    "    row : dict\n",
    "        The ID of a project\n",
    "    characteristics_used : list\n",
    "        List of str with the characteristics used to divide the groups\n",
    "    subgroups: list\n",
    "        List of subgroups\n",
    "    \"\"\"\n",
    "    \n",
    "    n_subgroups = len(subgroups)\n",
    "    combination_name = combiation_to_name(characteristics_used)\n",
    "    row[combination_name] = n_subgroups"
   ]
  },
  {
   "cell_type": "code",
   "execution_count": 63,
   "id": "touched-algorithm",
   "metadata": {},
   "outputs": [
    {
     "data": {
      "text/plain": [
       "{'X0': 0,\n",
       " 'X1': 0,\n",
       " 'X2': 0,\n",
       " 'X0-X1': 0,\n",
       " 'X0-X2': 0,\n",
       " 'X1-X2': 2,\n",
       " 'X0-X1-X2': 0,\n",
       " 'project_ID': 'E-MTAB-7678'}"
      ]
     },
     "execution_count": 63,
     "metadata": {},
     "output_type": "execute_result"
    }
   ],
   "source": [
    "update_row(row, ['X1', 'X2'], subgroups)\n",
    "row"
   ]
  },
  {
   "cell_type": "markdown",
   "id": "documented-water",
   "metadata": {},
   "source": [
    "### Main function implementation"
   ]
  },
  {
   "cell_type": "markdown",
   "id": "collected-overhead",
   "metadata": {},
   "source": [
    "Once we have define all the previous functions, we can declare the main method."
   ]
  },
  {
   "cell_type": "code",
   "execution_count": 64,
   "id": "extended-talent",
   "metadata": {},
   "outputs": [],
   "source": [
    "def get_groups_from_project(project_ID, characteristics):\n",
    "    \"\"\"Generate the groups for percentile creation using characteristics to divide.\n",
    "\n",
    "    Parameters\n",
    "    ----------\n",
    "    project_ID : str\n",
    "        The ID of a project\n",
    "    characteristics : list\n",
    "        List of str with the characteristics used to divide the project\n",
    "\n",
    "    Returns\n",
    "    -------\n",
    "    \n",
    "    row: dict\n",
    "        The row (dictionary) with the number of subgroups created with each combination\n",
    "    subgroups: list\n",
    "        A list with dictionaries containing the groups, the characteristics and the values used for the division.\n",
    "    \"\"\"    \n",
    "    # Read the metadata file using the API\n",
    "    metadata = read_metadata(project_ID)\n",
    "    metadata = process_metadata(metadata)\n",
    "    \n",
    "    # Initialitation of parameters\n",
    "    subgroups = init_subgroups(metadata)\n",
    "    row = init_row(project_ID, characteristics)\n",
    "    project_characteristics = metadata.columns\n",
    "    used_characteristics = []\n",
    "        \n",
    "    # Start the subgroup generation using the characteristics\n",
    "    for characteristic in characteristics:\n",
    "        # If the characteristic is not in the project, we skip it\n",
    "        if characteristic not in project_characteristics:\n",
    "            continue\n",
    "        \n",
    "        # For each subgroup created, divide it using the current characteristic\n",
    "        subgroups_aux = []\n",
    "        for subgroup in subgroups:\n",
    "            subgroup_aux = get_subgroups(subgroup, characteristic)\n",
    "            \n",
    "            subgroups_aux = subgroups_aux + subgroup_aux\n",
    "        \n",
    "        # Update parameters\n",
    "        used_characteristics = used_characteristics + [characteristic]\n",
    "        subgroups = subgroups_aux\n",
    "        \n",
    "        # If there are no subgroups left, stop\n",
    "        if not subgroups:\n",
    "            break\n",
    "        \n",
    "        update_row(row, used_characteristics, subgroups)\n",
    "\n",
    "    return row, subgroups"
   ]
  },
  {
   "cell_type": "markdown",
   "id": "former-story",
   "metadata": {},
   "source": [
    "For this example, we are going to use three characteristics:\n",
    "\n",
    "- Organism (specie)\n",
    "- Cell type\n",
    "- Organism part"
   ]
  },
  {
   "cell_type": "code",
   "execution_count": 65,
   "id": "grand-marriage",
   "metadata": {},
   "outputs": [],
   "source": [
    "characteristics = [\n",
    "    'organism',\n",
    "    'cell type',\n",
    "    'organism part'\n",
    "]"
   ]
  },
  {
   "cell_type": "code",
   "execution_count": 66,
   "id": "exclusive-swedish",
   "metadata": {},
   "outputs": [],
   "source": [
    "row, subgroups = get_groups_from_project(project_ID, characteristics)"
   ]
  },
  {
   "cell_type": "code",
   "execution_count": 67,
   "id": "potential-marker",
   "metadata": {
    "scrolled": true
   },
   "outputs": [
    {
     "data": {
      "text/plain": [
       "{'organism': 1,\n",
       " 'cell type': 0,\n",
       " 'organism part': 0,\n",
       " 'organism-cell type': 2,\n",
       " 'organism-organism part': 0,\n",
       " 'cell type-organism part': 0,\n",
       " 'organism-cell type-organism part': 2,\n",
       " 'project_ID': 'E-MTAB-7678'}"
      ]
     },
     "execution_count": 67,
     "metadata": {},
     "output_type": "execute_result"
    }
   ],
   "source": [
    "row"
   ]
  }
 ],
 "metadata": {
  "kernelspec": {
   "display_name": "Python 3",
   "language": "python",
   "name": "python3"
  },
  "language_info": {
   "codemirror_mode": {
    "name": "ipython",
    "version": 3
   },
   "file_extension": ".py",
   "mimetype": "text/x-python",
   "name": "python",
   "nbconvert_exporter": "python",
   "pygments_lexer": "ipython3",
   "version": "3.8.8"
  }
 },
 "nbformat": 4,
 "nbformat_minor": 5
}
