{
 "cells": [
  {
   "cell_type": "markdown",
   "metadata": {},
   "source": [
    "# Adding instances to postgres database"
   ]
  },
  {
   "cell_type": "markdown",
   "metadata": {},
   "source": [
    "First of all, we can remember the database scheme, so we have a better perspective of the commands we have to design."
   ]
  },
  {
   "cell_type": "markdown",
   "metadata": {},
   "source": [
    "![title](../Images/DB_Design.png)"
   ]
  },
  {
   "cell_type": "markdown",
   "metadata": {},
   "source": [
    "Once more, we will use the `psycopg2` library to connect to the postgres database."
   ]
  },
  {
   "cell_type": "code",
   "execution_count": 4,
   "metadata": {},
   "outputs": [],
   "source": [
    "import psycopg2 as psql"
   ]
  },
  {
   "cell_type": "markdown",
   "metadata": {},
   "source": [
    "## Adding percentile instance"
   ]
  },
  {
   "cell_type": "markdown",
   "metadata": {},
   "source": [
    "In order to insert a percentile to the database, we have to design two commands, one will insert a percentile group:"
   ]
  },
  {
   "cell_type": "markdown",
   "metadata": {},
   "source": [
    "```postgresql\n",
    "INSERT INTO percentile_groups(project_id, \n",
    "                              metadata,\n",
    "                              number_genes,\n",
    "                              number_cells)\n",
    "VALUES (project_id_value, \n",
    "        '{ \"metadata0\": \"metadata0_value\", ... , \"metadataN\": \"metadataN_value\"}',\n",
    "        number_genes_value,\n",
    "        number_cells_value)\n",
    "        \n",
    "RETURNING id;\n",
    "```"
   ]
  },
  {
   "cell_type": "markdown",
   "metadata": {},
   "source": [
    "And the other will insert the percentile of a concrete gene of the group:"
   ]
  },
  {
   "cell_type": "markdown",
   "metadata": {},
   "source": [
    "```postgresql\n",
    "INSERT INTO percentile(gene_name,\n",
    "                       percentile,\n",
    "                       percentile_group)\n",
    "VALUES (gene_name_value,\n",
    "        percentile_value,\n",
    "        percentile_group_value)\n",
    "        \n",
    "RETURNING id;\n",
    "```"
   ]
  },
  {
   "cell_type": "markdown",
   "metadata": {},
   "source": [
    "As we can see, the JSON object is inserted as a string. However, postgres will treat it as a JSON object. Another important thing is that we need to return the **id** in the transaction because we may want to use it later on."
   ]
  },
  {
   "cell_type": "markdown",
   "metadata": {},
   "source": [
    "We are going to design a function that, given a percentile (the values for each variable), creates a command and insert the percentile into the database and return the corresponding id."
   ]
  },
  {
   "cell_type": "code",
   "execution_count": 5,
   "metadata": {},
   "outputs": [],
   "source": [
    "from Postgres_connection import PostgresConnection"
   ]
  },
  {
   "cell_type": "code",
   "execution_count": 7,
   "metadata": {},
   "outputs": [],
   "source": [
    "def get_percentile_group_id(project_id, metadata, number_genes, number_cells):\n",
    "    metadata_str = str(metadata).replace(\"'\", '\"')\n",
    "\n",
    "    command = f\"\"\"\n",
    "        SELECT id\n",
    "        FROM percentil_groups\n",
    "        WHERE\n",
    "            project_id = '{project_id}' AND\n",
    "            metadata::jsonb @> '{metadata_str}'::jsonb AND\n",
    "            '{metadata_str}'::jsonb @>  metadata::jsonb AND\n",
    "            number_genes = {number_genes} AND\n",
    "            number_cells = {number_cells}\n",
    "    \"\"\"\n",
    "    \n",
    "    with PostgresConnection() as conn:\n",
    "        cur = conn.cursor()\n",
    "        # read tables\n",
    "        cur.execute(command)\n",
    "        percentile_group_id = cur.fetchone()\n",
    "        # close communication with the PostgreSQL database server\n",
    "        cur.close()\n",
    "        # commit the changes\n",
    "        conn.commit()\n",
    "    \n",
    "    return percentile_group_id"
   ]
  },
  {
   "cell_type": "code",
   "execution_count": 8,
   "metadata": {},
   "outputs": [],
   "source": [
    "def add_percentile_group(project_id, metadata, number_genes, number_cells):\n",
    "    percentile_group_id = get_percentile_group_id(project_id, metadata, number_genes, number_cells)\n",
    "    \n",
    "    if percentile_group_id is not None:\n",
    "        return percentile_group_id\n",
    "    \n",
    "    command = f\"\"\"\n",
    "        INSERT INTO percentil_groups (project_id, \n",
    "                                 metadata,\n",
    "                                 number_genes,\n",
    "                                 number_cells)\n",
    "        VALUES ('{project_id}', \n",
    "                '{metadata_str}',\n",
    "                {number_genes},\n",
    "                {number_cells})\n",
    "\n",
    "        RETURNING id;\n",
    "    \"\"\"\n",
    "    \n",
    "    with PostgresConnection() as conn:\n",
    "        cur = conn.cursor()\n",
    "        # read tables\n",
    "        cur.execute(command)\n",
    "        percentile_group_id = cur.fetchone()\n",
    "        print(percentile_group_id)\n",
    "        # close communication with the PostgreSQL database server\n",
    "        cur.close()\n",
    "        # commit the changes\n",
    "        conn.commit()\n",
    "    \n",
    "    return percentile_group_id"
   ]
  },
  {
   "cell_type": "code",
   "execution_count": 15,
   "metadata": {},
   "outputs": [],
   "source": [
    "def add_percentile_with_group(project_id, gene_name, percentile, number_genes, number_cells, metadata={}):\n",
    "    percentile_id = -1\n",
    "    \n",
    "    percentile_group_id = add_percentile_group(project_id, metadata, number_genes, number_cells)[0]\n",
    "    \n",
    "    command = f\"\"\"\n",
    "        INSERT INTO percentiles (gene_name,\n",
    "                                 percentile,\n",
    "                                 percentil_group)\n",
    "        VALUES ('{gene_name}', \n",
    "                {percentile},\n",
    "                {percentile_group_id})\n",
    "\n",
    "        RETURNING id;\n",
    "    \"\"\"\n",
    "    \n",
    "    with PostgresConnection() as conn:\n",
    "        cur = conn.cursor()\n",
    "\n",
    "        # read tables\n",
    "        cur.execute(command)\n",
    "        percentile_id = cur.fetchone()\n",
    "        # close communication with the PostgreSQL database server\n",
    "        cur.close()\n",
    "        # commit the changes\n",
    "        conn.commit()\n",
    "    \n",
    "    return percentile_id[0], percentile_group_id"
   ]
  },
  {
   "cell_type": "code",
   "execution_count": 16,
   "metadata": {},
   "outputs": [
    {
     "data": {
      "text/plain": [
       "(6, 1)"
      ]
     },
     "execution_count": 16,
     "metadata": {},
     "output_type": "execute_result"
    }
   ],
   "source": [
    "add_percentile_with_group(\"E-CURD-55\", \"ENDG000001\", 36.5, 1254, 7654, metadata={'m': 'n'})"
   ]
  },
  {
   "cell_type": "code",
   "execution_count": 17,
   "metadata": {},
   "outputs": [],
   "source": [
    "def add_percentile(gene_name, percentile, percentile_group_id):\n",
    "    command = f\"\"\"\n",
    "        INSERT INTO percentiles (gene_name,\n",
    "                                 percentile,\n",
    "                                 percentil_group)\n",
    "        VALUES ('{gene_name}', \n",
    "                {percentile},\n",
    "                {percentile_group_id})\n",
    "\n",
    "        RETURNING id;\n",
    "    \"\"\"\n",
    "    \n",
    "    with PostgresConnection() as conn:\n",
    "        cur = conn.cursor()\n",
    "\n",
    "        # read tables\n",
    "        cur.execute(command)\n",
    "        percentile_id = cur.fetchone()\n",
    "        # close communication with the PostgreSQL database server\n",
    "        cur.close()\n",
    "        # commit the changes\n",
    "        conn.commit()\n",
    "    \n",
    "    return percentile_id[0]"
   ]
  },
  {
   "cell_type": "markdown",
   "metadata": {},
   "source": [
    "## Add sampling percentiles"
   ]
  },
  {
   "cell_type": "code",
   "execution_count": null,
   "metadata": {},
   "outputs": [],
   "source": [
    "def add_sampling_percentiles(percentiles, sampling_info):\n",
    "    project_id = sampling_info['project_id']\n",
    "    metadata = sampling_info['metadata']\n",
    "    number_genes = sampling_info['number_genes']\n",
    "    number_cells = sampling_info['number_cells']\n",
    "    \n",
    "    percentile_group_id = add_percentile_group(project_id, metadata, number_genes, number_cells)\n",
    "    \n",
    "    for _, row in df.iterrows():\n",
    "        gene_name = row['gene_name']\n",
    "        percentile = row['percentile']\n",
    "        \n",
    "        add_percentile(gene_name, \n",
    "                       percentile, \n",
    "                       percentile_group_id)\n",
    "    \n",
    "    return percentile_group_id"
   ]
  }
 ],
 "metadata": {
  "kernelspec": {
   "display_name": "Python 3",
   "language": "python",
   "name": "python3"
  },
  "language_info": {
   "codemirror_mode": {
    "name": "ipython",
    "version": 3
   },
   "file_extension": ".py",
   "mimetype": "text/x-python",
   "name": "python",
   "nbconvert_exporter": "python",
   "pygments_lexer": "ipython3",
   "version": "3.7.3"
  }
 },
 "nbformat": 4,
 "nbformat_minor": 5
}
