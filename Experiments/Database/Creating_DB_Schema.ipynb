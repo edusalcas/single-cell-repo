{
 "cells": [
  {
   "cell_type": "code",
   "execution_count": 27,
   "id": "innovative-crowd",
   "metadata": {},
   "outputs": [],
   "source": [
    "import psycopg2 as psql"
   ]
  },
  {
   "cell_type": "code",
   "execution_count": 28,
   "id": "numerical-brain",
   "metadata": {},
   "outputs": [],
   "source": [
    "conn = psql.connect(\n",
    "    host=\"localhost\",\n",
    "    database=\"test\",\n",
    "    user=\"postgres\",\n",
    "    password=\"123\"\n",
    ")"
   ]
  },
  {
   "cell_type": "code",
   "execution_count": 29,
   "id": "blessed-salmon",
   "metadata": {
    "scrolled": true
   },
   "outputs": [
    {
     "name": "stdout",
     "output_type": "stream",
     "text": [
      "PostgreSQL database version:\n",
      "('PostgreSQL 13.2 (Debian 13.2-1.pgdg100+1) on x86_64-pc-linux-gnu, compiled by gcc (Debian 8.3.0-6) 8.3.0, 64-bit',)\n"
     ]
    }
   ],
   "source": [
    "cur = conn.cursor()\n",
    "\n",
    "print('PostgreSQL database version:')\n",
    "\n",
    "cur.execute('SELECT version()')\n",
    "db_version = cur.fetchone()\n",
    "print(db_version)\n",
    "\n",
    "cur.close()"
   ]
  },
  {
   "cell_type": "code",
   "execution_count": 30,
   "id": "applicable-reward",
   "metadata": {},
   "outputs": [],
   "source": [
    "conn.close()"
   ]
  },
  {
   "cell_type": "markdown",
   "id": "disciplinary-charlotte",
   "metadata": {},
   "source": [
    "## Create tables"
   ]
  },
  {
   "cell_type": "code",
   "execution_count": 45,
   "id": "desirable-sapphire",
   "metadata": {},
   "outputs": [],
   "source": [
    "percentiles_table = '''\n",
    "    DROP TABLE IF EXISTS percentiles;\n",
    "    \n",
    "    CREATE TABLE percentiles (\n",
    "        id SERIAL PRIMARY KEY,\n",
    "        project_id VARCHAR(255) NOT NULL,\n",
    "        metadata JSON,\n",
    "        gene_name VARCHAR(255) NOT NULL,\n",
    "        percentile float NOT NULL,\n",
    "        number_genes INTEGER NOT NULL,\n",
    "        number_cells INTEGER NOT NULL\n",
    "    );\n",
    "'''"
   ]
  },
  {
   "cell_type": "code",
   "execution_count": 46,
   "id": "violent-novel",
   "metadata": {},
   "outputs": [],
   "source": [
    "modules_table = '''\n",
    "    DROP TABLE IF EXISTS modules;\n",
    "\n",
    "    CREATE TABLE modules (\n",
    "        id SERIAL PRIMARY KEY,\n",
    "        name VARCHAR(255) NOT NULL\n",
    "    );\n",
    "'''"
   ]
  },
  {
   "cell_type": "code",
   "execution_count": 47,
   "id": "optional-sentence",
   "metadata": {},
   "outputs": [],
   "source": [
    "module_membership_table = '''\n",
    "    DROP TABLE IF EXISTS module_membership;\n",
    "\n",
    "    CREATE TABLE module_membership (\n",
    "        id SERIAL PRIMARY KEY,\n",
    "        project_id VARCHAR(255) NOT NULL,\n",
    "        correction VARCHAR(255) NOT NULL,\n",
    "        iter_pseudocells INTEGER NOT NULL,\n",
    "        metadata JSON,\n",
    "        module INTEGER NOT NULL,\n",
    "        gene_name VARCHAR(255) NOT NULL,\n",
    "        MM float NOT NULL,\n",
    "        FOREIGN KEY (module) \n",
    "            REFERENCES modules (id) \n",
    "            ON UPDATE CASCADE ON DELETE CASCADE\n",
    "    );\n",
    "'''"
   ]
  },
  {
   "cell_type": "code",
   "execution_count": 48,
   "id": "collaborative-musician",
   "metadata": {},
   "outputs": [],
   "source": [
    "notation_table = '''\n",
    "    DROP TABLE IF EXISTS notation;\n",
    "\n",
    "    CREATE TABLE notation (\n",
    "        id SERIAL PRIMARY KEY,\n",
    "        name VARCHAR(255) NOT NULL,\n",
    "        notation_id VARCHAR(255) NOT NULL,\n",
    "        source VARCHAR(255) NOT NULL,\n",
    "        IC float NULL\n",
    "    );\n",
    "'''"
   ]
  },
  {
   "cell_type": "code",
   "execution_count": 49,
   "id": "listed-scroll",
   "metadata": {},
   "outputs": [],
   "source": [
    "phenotype_notation_table = '''\n",
    "    DROP TABLE IF EXISTS phenotype_notation;\n",
    "\n",
    "    CREATE TABLE phenotype_notation (\n",
    "        id SERIAL PRIMARY KEY,\n",
    "        name VARCHAR(255) NOT NULL,\n",
    "        notation_id VARCHAR(255) NOT NULL,\n",
    "        source VARCHAR(255) NOT NULL\n",
    "    );\n",
    "'''"
   ]
  },
  {
   "cell_type": "code",
   "execution_count": 50,
   "id": "dimensional-parts",
   "metadata": {},
   "outputs": [],
   "source": [
    "notation_bridge_table = '''\n",
    "    DROP TABLE IF EXISTS notation_bridge;\n",
    "\n",
    "    CREATE TABLE notation_bridge (\n",
    "        module_id INTEGER,\n",
    "        notation_id INTEGER,\n",
    "        PRIMARY KEY (module_id, notation_id),\n",
    "        FOREIGN KEY (module_id) \n",
    "            REFERENCES modules (id) \n",
    "            ON UPDATE CASCADE ON DELETE CASCADE,\n",
    "        FOREIGN KEY (notation_id) \n",
    "            REFERENCES notation (id) \n",
    "            ON UPDATE CASCADE ON DELETE CASCADE\n",
    "    );\n",
    "'''"
   ]
  },
  {
   "cell_type": "code",
   "execution_count": 51,
   "id": "retired-innocent",
   "metadata": {},
   "outputs": [],
   "source": [
    "phenotype_notation_bridge_table = '''\n",
    "    DROP TABLE IF EXISTS phenotype_notation_bridge;\n",
    "\n",
    "    CREATE TABLE phenotype_notation_bridge (\n",
    "        module_id INTEGER,\n",
    "        phenotype_notation_id INTEGER,\n",
    "        PRIMARY KEY (module_id, phenotype_notation_id),\n",
    "        FOREIGN KEY (module_id) \n",
    "            REFERENCES modules (id) \n",
    "            ON UPDATE CASCADE ON DELETE CASCADE,\n",
    "        FOREIGN KEY (phenotype_notation_id) \n",
    "            REFERENCES phenotype_notation (id) \n",
    "            ON UPDATE CASCADE ON DELETE CASCADE\n",
    "    );\n",
    "'''"
   ]
  },
  {
   "cell_type": "code",
   "execution_count": 52,
   "id": "prompt-brush",
   "metadata": {},
   "outputs": [],
   "source": [
    "commands = [\n",
    "    percentiles_table,\n",
    "    modules_table,\n",
    "    module_membership_table,\n",
    "    notation_table,\n",
    "    phenotype_notation_table,\n",
    "    notation_bridge_table,\n",
    "    phenotype_notation_bridge_table\n",
    "]"
   ]
  },
  {
   "cell_type": "code",
   "execution_count": 53,
   "id": "soviet-modification",
   "metadata": {},
   "outputs": [],
   "source": [
    "try:\n",
    "    # connect to the PostgreSQL server\n",
    "    conn = psql.connect(\n",
    "        host=\"localhost\",\n",
    "        database=\"test\",\n",
    "        user=\"postgres\",\n",
    "        password=\"123\"\n",
    "    )\n",
    "    cur = conn.cursor()\n",
    "    \n",
    "    # create table one by one\n",
    "    for command in commands:\n",
    "        cur.execute(command)\n",
    "    # close communication with the PostgreSQL database server\n",
    "    cur.close()\n",
    "    # commit the changes\n",
    "    conn.commit()\n",
    "except (Exception, psql.DatabaseError) as error:\n",
    "    print(error)\n",
    "finally:\n",
    "    if conn is not None:\n",
    "        conn.close()"
   ]
  }
 ],
 "metadata": {
  "kernelspec": {
   "display_name": "Python 3",
   "language": "python",
   "name": "python3"
  },
  "language_info": {
   "codemirror_mode": {
    "name": "ipython",
    "version": 3
   },
   "file_extension": ".py",
   "mimetype": "text/x-python",
   "name": "python",
   "nbconvert_exporter": "python",
   "pygments_lexer": "ipython3",
   "version": "3.8.8"
  }
 },
 "nbformat": 4,
 "nbformat_minor": 5
}
