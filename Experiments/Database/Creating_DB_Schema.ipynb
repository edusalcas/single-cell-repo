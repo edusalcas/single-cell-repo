{
 "cells": [
  {
   "cell_type": "markdown",
   "id": "after-reading",
   "metadata": {},
   "source": [
    "# Creating the schema of the database in Postgresql"
   ]
  },
  {
   "cell_type": "markdown",
   "id": "numerical-sleeve",
   "metadata": {},
   "source": [
    "![title](https://ubunlog.com/wp-content/uploads/2018/07/postgresql.jpeg)"
   ]
  },
  {
   "cell_type": "markdown",
   "id": "pending-australian",
   "metadata": {},
   "source": [
    "In this notebook we will try to build the schema of the postgres database, making the transactions needed for the table creation."
   ]
  },
  {
   "cell_type": "markdown",
   "id": "polar-verse",
   "metadata": {},
   "source": [
    "## Connecting to postgres database"
   ]
  },
  {
   "cell_type": "markdown",
   "id": "conscious-nickname",
   "metadata": {},
   "source": [
    "Since we are using python, we need to use a library so we can connect to the postgres server and do transactions. IN our case, we are using the `psycopg2` library."
   ]
  },
  {
   "cell_type": "code",
   "execution_count": 1,
   "id": "innovative-crowd",
   "metadata": {},
   "outputs": [],
   "source": [
    "import psycopg2 as psql"
   ]
  },
  {
   "cell_type": "markdown",
   "id": "paperback-rates",
   "metadata": {},
   "source": [
    "We define the parameters of the connection:\n",
    "- host\n",
    "- database\n",
    "- user\n",
    "- password"
   ]
  },
  {
   "cell_type": "code",
   "execution_count": 2,
   "id": "numerical-brain",
   "metadata": {},
   "outputs": [],
   "source": [
    "conn = psql.connect(\n",
    "    host=\"localhost\",\n",
    "    database=\"test\",\n",
    "    user=\"postgres\",\n",
    "    password=\"123\"\n",
    ")"
   ]
  },
  {
   "cell_type": "markdown",
   "id": "imported-delight",
   "metadata": {},
   "source": [
    "We can ensure the connection is correct by printing the postgesSQL version in the server."
   ]
  },
  {
   "cell_type": "code",
   "execution_count": 3,
   "id": "blessed-salmon",
   "metadata": {
    "scrolled": true
   },
   "outputs": [
    {
     "name": "stdout",
     "output_type": "stream",
     "text": [
      "PostgreSQL database version:\n",
      "('PostgreSQL 13.2 (Debian 13.2-1.pgdg100+1) on x86_64-pc-linux-gnu, compiled by gcc (Debian 8.3.0-6) 8.3.0, 64-bit',)\n"
     ]
    }
   ],
   "source": [
    "cur = conn.cursor()\n",
    "\n",
    "print('PostgreSQL database version:')\n",
    "\n",
    "cur.execute('SELECT version()')\n",
    "db_version = cur.fetchone()\n",
    "print(db_version)\n",
    "\n",
    "cur.close()"
   ]
  },
  {
   "cell_type": "markdown",
   "id": "simplified-charm",
   "metadata": {},
   "source": [
    "Once we have finished using the database connection, we can close it."
   ]
  },
  {
   "cell_type": "code",
   "execution_count": 4,
   "id": "applicable-reward",
   "metadata": {},
   "outputs": [],
   "source": [
    "conn.close()"
   ]
  },
  {
   "cell_type": "markdown",
   "id": "disciplinary-charlotte",
   "metadata": {},
   "source": [
    "## Creating tables"
   ]
  },
  {
   "cell_type": "markdown",
   "id": "capable-compromise",
   "metadata": {},
   "source": [
    "Now we have our connection established, we want to create all the tables we need. In the  following image, we can see an schema of our tables."
   ]
  },
  {
   "cell_type": "markdown",
   "id": "metallic-baptist",
   "metadata": {},
   "source": [
    "![title](../Images/DB_Design.png)"
   ]
  },
  {
   "cell_type": "markdown",
   "id": "brief-recycling",
   "metadata": {},
   "source": [
    "### Defining commands"
   ]
  },
  {
   "cell_type": "markdown",
   "id": "amino-programmer",
   "metadata": {},
   "source": [
    "First, we are defining each command in a variable. As you can see, we first drop the table if it exists. It allows us to clear the database in case the tables are already created."
   ]
  },
  {
   "cell_type": "code",
   "execution_count": 5,
   "id": "thrown-evening",
   "metadata": {},
   "outputs": [],
   "source": [
    "percentile_groups_table = '''\n",
    "    DROP TABLE IF EXISTS percentil_groups CASCADE;\n",
    "    \n",
    "    CREATE TABLE percentil_groups (\n",
    "        id SERIAL PRIMARY KEY,\n",
    "        project_id VARCHAR(255) NOT NULL,\n",
    "        metadata JSON,\n",
    "        number_genes INTEGER NOT NULL,\n",
    "        number_cells INTEGER NOT NULL\n",
    "    );\n",
    "'''"
   ]
  },
  {
   "cell_type": "code",
   "execution_count": 6,
   "id": "desirable-sapphire",
   "metadata": {},
   "outputs": [],
   "source": [
    "percentiles_table = '''\n",
    "    DROP TABLE IF EXISTS percentiles CASCADE;\n",
    "    \n",
    "    CREATE TABLE percentiles (\n",
    "        id SERIAL PRIMARY KEY,\n",
    "        gene_name VARCHAR(255) NOT NULL,\n",
    "        percentile float NOT NULL,\n",
    "        percentil_group INTEGER NOT NULL,\n",
    "        FOREIGN KEY (percentil_group) \n",
    "            REFERENCES percentil_groups (id) \n",
    "            ON UPDATE CASCADE ON DELETE CASCADE\n",
    "    );\n",
    "'''"
   ]
  },
  {
   "cell_type": "code",
   "execution_count": 7,
   "id": "passive-nowhere",
   "metadata": {},
   "outputs": [],
   "source": [
    "gcn_table = '''\n",
    "    DROP TABLE IF EXISTS gcn CASCADE;\n",
    "\n",
    "    CREATE TABLE gcn (\n",
    "        id SERIAL PRIMARY KEY,\n",
    "        project_id VARCHAR(255) NOT NULL,\n",
    "        correction VARCHAR(255) NOT NULL,\n",
    "        iter_pseudocells INTEGER NOT NULL,\n",
    "        metadata JSON\n",
    "    );\n",
    "'''"
   ]
  },
  {
   "cell_type": "code",
   "execution_count": 8,
   "id": "violent-novel",
   "metadata": {},
   "outputs": [],
   "source": [
    "modules_table = '''\n",
    "    DROP TABLE IF EXISTS modules CASCADE;\n",
    "\n",
    "    CREATE TABLE modules (\n",
    "        id SERIAL PRIMARY KEY,\n",
    "        name VARCHAR(255) NOT NULL,\n",
    "        gcn INTEGER NOT NULL,\n",
    "        FOREIGN KEY (gcn) \n",
    "            REFERENCES gcn (id) \n",
    "            ON UPDATE CASCADE ON DELETE CASCADE\n",
    "    );\n",
    "'''"
   ]
  },
  {
   "cell_type": "code",
   "execution_count": 9,
   "id": "optional-sentence",
   "metadata": {},
   "outputs": [],
   "source": [
    "module_membership_table = '''\n",
    "    DROP TABLE IF EXISTS module_membership CASCADE;\n",
    "\n",
    "    CREATE TABLE module_membership (\n",
    "        id SERIAL PRIMARY KEY,\n",
    "        module INTEGER NOT NULL,\n",
    "        gene_name VARCHAR(255) NOT NULL,\n",
    "        MM float NOT NULL,\n",
    "        FOREIGN KEY (module) \n",
    "            REFERENCES modules (id) \n",
    "            ON UPDATE CASCADE ON DELETE CASCADE\n",
    "    );\n",
    "'''"
   ]
  },
  {
   "cell_type": "code",
   "execution_count": 10,
   "id": "collaborative-musician",
   "metadata": {},
   "outputs": [],
   "source": [
    "term_table = '''\n",
    "    DROP TABLE IF EXISTS term CASCADE;\n",
    "\n",
    "    CREATE TABLE term (\n",
    "        id SERIAL PRIMARY KEY,\n",
    "        name VARCHAR(255) NOT NULL,\n",
    "        term_id VARCHAR(255) NOT NULL,\n",
    "        source VARCHAR(255) NOT NULL,\n",
    "        IC float NULL\n",
    "    );\n",
    "'''"
   ]
  },
  {
   "cell_type": "code",
   "execution_count": 11,
   "id": "retired-innocent",
   "metadata": {},
   "outputs": [],
   "source": [
    "annotation_table = '''\n",
    "    DROP TABLE IF EXISTS annotation CASCADE;\n",
    "\n",
    "    CREATE TABLE annotation (\n",
    "        id SERIAL PRIMARY KEY,\n",
    "        module INTEGER NOT nULL,\n",
    "        term INTEGER NOT NULL,\n",
    "        p_value float NOT NULL,\n",
    "        FOREIGN KEY (module) \n",
    "            REFERENCES modules (id) \n",
    "            ON UPDATE CASCADE ON DELETE CASCADE,\n",
    "        FOREIGN KEY (term) \n",
    "            REFERENCES term (id) \n",
    "            ON UPDATE CASCADE ON DELETE CASCADE\n",
    "    );\n",
    "'''"
   ]
  },
  {
   "cell_type": "code",
   "execution_count": 12,
   "id": "listed-affairs",
   "metadata": {},
   "outputs": [],
   "source": [
    "commands = [\n",
    "    percentile_groups_table,\n",
    "    percentiles_table,\n",
    "    gcn_table,\n",
    "    modules_table,\n",
    "    module_membership_table,\n",
    "    term_table,\n",
    "    annotation_table\n",
    "]"
   ]
  },
  {
   "cell_type": "markdown",
   "id": "adult-sauce",
   "metadata": {},
   "source": [
    "### Run the commands and create the tables"
   ]
  },
  {
   "cell_type": "markdown",
   "id": "advance-district",
   "metadata": {},
   "source": [
    "Lastly, we are executing each command in the postgres database."
   ]
  },
  {
   "cell_type": "code",
   "execution_count": 13,
   "id": "soviet-modification",
   "metadata": {},
   "outputs": [],
   "source": [
    "try:\n",
    "    # connect to the PostgreSQL server\n",
    "    conn = psql.connect(\n",
    "        host=\"localhost\",\n",
    "        database=\"test\",\n",
    "        user=\"postgres\",\n",
    "        password=\"123\"\n",
    "    )\n",
    "    cur = conn.cursor()\n",
    "    \n",
    "    # create table one by one\n",
    "    for command in commands:\n",
    "        cur.execute(command)\n",
    "    # close communication with the PostgreSQL database server\n",
    "    cur.close()\n",
    "    # commit the changes\n",
    "    conn.commit()\n",
    "except (Exception, psql.DatabaseError) as error:\n",
    "    print(error)\n",
    "finally:\n",
    "    if conn is not None:\n",
    "        conn.close()"
   ]
  },
  {
   "cell_type": "code",
   "execution_count": 14,
   "id": "expected-spoke",
   "metadata": {},
   "outputs": [
    {
     "name": "stdout",
     "output_type": "stream",
     "text": [
      "('percentil_groups',)\n",
      "('percentiles',)\n",
      "('gcn',)\n",
      "('modules',)\n",
      "('module_membership',)\n",
      "('annotation',)\n",
      "('term',)\n"
     ]
    }
   ],
   "source": [
    "try:\n",
    "    # connect to the PostgreSQL server\n",
    "    conn = psql.connect(\n",
    "        host=\"localhost\",\n",
    "        database=\"test\",\n",
    "        user=\"postgres\",\n",
    "        password=\"123\"\n",
    "    )\n",
    "    cur = conn.cursor()\n",
    "    \n",
    "    # read tables\n",
    "    cur.execute(\"\"\"\n",
    "        SELECT table_name \n",
    "        FROM information_schema.tables\n",
    "        WHERE table_schema = 'public'\n",
    "    \"\"\")\n",
    "    for table in cur.fetchall():\n",
    "        print(table)\n",
    "    # close communication with the PostgreSQL database server\n",
    "    cur.close()\n",
    "    # commit the changes\n",
    "    conn.commit()\n",
    "except (Exception, psql.DatabaseError) as error:\n",
    "    print(error)\n",
    "finally:\n",
    "    if conn is not None:\n",
    "        conn.close()"
   ]
  },
  {
   "cell_type": "markdown",
   "id": "fabulous-virtue",
   "metadata": {},
   "source": [
    "All the tables have been correctly created."
   ]
  }
 ],
 "metadata": {
  "kernelspec": {
   "display_name": "Python 3",
   "language": "python",
   "name": "python3"
  },
  "language_info": {
   "codemirror_mode": {
    "name": "ipython",
    "version": 3
   },
   "file_extension": ".py",
   "mimetype": "text/x-python",
   "name": "python",
   "nbconvert_exporter": "python",
   "pygments_lexer": "ipython3",
   "version": "3.8.8"
  }
 },
 "nbformat": 4,
 "nbformat_minor": 5
}
