{
 "cells": [
  {
   "cell_type": "code",
   "execution_count": 23,
   "id": "loaded-bench",
   "metadata": {},
   "outputs": [],
   "source": [
    "import requests\n",
    "import time\n",
    "import re\n",
    "import pandas as pd\n",
    "\n",
    "from IPython.display import clear_output\n",
    "from GetTermsOntobee import get_URI_from_name"
   ]
  },
  {
   "cell_type": "markdown",
   "id": "animal-termination",
   "metadata": {},
   "source": [
    "# 1. Getting SCEA disease terms and URIs"
   ]
  },
  {
   "cell_type": "markdown",
   "id": "meaningful-recorder",
   "metadata": {},
   "source": [
    "First we will define a function with which we will obtain all the terms of the project of SCEA. In this case we will use this function to obtain all the diseases of a project."
   ]
  },
  {
   "cell_type": "code",
   "execution_count": 15,
   "id": "recovered-intro",
   "metadata": {},
   "outputs": [],
   "source": [
    "def get_terms_from_project(experiment_id, name_column):\n",
    "    experiment_metadata = f\"https://www.ebi.ac.uk/gxa/sc/experiment/{experiment_id}/download?fileType=experiment-design&accessKey=\"\n",
    "    \n",
    "    df = pd.read_csv(experiment_metadata, sep='\\t', low_memory=False)\n",
    "    \n",
    "    # If project doesnt have the expected column, finish\n",
    "    if name_column not in df.columns:\n",
    "        return []\n",
    "    \n",
    "    project_term_names = df[name_column].unique()\n",
    "\n",
    "    return list(project_term_names)"
   ]
  },
  {
   "cell_type": "markdown",
   "id": "ethical-extraction",
   "metadata": {},
   "source": [
    "Now we will loop over all projects of SCEA so we get all the disease terms used. Using the url https://www.ebi.ac.uk/gxa/sc/json/experiments we obtain all projects."
   ]
  },
  {
   "cell_type": "code",
   "execution_count": 1,
   "id": "handled-means",
   "metadata": {},
   "outputs": [],
   "source": [
    "seed_url = \"https://www.ebi.ac.uk/gxa/sc/json/experiments\""
   ]
  },
  {
   "cell_type": "code",
   "execution_count": 2,
   "id": "straight-egypt",
   "metadata": {},
   "outputs": [],
   "source": [
    "headers = {\n",
    "    \"user-agent\": \"Mozilla/5.0 (Macintosh; Intel Mac OS X 10_15_6) AppleWebKit/537.36 (KHTML, like Gecko) Chrome/85.0.4183.83 Safari/537.36\"\n",
    "}"
   ]
  },
  {
   "cell_type": "code",
   "execution_count": 4,
   "id": "protective-platform",
   "metadata": {},
   "outputs": [],
   "source": [
    "answer = requests.get(seed_url, headers=headers)"
   ]
  },
  {
   "cell_type": "markdown",
   "id": "spoken-marathon",
   "metadata": {},
   "source": [
    "And we can iterate over `experiments` and get the terms of each project."
   ]
  },
  {
   "cell_type": "code",
   "execution_count": 16,
   "id": "infinite-moses",
   "metadata": {
    "scrolled": true
   },
   "outputs": [
    {
     "data": {
      "text/plain": [
       "['renal cell carcinoma',\n",
       " 'bronchioalveolar carcinoma; non-small cell lung cancer',\n",
       " 'lung adenocarcinoma',\n",
       " 'normal',\n",
       " 'normal',\n",
       " \"Crohn's disease\",\n",
       " 'lung adenocarcinoma',\n",
       " 'non-small cell lung carcinoma',\n",
       " 'COVID-19',\n",
       " 'normal',\n",
       " 'myelodysplastic syndrome',\n",
       " 'refractory anemia with excess blasts',\n",
       " 'hypocellular myelodysplastic syndrome',\n",
       " 'normal',\n",
       " 'normal',\n",
       " 'glioblastoma',\n",
       " 'melanoma',\n",
       " 'type II diabetes mellitus',\n",
       " 'normal',\n",
       " 'multiple myeloma',\n",
       " 'normal',\n",
       " 'HIV infection',\n",
       " 'normal',\n",
       " 'normal',\n",
       " 'normal',\n",
       " 'small intestine neuroendocrine tumor',\n",
       " 'cecum adenocarcinoma',\n",
       " 'rectal adenocarcinoma',\n",
       " 'chronic obstructive pulmonary disease',\n",
       " 'normal',\n",
       " 'normal',\n",
       " 'normal',\n",
       " 'normal',\n",
       " 'wet macular degeneration',\n",
       " 'normal',\n",
       " 'head and neck squamous cell carcinoma',\n",
       " 'normal',\n",
       " 'COVID-19',\n",
       " 'influenza',\n",
       " 'normal',\n",
       " 'COVID-19',\n",
       " 'normal',\n",
       " 'obstructive sleep apnea syndrome',\n",
       " 'normal',\n",
       " 'metastatic breast cancer',\n",
       " 'breast carcinoma',\n",
       " 'normal',\n",
       " 'chronic phase chronic myeloid leukemia',\n",
       " 'melanoma',\n",
       " 'normal',\n",
       " 'type II diabetes mellitus',\n",
       " 'normal',\n",
       " 'type I diabetes mellitus',\n",
       " 'type II diabetes mellitus',\n",
       " 'brain glioblastoma',\n",
       " 'normal',\n",
       " 'idiopathic pulmonary fibrosis',\n",
       " 'normal',\n",
       " 'normal',\n",
       " 'prostate carcinoma',\n",
       " 'normal',\n",
       " 'hepatitis C infection',\n",
       " 'normal',\n",
       " 'normal',\n",
       " 'normal',\n",
       " 'normal',\n",
       " 'normal',\n",
       " 'normal',\n",
       " 'myxoid liposarcoma',\n",
       " 'lung adenocarcinoma',\n",
       " 'squamous cell lung carcinoma',\n",
       " 'large cell lung carcinoma',\n",
       " 'influenza',\n",
       " 'normal',\n",
       " 'B cell acute lymphoblastic leukemia',\n",
       " 'normal',\n",
       " 'normal',\n",
       " 'normal',\n",
       " 'lung carcinoma',\n",
       " 'normal',\n",
       " 'not applicable',\n",
       " 'normal',\n",
       " 'normal',\n",
       " 'normal',\n",
       " 'normal',\n",
       " 'normal',\n",
       " 'fetal growth restriction',\n",
       " 'normal',\n",
       " 'normal',\n",
       " 'normal',\n",
       " 'normal',\n",
       " 'normal',\n",
       " 'fibrosis',\n",
       " 'normal',\n",
       " 'normal',\n",
       " 'ovarian serous adenocarcinoma',\n",
       " 'not applicable',\n",
       " 'normal',\n",
       " \"Parkinson's disease\",\n",
       " 'normal',\n",
       " 'normal',\n",
       " 'normal',\n",
       " 'normal',\n",
       " 'tonsilitis',\n",
       " 'normal',\n",
       " 'normal',\n",
       " 'normal',\n",
       " 'normal',\n",
       " 'normal',\n",
       " 'colorectal cancer',\n",
       " 'pancreatic neoplasm',\n",
       " 'normal',\n",
       " 'ovarian carcinoma',\n",
       " 'normal',\n",
       " 'COVID-19']"
      ]
     },
     "execution_count": 16,
     "metadata": {},
     "output_type": "execute_result"
    }
   ],
   "source": [
    "diseases = []\n",
    "disease_names = []\n",
    "avoid_collections = [\"Human Cell Atlas\"]\n",
    "\n",
    "n_experiments = len(answer.json()['experiments'])\n",
    "\n",
    "for n, experiment in enumerate(answer.json()['experiments']):\n",
    "    print(f\"{n+1}/{n_experiments}\")\n",
    "\n",
    "    if [i for i in experiment[\"experimentProjects\"] if i in avoid_collections]:\n",
    "        clear_output(wait=True)\n",
    "        continue\n",
    "    \n",
    "    experiment_id = experiment['experimentAccession']\n",
    "    disease_names_pro = get_terms_from_project(experiment_id=experiment_id, \n",
    "                                               name_column='Sample Characteristic[disease]')\n",
    "\n",
    "    disease_names += disease_names_pro\n",
    "    \n",
    "    time.sleep(1)\n",
    "    clear_output(wait=True)\n",
    "\n",
    "disease_names"
   ]
  },
  {
   "cell_type": "markdown",
   "id": "common-tutorial",
   "metadata": {},
   "source": [
    "As we can see, there are so many terms repeated. We can delete the duplicated ones so they are useless."
   ]
  },
  {
   "cell_type": "code",
   "execution_count": 17,
   "id": "lesbian-russia",
   "metadata": {
    "scrolled": true
   },
   "outputs": [
    {
     "data": {
      "text/plain": [
       "['idiopathic pulmonary fibrosis',\n",
       " 'large cell lung carcinoma',\n",
       " 'small intestine neuroendocrine tumor',\n",
       " 'obstructive sleep apnea syndrome',\n",
       " 'squamous cell lung carcinoma',\n",
       " 'brain glioblastoma',\n",
       " 'pancreatic neoplasm',\n",
       " 'ovarian serous adenocarcinoma',\n",
       " \"Parkinson's disease\",\n",
       " \"Crohn's disease\",\n",
       " 'non-small cell lung carcinoma',\n",
       " 'hepatitis C infection',\n",
       " 'myxoid liposarcoma',\n",
       " 'ovarian carcinoma',\n",
       " 'myelodysplastic syndrome',\n",
       " 'melanoma',\n",
       " 'HIV infection',\n",
       " 'lung carcinoma',\n",
       " 'not applicable',\n",
       " 'metastatic breast cancer',\n",
       " 'hypocellular myelodysplastic syndrome',\n",
       " 'B cell acute lymphoblastic leukemia',\n",
       " 'renal cell carcinoma',\n",
       " 'influenza',\n",
       " 'chronic obstructive pulmonary disease',\n",
       " 'breast carcinoma',\n",
       " 'lung adenocarcinoma',\n",
       " 'normal',\n",
       " 'tonsilitis',\n",
       " 'colorectal cancer',\n",
       " 'cecum adenocarcinoma',\n",
       " 'head and neck squamous cell carcinoma',\n",
       " 'bronchioalveolar carcinoma; non-small cell lung cancer',\n",
       " 'type II diabetes mellitus',\n",
       " 'multiple myeloma',\n",
       " 'prostate carcinoma',\n",
       " 'fibrosis',\n",
       " 'chronic phase chronic myeloid leukemia',\n",
       " 'type I diabetes mellitus',\n",
       " 'refractory anemia with excess blasts',\n",
       " 'rectal adenocarcinoma',\n",
       " 'glioblastoma',\n",
       " 'fetal growth restriction',\n",
       " 'COVID-19',\n",
       " 'wet macular degeneration']"
      ]
     },
     "execution_count": 17,
     "metadata": {},
     "output_type": "execute_result"
    }
   ],
   "source": [
    "disease_names_uniques = list(set(disease_names))\n",
    "disease_names_uniques"
   ]
  },
  {
   "cell_type": "markdown",
   "id": "international-ambassador",
   "metadata": {},
   "source": [
    "The next step is to search the URIs of each term. We define the function `get_URIs_from_term` to fulfill that goal, using the function `get_URI_from_name` to search the URI in a set of ontologies."
   ]
  },
  {
   "cell_type": "code",
   "execution_count": 56,
   "id": "catholic-backing",
   "metadata": {},
   "outputs": [],
   "source": [
    "def get_URIs_from_term(term_name, ontologies):\n",
    "    print(f'Searching URIs for \"{term_name}\"')\n",
    "    terms = []\n",
    "    \n",
    "    # First get the URIs of all ontologies\n",
    "    for ontology in ontologies:\n",
    "        URI = get_URI_from_name(term_name, ontology)\n",
    "        time.sleep(1)\n",
    "\n",
    "        if URI is not None:\n",
    "            terms.append({'name': term_name, 'URI': URI})\n",
    "    \n",
    "    # If we dont find any URI with the ontologies, we search for a URI in ALL ontologies\n",
    "    if not terms:\n",
    "        URI = get_URI_from_name(term_name)\n",
    "        \n",
    "        if URI is not None:\n",
    "            terms.append({'name': term_name, 'URI': URI})\n",
    "    \n",
    "    \n",
    "    splitted = re.split(' and |, |; ', term_name)\n",
    "    \n",
    "    # If the term_name is a list of terms, we iterate over them\n",
    "    if not terms and len(splitted) > 1:\n",
    "        for new_name in splitted:\n",
    "            terms += get_URIs_from_term(new_name, ontologies)\n",
    "        \n",
    "    return terms"
   ]
  },
  {
   "cell_type": "markdown",
   "id": "obvious-variable",
   "metadata": {},
   "source": [
    "The ontologies we have considered important are `PATO`, `MONDO`, `DOID` and `HP`."
   ]
  },
  {
   "cell_type": "code",
   "execution_count": 57,
   "id": "literary-ancient",
   "metadata": {},
   "outputs": [],
   "source": [
    "ontologies = ['PATO', 'MONDO', 'DOID', 'HP']"
   ]
  },
  {
   "cell_type": "code",
   "execution_count": 58,
   "id": "lasting-rendering",
   "metadata": {
    "scrolled": true
   },
   "outputs": [
    {
     "name": "stdout",
     "output_type": "stream",
     "text": [
      "Searching URIs for \"bronchioalveolar carcinoma; non-small cell lung cancer\"\n",
      "Searching URIs for \"bronchioalveolar carcinoma\"\n",
      "Searching URIs for \"non-small cell lung cancer\"\n"
     ]
    },
    {
     "data": {
      "text/plain": [
       "[{'name': 'bronchioalveolar carcinoma',\n",
       "  'URI': 'http://purl.obolibrary.org/obo/MONDO_0000503'},\n",
       " {'name': 'bronchioalveolar carcinoma',\n",
       "  'URI': 'http://purl.obolibrary.org/obo/DOID_0050870'},\n",
       " {'name': 'non-small cell lung cancer',\n",
       "  'URI': 'http://purl.obolibrary.org/obo/MONDO_0005233'},\n",
       " {'name': 'non-small cell lung cancer',\n",
       "  'URI': 'http://purl.obolibrary.org/obo/DOID_3908'},\n",
       " {'name': 'non-small cell lung cancer',\n",
       "  'URI': 'http://purl.obolibrary.org/obo/HP_0030358'}]"
      ]
     },
     "execution_count": 58,
     "metadata": {},
     "output_type": "execute_result"
    }
   ],
   "source": [
    "get_URIs_from_term('bronchioalveolar carcinoma; non-small cell lung cancer', ontologies)"
   ]
  },
  {
   "cell_type": "markdown",
   "id": "proved-dream",
   "metadata": {},
   "source": [
    "Now, we can get the URIs of each term name and create a dataframe with the URIs and the names."
   ]
  },
  {
   "cell_type": "code",
   "execution_count": 59,
   "id": "public-humanitarian",
   "metadata": {},
   "outputs": [
    {
     "name": "stdout",
     "output_type": "stream",
     "text": [
      "Searching URIs for \"idiopathic pulmonary fibrosis\"\n",
      "Searching URIs for \"large cell lung carcinoma\"\n",
      "Searching URIs for \"small intestine neuroendocrine tumor\"\n",
      "Searching URIs for \"obstructive sleep apnea syndrome\"\n",
      "Searching URIs for \"squamous cell lung carcinoma\"\n",
      "Searching URIs for \"brain glioblastoma\"\n",
      "Searching URIs for \"pancreatic neoplasm\"\n",
      "Searching URIs for \"ovarian serous adenocarcinoma\"\n",
      "Searching URIs for \"Parkinson's disease\"\n",
      "Searching URIs for \"Crohn's disease\"\n",
      "Searching URIs for \"non-small cell lung carcinoma\"\n",
      "Searching URIs for \"hepatitis C infection\"\n",
      "Searching URIs for \"myxoid liposarcoma\"\n",
      "Searching URIs for \"ovarian carcinoma\"\n",
      "Searching URIs for \"myelodysplastic syndrome\"\n",
      "Searching URIs for \"melanoma\"\n",
      "Searching URIs for \"HIV infection\"\n",
      "Searching URIs for \"lung carcinoma\"\n",
      "Searching URIs for \"not applicable\"\n",
      "Searching URIs for \"metastatic breast cancer\"\n",
      "Searching URIs for \"hypocellular myelodysplastic syndrome\"\n",
      "Searching URIs for \"B cell acute lymphoblastic leukemia\"\n",
      "Searching URIs for \"renal cell carcinoma\"\n",
      "Searching URIs for \"influenza\"\n",
      "Searching URIs for \"chronic obstructive pulmonary disease\"\n",
      "Searching URIs for \"breast carcinoma\"\n",
      "Searching URIs for \"lung adenocarcinoma\"\n",
      "Searching URIs for \"normal\"\n",
      "Searching URIs for \"tonsilitis\"\n",
      "Searching URIs for \"colorectal cancer\"\n",
      "Searching URIs for \"cecum adenocarcinoma\"\n",
      "Searching URIs for \"head and neck squamous cell carcinoma\"\n",
      "Searching URIs for \"bronchioalveolar carcinoma; non-small cell lung cancer\"\n",
      "Searching URIs for \"bronchioalveolar carcinoma\"\n",
      "Searching URIs for \"non-small cell lung cancer\"\n",
      "Searching URIs for \"type II diabetes mellitus\"\n",
      "Searching URIs for \"multiple myeloma\"\n",
      "Searching URIs for \"prostate carcinoma\"\n",
      "Searching URIs for \"fibrosis\"\n",
      "Searching URIs for \"chronic phase chronic myeloid leukemia\"\n",
      "Searching URIs for \"type I diabetes mellitus\"\n",
      "Searching URIs for \"refractory anemia with excess blasts\"\n",
      "Searching URIs for \"rectal adenocarcinoma\"\n",
      "Searching URIs for \"glioblastoma\"\n",
      "Searching URIs for \"fetal growth restriction\"\n",
      "Searching URIs for \"COVID-19\"\n",
      "Searching URIs for \"wet macular degeneration\"\n"
     ]
    }
   ],
   "source": [
    "terms_URIs = []\n",
    "for name in disease_names_uniques:\n",
    "    term_URIs = get_URIs_from_term(name, ontologies)\n",
    "    \n",
    "    terms_URIs += term_URIs"
   ]
  },
  {
   "cell_type": "code",
   "execution_count": 65,
   "id": "pressed-series",
   "metadata": {},
   "outputs": [
    {
     "data": {
      "text/html": [
       "<div>\n",
       "<style scoped>\n",
       "    .dataframe tbody tr th:only-of-type {\n",
       "        vertical-align: middle;\n",
       "    }\n",
       "\n",
       "    .dataframe tbody tr th {\n",
       "        vertical-align: top;\n",
       "    }\n",
       "\n",
       "    .dataframe thead th {\n",
       "        text-align: right;\n",
       "    }\n",
       "</style>\n",
       "<table border=\"1\" class=\"dataframe\">\n",
       "  <thead>\n",
       "    <tr style=\"text-align: right;\">\n",
       "      <th></th>\n",
       "      <th>name</th>\n",
       "      <th>URI</th>\n",
       "    </tr>\n",
       "  </thead>\n",
       "  <tbody>\n",
       "    <tr>\n",
       "      <th>0</th>\n",
       "      <td>idiopathic pulmonary fibrosis</td>\n",
       "      <td>http://purl.obolibrary.org/obo/MONDO_0008345</td>\n",
       "    </tr>\n",
       "    <tr>\n",
       "      <th>1</th>\n",
       "      <td>idiopathic pulmonary fibrosis</td>\n",
       "      <td>http://purl.obolibrary.org/obo/DOID_0050156</td>\n",
       "    </tr>\n",
       "    <tr>\n",
       "      <th>2</th>\n",
       "      <td>large cell lung carcinoma</td>\n",
       "      <td>http://purl.obolibrary.org/obo/MONDO_0003050</td>\n",
       "    </tr>\n",
       "    <tr>\n",
       "      <th>3</th>\n",
       "      <td>large cell lung carcinoma</td>\n",
       "      <td>http://purl.obolibrary.org/obo/DOID_4556</td>\n",
       "    </tr>\n",
       "    <tr>\n",
       "      <th>4</th>\n",
       "      <td>large cell lung carcinoma</td>\n",
       "      <td>http://purl.obolibrary.org/obo/HP_0030360</td>\n",
       "    </tr>\n",
       "    <tr>\n",
       "      <th>...</th>\n",
       "      <td>...</td>\n",
       "      <td>...</td>\n",
       "    </tr>\n",
       "    <tr>\n",
       "      <th>98</th>\n",
       "      <td>glioblastoma</td>\n",
       "      <td>http://purl.obolibrary.org/obo/HP_0012174</td>\n",
       "    </tr>\n",
       "    <tr>\n",
       "      <th>99</th>\n",
       "      <td>fetal growth restriction</td>\n",
       "      <td>http://purl.obolibrary.org/obo/MONDO_0005030</td>\n",
       "    </tr>\n",
       "    <tr>\n",
       "      <th>100</th>\n",
       "      <td>COVID-19</td>\n",
       "      <td>http://purl.obolibrary.org/obo/MONDO_0100096</td>\n",
       "    </tr>\n",
       "    <tr>\n",
       "      <th>101</th>\n",
       "      <td>COVID-19</td>\n",
       "      <td>http://purl.obolibrary.org/obo/DOID_0080600</td>\n",
       "    </tr>\n",
       "    <tr>\n",
       "      <th>102</th>\n",
       "      <td>wet macular degeneration</td>\n",
       "      <td>http://purl.obolibrary.org/obo/MONDO_0005417</td>\n",
       "    </tr>\n",
       "  </tbody>\n",
       "</table>\n",
       "<p>103 rows × 2 columns</p>\n",
       "</div>"
      ],
      "text/plain": [
       "                              name  \\\n",
       "0    idiopathic pulmonary fibrosis   \n",
       "1    idiopathic pulmonary fibrosis   \n",
       "2        large cell lung carcinoma   \n",
       "3        large cell lung carcinoma   \n",
       "4        large cell lung carcinoma   \n",
       "..                             ...   \n",
       "98                    glioblastoma   \n",
       "99        fetal growth restriction   \n",
       "100                       COVID-19   \n",
       "101                       COVID-19   \n",
       "102       wet macular degeneration   \n",
       "\n",
       "                                              URI  \n",
       "0    http://purl.obolibrary.org/obo/MONDO_0008345  \n",
       "1     http://purl.obolibrary.org/obo/DOID_0050156  \n",
       "2    http://purl.obolibrary.org/obo/MONDO_0003050  \n",
       "3        http://purl.obolibrary.org/obo/DOID_4556  \n",
       "4       http://purl.obolibrary.org/obo/HP_0030360  \n",
       "..                                            ...  \n",
       "98      http://purl.obolibrary.org/obo/HP_0012174  \n",
       "99   http://purl.obolibrary.org/obo/MONDO_0005030  \n",
       "100  http://purl.obolibrary.org/obo/MONDO_0100096  \n",
       "101   http://purl.obolibrary.org/obo/DOID_0080600  \n",
       "102  http://purl.obolibrary.org/obo/MONDO_0005417  \n",
       "\n",
       "[103 rows x 2 columns]"
      ]
     },
     "execution_count": 65,
     "metadata": {},
     "output_type": "execute_result"
    }
   ],
   "source": [
    "SCEA_diseases = pd.DataFrame(terms_URIs)\n",
    "SCEA_diseases"
   ]
  },
  {
   "cell_type": "code",
   "execution_count": 67,
   "id": "modern-pastor",
   "metadata": {},
   "outputs": [
    {
     "ename": "SyntaxError",
     "evalue": "invalid syntax (<ipython-input-67-398f37f70398>, line 1)",
     "output_type": "error",
     "traceback": [
      "\u001b[0;36m  File \u001b[0;32m\"<ipython-input-67-398f37f70398>\"\u001b[0;36m, line \u001b[0;32m1\u001b[0m\n\u001b[0;31m    from ../OntologyConversorSCAE import OntologyConversorSCAE\u001b[0m\n\u001b[0m           ^\u001b[0m\n\u001b[0;31mSyntaxError\u001b[0m\u001b[0;31m:\u001b[0m invalid syntax\n"
     ]
    }
   ],
   "source": [
    "from OntologyConversorSCAE import OntologyConversorSCAE\n",
    "\n",
    "conversor = OntologyConversorSCAE()"
   ]
  },
  {
   "cell_type": "markdown",
   "id": "thermal-tribune",
   "metadata": {},
   "source": [
    "# 2. Getting HCA disease terms and URIs"
   ]
  },
  {
   "cell_type": "markdown",
   "id": "competent-album",
   "metadata": {},
   "source": [
    "We can use the HCA API-REST (https://service.azul.data.humancellatlas.org/index/projects?size=999&catalog=dcp1) to obtain all projects info. With that info, we will get the all the terms names."
   ]
  },
  {
   "cell_type": "code",
   "execution_count": null,
   "id": "gross-washington",
   "metadata": {},
   "outputs": [],
   "source": [
    "seed_url = \"https://service.azul.data.humancellatlas.org/index/projects?size=999&catalog=dcp1\"\n",
    "\n",
    "# User-Agent obtenido del recurso del curso.\n",
    "headers = {\n",
    "    \"user-agent\": \"Mozilla/5.0 (Macintosh; Intel Mac OS X 10_15_6) AppleWebKit/537.36 (KHTML, like Gecko) Chrome/85.0.4183.83 Safari/537.36\"\n",
    "}\n",
    "\n",
    "answer = requests.get(seed_url, headers=headers)\n",
    "project_hits = answer.json()[\"hits\"]"
   ]
  },
  {
   "cell_type": "code",
   "execution_count": null,
   "id": "close-spread",
   "metadata": {},
   "outputs": [],
   "source": [
    "projects = []\n",
    "accessing_error = []\n",
    "\n",
    "n_projects = len(project_hits)\n",
    "\n",
    "disease_names_HCA = []\n",
    "\n",
    "for n, hit in enumerate(project_hits):    \n",
    "    for item in hit['donorOrganisms']:\n",
    "        disease_names_HCA += item['disease']\n",
    "        \n",
    "    clear_output(wait=True)\n",
    "    \n",
    "disease_names_HCA = list(set(disease_names_HCA))"
   ]
  }
 ],
 "metadata": {
  "kernelspec": {
   "display_name": "Python 3",
   "language": "python",
   "name": "python3"
  },
  "language_info": {
   "codemirror_mode": {
    "name": "ipython",
    "version": 3
   },
   "file_extension": ".py",
   "mimetype": "text/x-python",
   "name": "python",
   "nbconvert_exporter": "python",
   "pygments_lexer": "ipython3",
   "version": "3.8.5"
  }
 },
 "nbformat": 4,
 "nbformat_minor": 5
}
