{
 "cells": [
  {
   "cell_type": "code",
   "execution_count": 11,
   "id": "informative-mother",
   "metadata": {},
   "outputs": [],
   "source": [
    "import pandas as pd\n",
    "import json\n",
    "\n",
    "from csv2GOREP import csv2GOREP\n",
    "from OntologyCreator import OntologyCreator"
   ]
  },
  {
   "cell_type": "markdown",
   "id": "sporting-reminder",
   "metadata": {},
   "source": [
    "# Read files"
   ]
  },
  {
   "cell_type": "code",
   "execution_count": 2,
   "id": "parental-parker",
   "metadata": {},
   "outputs": [],
   "source": [
    "project_info_path = \"../project_info_template.csv\"\n",
    "metadata_table_path = \"../metadata_table_template.csv\""
   ]
  },
  {
   "cell_type": "code",
   "execution_count": 3,
   "id": "scheduled-compiler",
   "metadata": {},
   "outputs": [
    {
     "data": {
      "text/html": [
       "<div>\n",
       "<style scoped>\n",
       "    .dataframe tbody tr th:only-of-type {\n",
       "        vertical-align: middle;\n",
       "    }\n",
       "\n",
       "    .dataframe tbody tr th {\n",
       "        vertical-align: top;\n",
       "    }\n",
       "\n",
       "    .dataframe thead th {\n",
       "        text-align: right;\n",
       "    }\n",
       "</style>\n",
       "<table border=\"1\" class=\"dataframe\">\n",
       "  <thead>\n",
       "    <tr style=\"text-align: right;\">\n",
       "      <th></th>\n",
       "      <th>key</th>\n",
       "      <th>value</th>\n",
       "    </tr>\n",
       "  </thead>\n",
       "  <tbody>\n",
       "    <tr>\n",
       "      <th>0</th>\n",
       "      <td>id</td>\n",
       "      <td>NaN</td>\n",
       "    </tr>\n",
       "    <tr>\n",
       "      <th>1</th>\n",
       "      <td>title</td>\n",
       "      <td>NaN</td>\n",
       "    </tr>\n",
       "    <tr>\n",
       "      <th>2</th>\n",
       "      <td>short_name</td>\n",
       "      <td>NaN</td>\n",
       "    </tr>\n",
       "    <tr>\n",
       "      <th>3</th>\n",
       "      <td>description</td>\n",
       "      <td>NaN</td>\n",
       "    </tr>\n",
       "    <tr>\n",
       "      <th>4</th>\n",
       "      <td>update_date</td>\n",
       "      <td>NaN</td>\n",
       "    </tr>\n",
       "    <tr>\n",
       "      <th>5</th>\n",
       "      <td>load_date</td>\n",
       "      <td>NaN</td>\n",
       "    </tr>\n",
       "    <tr>\n",
       "      <th>6</th>\n",
       "      <td>array_express_id</td>\n",
       "      <td>NaN</td>\n",
       "    </tr>\n",
       "    <tr>\n",
       "      <th>7</th>\n",
       "      <td>ENA_id</td>\n",
       "      <td>NaN</td>\n",
       "    </tr>\n",
       "    <tr>\n",
       "      <th>8</th>\n",
       "      <td>GEO_id</td>\n",
       "      <td>NaN</td>\n",
       "    </tr>\n",
       "    <tr>\n",
       "      <th>9</th>\n",
       "      <td>INSD_project_id</td>\n",
       "      <td>NaN</td>\n",
       "    </tr>\n",
       "    <tr>\n",
       "      <th>10</th>\n",
       "      <td>INSD_study_id</td>\n",
       "      <td>NaN</td>\n",
       "    </tr>\n",
       "    <tr>\n",
       "      <th>11</th>\n",
       "      <td>institution</td>\n",
       "      <td>NaN</td>\n",
       "    </tr>\n",
       "    <tr>\n",
       "      <th>12</th>\n",
       "      <td>collection</td>\n",
       "      <td>NaN</td>\n",
       "    </tr>\n",
       "    <tr>\n",
       "      <th>13</th>\n",
       "      <td>repository</td>\n",
       "      <td>NaN</td>\n",
       "    </tr>\n",
       "    <tr>\n",
       "      <th>14</th>\n",
       "      <td>publication_title</td>\n",
       "      <td>NaN</td>\n",
       "    </tr>\n",
       "    <tr>\n",
       "      <th>15</th>\n",
       "      <td>publication_link</td>\n",
       "      <td>NaN</td>\n",
       "    </tr>\n",
       "  </tbody>\n",
       "</table>\n",
       "</div>"
      ],
      "text/plain": [
       "                  key  value\n",
       "0                  id    NaN\n",
       "1               title    NaN\n",
       "2          short_name    NaN\n",
       "3         description    NaN\n",
       "4         update_date    NaN\n",
       "5           load_date    NaN\n",
       "6    array_express_id    NaN\n",
       "7              ENA_id    NaN\n",
       "8              GEO_id    NaN\n",
       "9     INSD_project_id    NaN\n",
       "10      INSD_study_id    NaN\n",
       "11        institution    NaN\n",
       "12         collection    NaN\n",
       "13         repository    NaN\n",
       "14  publication_title    NaN\n",
       "15   publication_link    NaN"
      ]
     },
     "execution_count": 3,
     "metadata": {},
     "output_type": "execute_result"
    }
   ],
   "source": [
    "project_info = pd.read_csv(project_info_path, header=None, names=['key', 'value'])\n",
    "project_info"
   ]
  },
  {
   "cell_type": "code",
   "execution_count": 4,
   "id": "spectacular-denmark",
   "metadata": {
    "scrolled": false
   },
   "outputs": [
    {
     "data": {
      "text/html": [
       "<div>\n",
       "<style scoped>\n",
       "    .dataframe tbody tr th:only-of-type {\n",
       "        vertical-align: middle;\n",
       "    }\n",
       "\n",
       "    .dataframe tbody tr th {\n",
       "        vertical-align: top;\n",
       "    }\n",
       "\n",
       "    .dataframe thead th {\n",
       "        text-align: right;\n",
       "    }\n",
       "</style>\n",
       "<table border=\"1\" class=\"dataframe\">\n",
       "  <thead>\n",
       "    <tr style=\"text-align: right;\">\n",
       "      <th></th>\n",
       "      <th>assay</th>\n",
       "      <th>specie</th>\n",
       "      <th>cell_type</th>\n",
       "      <th>disease</th>\n",
       "      <th>organism_part</th>\n",
       "      <th>biopsy_site</th>\n",
       "      <th>metastatic_site</th>\n",
       "      <th>instrument</th>\n",
       "      <th>library</th>\n",
       "      <th>preservation</th>\n",
       "      <th>sex</th>\n",
       "      <th>min_age</th>\n",
       "      <th>max_age</th>\n",
       "      <th>age_unit</th>\n",
       "      <th>cell_line</th>\n",
       "      <th>nucleic_acid_source</th>\n",
       "      <th>sample_type</th>\n",
       "    </tr>\n",
       "  </thead>\n",
       "  <tbody>\n",
       "    <tr>\n",
       "      <th>0</th>\n",
       "      <td>NaN</td>\n",
       "      <td>NaN</td>\n",
       "      <td>NaN</td>\n",
       "      <td>NaN</td>\n",
       "      <td>NaN</td>\n",
       "      <td>NaN</td>\n",
       "      <td>NaN</td>\n",
       "      <td>NaN</td>\n",
       "      <td>NaN</td>\n",
       "      <td>NaN</td>\n",
       "      <td>NaN</td>\n",
       "      <td>NaN</td>\n",
       "      <td>NaN</td>\n",
       "      <td>NaN</td>\n",
       "      <td>NaN</td>\n",
       "      <td>NaN</td>\n",
       "      <td>NaN</td>\n",
       "    </tr>\n",
       "  </tbody>\n",
       "</table>\n",
       "</div>"
      ],
      "text/plain": [
       "   assay  specie  cell_type  disease  organism_part  biopsy_site  \\\n",
       "0    NaN     NaN        NaN      NaN            NaN          NaN   \n",
       "\n",
       "   metastatic_site  instrument  library  preservation  sex  min_age  max_age  \\\n",
       "0              NaN         NaN      NaN           NaN  NaN      NaN      NaN   \n",
       "\n",
       "   age_unit  cell_line  nucleic_acid_source  sample_type  \n",
       "0       NaN        NaN                  NaN          NaN  "
      ]
     },
     "execution_count": 4,
     "metadata": {},
     "output_type": "execute_result"
    }
   ],
   "source": [
    "metadata_table = pd.read_csv(metadata_table_path)\n",
    "metadata_table"
   ]
  },
  {
   "cell_type": "markdown",
   "id": "nonprofit-collins",
   "metadata": {},
   "source": [
    "# csv --> raw json "
   ]
  },
  {
   "cell_type": "code",
   "execution_count": 21,
   "id": "smooth-testing",
   "metadata": {},
   "outputs": [],
   "source": [
    "project_dict = csv2GOREP(project_info, metadata_table)"
   ]
  },
  {
   "cell_type": "code",
   "execution_count": 22,
   "id": "local-analysis",
   "metadata": {},
   "outputs": [
    {
     "data": {
      "text/plain": [
       "{'id': [],\n",
       " 'title': [],\n",
       " 'short_name': [],\n",
       " 'description': [],\n",
       " 'update_date': [],\n",
       " 'load_date': [],\n",
       " 'array_express_id': [],\n",
       " 'ENA_id': [],\n",
       " 'GEO_id': [],\n",
       " 'INSD_project_id': [],\n",
       " 'INSD_study_id': [],\n",
       " 'institution': [],\n",
       " 'collection': [],\n",
       " 'repository': [],\n",
       " 'publication_title': [],\n",
       " 'publication_link': [],\n",
       " 'specie': [],\n",
       " 'cell_type': [],\n",
       " 'disease': [],\n",
       " 'organism_part': [],\n",
       " 'biopsy_site': [],\n",
       " 'metastatic_site': [],\n",
       " 'instrument': [],\n",
       " 'library': [],\n",
       " 'preservation': [],\n",
       " 'sex': [],\n",
       " 'min_age': [],\n",
       " 'max_age': [],\n",
       " 'age_unit': [],\n",
       " 'cell_line': [],\n",
       " 'nucleic_acid_source': [],\n",
       " 'sample_type': []}"
      ]
     },
     "execution_count": 22,
     "metadata": {},
     "output_type": "execute_result"
    }
   ],
   "source": [
    "project_dict"
   ]
  },
  {
   "cell_type": "markdown",
   "id": "nominated-mainstream",
   "metadata": {},
   "source": [
    "# raw json --> processed json"
   ]
  },
  {
   "cell_type": "code",
   "execution_count": 23,
   "id": "greek-concord",
   "metadata": {},
   "outputs": [],
   "source": [
    "ont = OntologyCreator(project_id_counter=10)"
   ]
  },
  {
   "cell_type": "code",
   "execution_count": 24,
   "id": "industrial-behalf",
   "metadata": {},
   "outputs": [
    {
     "data": {
      "text/plain": [
       "{'ID': 'PROJECT_ID_0010',\n",
       " 'ObjectProperties': {'SPR.hasAnalysisProtocol': None,\n",
       "  'SPR.hasBiopsySite': [],\n",
       "  'SPR.hasCellLineType': [],\n",
       "  'SPR.hasDisease': [],\n",
       "  'SPR.hasInstrument': [],\n",
       "  'SPR.hasLibrary': [],\n",
       "  'SPR.hasModel': None,\n",
       "  'SPR.hasOrganismPart': [],\n",
       "  'SPR.hasPreservation': [],\n",
       "  'SPR.hasCellType': [],\n",
       "  'SPR.hasSpecie': [],\n",
       "  'SPR.hasSampleStatus': None,\n",
       "  'SPR.hasMetastaticSite': []},\n",
       " 'DataProperties': {'SPR.hasSex': [],\n",
       "  'SPR.hasPhenotype': None,\n",
       "  'SPR.hasTotalCellCount': -1,\n",
       "  'SPR.isPairedEnd': None,\n",
       "  'SPR.hasGrowthCondition': None,\n",
       "  'SPR.hasSampleType': [],\n",
       "  'SPR.hasNucleicAcidSource': [],\n",
       "  'PR.hasDonorCount': None,\n",
       "  'PR.hasExperimentalFactor': None,\n",
       "  'PR.hasSpecimenCount': None},\n",
       " 'AnnotationProperties': {'SPR.hasLaboratory': None,\n",
       "  'SPR.hasProjectShortName': [],\n",
       "  'SPR.hasProjectTitle': [],\n",
       "  'SPR.isPartOfCollection': [],\n",
       "  'SPR.isPartOfRepository': [],\n",
       "  'SPR.hasClusteringLink': None,\n",
       "  'SPR.hasExperimentDesignLink': None,\n",
       "  'SPR.hasExperimentMetadataLink': None,\n",
       "  'SPR.hasFilteredTPMLink': None,\n",
       "  'SPR.hasMarkerGenesLink': None,\n",
       "  'SPR.hasMatrixLink': None,\n",
       "  'SPR.hasNormalisedCountsLink': None,\n",
       "  'SPR.hasRawCountsLink': None,\n",
       "  'SPR.hasResultsLink': None,\n",
       "  'PR.hasArrayExpressID': [],\n",
       "  'PR.hasENAprojectID': [],\n",
       "  'PR.hasDescription': [],\n",
       "  'PR.hasGEOseriesID': [],\n",
       "  'PR.hasINSDCprojectID': [],\n",
       "  'PR.hasINSDCstudyID': [],\n",
       "  'PR.hasInstitution': [],\n",
       "  'PR.hasLoadDate': [],\n",
       "  'PR.hasProjectID': [],\n",
       "  'PR.hasPublicationLink': [],\n",
       "  'PR.hasPublicationTitle': [],\n",
       "  'PR.hasProjectRepositoryLink': None,\n",
       "  'PR.hasUpdateDate': []}}"
      ]
     },
     "execution_count": 24,
     "metadata": {},
     "output_type": "execute_result"
    }
   ],
   "source": [
    "processed_project = ont.create_gorep_project(project_dict)\n",
    "processed_project"
   ]
  },
  {
   "cell_type": "code",
   "execution_count": 27,
   "id": "human-killer",
   "metadata": {},
   "outputs": [],
   "source": [
    "processed_project['AnnotationProperties']['SPR.hasProjectTitle'] = \"Example title.\""
   ]
  },
  {
   "cell_type": "code",
   "execution_count": 28,
   "id": "fallen-rapid",
   "metadata": {},
   "outputs": [],
   "source": [
    "processed_json = {\n",
    "    'specimens': [],\n",
    "    'projects': [\n",
    "        processed_project\n",
    "    ]\n",
    "}"
   ]
  },
  {
   "cell_type": "code",
   "execution_count": 29,
   "id": "intended-illinois",
   "metadata": {},
   "outputs": [],
   "source": [
    "with open(f'../../SingleCell-Files/processed_data/{processed[\"ID\"]}_processed.json', 'w') as outfile:\n",
    "    json.dump(processed_json, outfile)"
   ]
  },
  {
   "cell_type": "code",
   "execution_count": null,
   "id": "difficult-wright",
   "metadata": {},
   "outputs": [],
   "source": []
  }
 ],
 "metadata": {
  "kernelspec": {
   "display_name": "Python 3",
   "language": "python",
   "name": "python3"
  },
  "language_info": {
   "codemirror_mode": {
    "name": "ipython",
    "version": 3
   },
   "file_extension": ".py",
   "mimetype": "text/x-python",
   "name": "python",
   "nbconvert_exporter": "python",
   "pygments_lexer": "ipython3",
   "version": "3.8.8"
  }
 },
 "nbformat": 4,
 "nbformat_minor": 5
}
