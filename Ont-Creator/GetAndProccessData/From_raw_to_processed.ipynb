{
 "cells": [
  {
   "cell_type": "markdown",
   "metadata": {},
   "source": [
    "# Process raw data to ontology format"
   ]
  },
  {
   "cell_type": "code",
   "execution_count": 1,
   "metadata": {},
   "outputs": [],
   "source": [
    "import json\n",
    "\n",
    "from OntologyCreator import OntologyCreator"
   ]
  },
  {
   "cell_type": "markdown",
   "metadata": {},
   "source": [
    "## Read raw files from all repositories"
   ]
  },
  {
   "cell_type": "code",
   "execution_count": 2,
   "metadata": {},
   "outputs": [],
   "source": [
    "with open('../../SingleCell-Files/raw_data/HCA_samples.json') as f:\n",
    "    HCA_samples = json.load(f)\n",
    "\n",
    "with open('../../SingleCell-Files/raw_data/HCA_projects.json') as f:\n",
    "    HCA_projects = json.load(f)\n",
    "\n",
    "with open('../../SingleCell-Files/raw_data/SCAE_samples.json') as f:\n",
    "    SCAE_samples = json.load(f)\n",
    "\n",
    "with open('../../SingleCell-Files/raw_data/SCAE_projects.json') as f:\n",
    "    SCAE_projects = json.load(f)"
   ]
  },
  {
   "cell_type": "markdown",
   "metadata": {},
   "source": [
    "## Create parser class"
   ]
  },
  {
   "cell_type": "code",
   "execution_count": 3,
   "metadata": {},
   "outputs": [],
   "source": [
    "ont_creator = OntologyCreator()\n",
    "\n",
    "HCA_processed = {}\n",
    "SCAE_processed = {}"
   ]
  },
  {
   "cell_type": "markdown",
   "metadata": {},
   "source": [
    "## Format data from HCA repository\n",
    "\n",
    "For a more in-depth analysis of the data, as well as the formatting to the ontology format look python classes"
   ]
  },
  {
   "cell_type": "markdown",
   "metadata": {},
   "source": [
    "### Format HCA samples"
   ]
  },
  {
   "cell_type": "code",
   "execution_count": 4,
   "metadata": {
    "scrolled": true
   },
   "outputs": [],
   "source": [
    "HCA_samples_processed = list(map(ont_creator.create_hca_specimen, HCA_samples['samples']))\n",
    "\n",
    "HCA_processed['specimens'] = HCA_samples_processed"
   ]
  },
  {
   "cell_type": "markdown",
   "metadata": {},
   "source": [
    "### Format HCA projects"
   ]
  },
  {
   "cell_type": "code",
   "execution_count": 5,
   "metadata": {
    "scrolled": true
   },
   "outputs": [
    {
     "ename": "TypeError",
     "evalue": "can only concatenate str (not \"list\") to str",
     "output_type": "error",
     "traceback": [
      "\u001b[0;31m---------------------------------------------------------------------------\u001b[0m",
      "\u001b[0;31mTypeError\u001b[0m                                 Traceback (most recent call last)",
      "\u001b[0;32m<ipython-input-5-2a03e7bf20db>\u001b[0m in \u001b[0;36m<module>\u001b[0;34m\u001b[0m\n\u001b[0;32m----> 1\u001b[0;31m \u001b[0mHCA_projects_processed\u001b[0m \u001b[0;34m=\u001b[0m \u001b[0mlist\u001b[0m\u001b[0;34m(\u001b[0m\u001b[0mmap\u001b[0m\u001b[0;34m(\u001b[0m\u001b[0mont_creator\u001b[0m\u001b[0;34m.\u001b[0m\u001b[0mcreate_hca_project\u001b[0m\u001b[0;34m,\u001b[0m \u001b[0mHCA_projects\u001b[0m\u001b[0;34m[\u001b[0m\u001b[0;34m'projects'\u001b[0m\u001b[0;34m]\u001b[0m\u001b[0;34m)\u001b[0m\u001b[0;34m)\u001b[0m\u001b[0;34m\u001b[0m\u001b[0;34m\u001b[0m\u001b[0m\n\u001b[0m\u001b[1;32m      2\u001b[0m \u001b[0;34m\u001b[0m\u001b[0m\n\u001b[1;32m      3\u001b[0m \u001b[0mHCA_processed\u001b[0m\u001b[0;34m[\u001b[0m\u001b[0;34m'projects'\u001b[0m\u001b[0;34m]\u001b[0m \u001b[0;34m=\u001b[0m \u001b[0mHCA_projects_processed\u001b[0m\u001b[0;34m\u001b[0m\u001b[0;34m\u001b[0m\u001b[0m\n",
      "\u001b[0;32m~/Documents/Repos/single-cell-repo/Ont-Creator/GetAndProccessData/OntologyCreator.py\u001b[0m in \u001b[0;36mcreate_hca_project\u001b[0;34m(self, raw_project)\u001b[0m\n\u001b[1;32m     43\u001b[0m         \u001b[0mproject_id\u001b[0m \u001b[0;34m=\u001b[0m \u001b[0mPROJECT_ID_PREFIX\u001b[0m \u001b[0;34m+\u001b[0m \u001b[0mformat_id_number\u001b[0m\u001b[0;34m(\u001b[0m\u001b[0mself\u001b[0m\u001b[0;34m.\u001b[0m\u001b[0mproject_id_counter\u001b[0m\u001b[0;34m)\u001b[0m\u001b[0;34m\u001b[0m\u001b[0;34m\u001b[0m\u001b[0m\n\u001b[1;32m     44\u001b[0m \u001b[0;34m\u001b[0m\u001b[0m\n\u001b[0;32m---> 45\u001b[0;31m         \u001b[0mproject\u001b[0m \u001b[0;34m=\u001b[0m \u001b[0mself\u001b[0m\u001b[0;34m.\u001b[0m\u001b[0mhca_conversor\u001b[0m\u001b[0;34m.\u001b[0m\u001b[0mformat_project\u001b[0m\u001b[0;34m(\u001b[0m\u001b[0mraw_project\u001b[0m\u001b[0;34m,\u001b[0m \u001b[0mproject_id\u001b[0m\u001b[0;34m)\u001b[0m\u001b[0;34m\u001b[0m\u001b[0;34m\u001b[0m\u001b[0m\n\u001b[0m\u001b[1;32m     46\u001b[0m         \u001b[0mself\u001b[0m\u001b[0;34m.\u001b[0m\u001b[0mprojects\u001b[0m\u001b[0;34m.\u001b[0m\u001b[0mappend\u001b[0m\u001b[0;34m(\u001b[0m\u001b[0mproject\u001b[0m\u001b[0;34m)\u001b[0m\u001b[0;34m\u001b[0m\u001b[0;34m\u001b[0m\u001b[0m\n\u001b[1;32m     47\u001b[0m \u001b[0;34m\u001b[0m\u001b[0m\n",
      "\u001b[0;32m~/Documents/Repos/single-cell-repo/Ont-Creator/GetAndProccessData/OntologyConversorAbstract.py\u001b[0m in \u001b[0;36mformat_project\u001b[0;34m(self, raw_project, project_id)\u001b[0m\n\u001b[1;32m     32\u001b[0m \u001b[0;34m\u001b[0m\u001b[0m\n\u001b[1;32m     33\u001b[0m     \u001b[0;32mdef\u001b[0m \u001b[0mformat_project\u001b[0m\u001b[0;34m(\u001b[0m\u001b[0mself\u001b[0m\u001b[0;34m,\u001b[0m \u001b[0mraw_project\u001b[0m\u001b[0;34m,\u001b[0m \u001b[0mproject_id\u001b[0m\u001b[0;34m)\u001b[0m\u001b[0;34m:\u001b[0m\u001b[0;34m\u001b[0m\u001b[0;34m\u001b[0m\u001b[0m\n\u001b[0;32m---> 34\u001b[0;31m         \u001b[0mself\u001b[0m\u001b[0;34m.\u001b[0m\u001b[0mformat_concrete_project\u001b[0m\u001b[0;34m(\u001b[0m\u001b[0mraw_project\u001b[0m\u001b[0;34m,\u001b[0m \u001b[0mproject_id\u001b[0m\u001b[0;34m)\u001b[0m\u001b[0;34m\u001b[0m\u001b[0;34m\u001b[0m\u001b[0m\n\u001b[0m\u001b[1;32m     35\u001b[0m \u001b[0;34m\u001b[0m\u001b[0m\n\u001b[1;32m     36\u001b[0m         \u001b[0;32mreturn\u001b[0m \u001b[0mself\u001b[0m\u001b[0;34m.\u001b[0m\u001b[0mproject\u001b[0m\u001b[0;34m\u001b[0m\u001b[0;34m\u001b[0m\u001b[0m\n",
      "\u001b[0;32m~/Documents/Repos/single-cell-repo/Ont-Creator/GetAndProccessData/OntologyConversorHCA.py\u001b[0m in \u001b[0;36mformat_concrete_project\u001b[0;34m(self, raw_project, project_id)\u001b[0m\n\u001b[1;32m    275\u001b[0m \u001b[0;34m\u001b[0m\u001b[0m\n\u001b[1;32m    276\u001b[0m         \u001b[0;31m# Projects\u001b[0m\u001b[0;34m\u001b[0m\u001b[0;34m\u001b[0m\u001b[0;34m\u001b[0m\u001b[0m\n\u001b[0;32m--> 277\u001b[0;31m         \u001b[0mproject\u001b[0m \u001b[0;34m=\u001b[0m \u001b[0mself\u001b[0m\u001b[0;34m.\u001b[0m\u001b[0m__format_HCD_projects_PR\u001b[0m\u001b[0;34m(\u001b[0m\u001b[0mproject\u001b[0m\u001b[0;34m,\u001b[0m \u001b[0mraw_project\u001b[0m\u001b[0;34m)\u001b[0m\u001b[0;34m\u001b[0m\u001b[0;34m\u001b[0m\u001b[0m\n\u001b[0m\u001b[1;32m    278\u001b[0m \u001b[0;34m\u001b[0m\u001b[0m\n\u001b[1;32m    279\u001b[0m         \u001b[0;31m# Samples\u001b[0m\u001b[0;34m\u001b[0m\u001b[0;34m\u001b[0m\u001b[0;34m\u001b[0m\u001b[0m\n",
      "\u001b[0;32m~/Documents/Repos/single-cell-repo/Ont-Creator/GetAndProccessData/OntologyConversorHCA.py\u001b[0m in \u001b[0;36m__format_HCD_projects_PR\u001b[0;34m(self, project, project_hca)\u001b[0m\n\u001b[1;32m   1092\u001b[0m         \u001b[0mproject\u001b[0m\u001b[0;34m.\u001b[0m\u001b[0mpublication_link\u001b[0m \u001b[0;34m=\u001b[0m \u001b[0mpublication_links\u001b[0m\u001b[0;34m\u001b[0m\u001b[0;34m\u001b[0m\u001b[0m\n\u001b[1;32m   1093\u001b[0m \u001b[0;34m\u001b[0m\u001b[0m\n\u001b[0;32m-> 1094\u001b[0;31m         \u001b[0mproject\u001b[0m\u001b[0;34m.\u001b[0m\u001b[0marray_express_id\u001b[0m \u001b[0;34m=\u001b[0m \u001b[0;34m\"https://www.ebi.ac.uk/arrayexpress/experiments/\"\u001b[0m \u001b[0;34m+\u001b[0m \u001b[0marray_express\u001b[0m\u001b[0;34m\u001b[0m\u001b[0;34m\u001b[0m\u001b[0m\n\u001b[0m\u001b[1;32m   1095\u001b[0m         \u001b[0mproject\u001b[0m\u001b[0;34m.\u001b[0m\u001b[0mgeo_series_id\u001b[0m \u001b[0;34m=\u001b[0m \u001b[0;34m\"https://www.ncbi.nlm.nih.gov/geo/query/acc.cgi?acc=\"\u001b[0m \u001b[0;34m+\u001b[0m \u001b[0mgeo_series\u001b[0m\u001b[0;34m\u001b[0m\u001b[0;34m\u001b[0m\u001b[0m\n\u001b[1;32m   1096\u001b[0m         \u001b[0mproject\u001b[0m\u001b[0;34m.\u001b[0m\u001b[0minsdc_project_id\u001b[0m \u001b[0;34m=\u001b[0m \u001b[0;34m\"https://www.ebi.ac.uk/ena/browser/view/\"\u001b[0m \u001b[0;34m+\u001b[0m \u001b[0minsdc_project\u001b[0m\u001b[0;34m\u001b[0m\u001b[0;34m\u001b[0m\u001b[0m\n",
      "\u001b[0;31mTypeError\u001b[0m: can only concatenate str (not \"list\") to str"
     ]
    }
   ],
   "source": [
    "HCA_projects_processed = list(map(ont_creator.create_hca_project, HCA_projects['projects']))\n",
    "\n",
    "HCA_processed['projects'] = HCA_projects_processed"
   ]
  },
  {
   "cell_type": "markdown",
   "metadata": {},
   "source": [
    "### Save HCA processed data"
   ]
  },
  {
   "cell_type": "code",
   "execution_count": null,
   "metadata": {},
   "outputs": [],
   "source": [
    "with open('../../SingleCell-Files/processed_data/HCA_processed.json', 'w') as outfile:\n",
    "    json.dump(HCA_processed, outfile)"
   ]
  },
  {
   "cell_type": "markdown",
   "metadata": {},
   "source": [
    "## Format data from SCAE repository\n",
    "\n",
    "For a more in-depth analysis of the data, as well as the formatting to the ontology format look python classes"
   ]
  },
  {
   "cell_type": "markdown",
   "metadata": {},
   "source": [
    "### Format SCAE samples"
   ]
  },
  {
   "cell_type": "code",
   "execution_count": 6,
   "metadata": {
    "scrolled": true
   },
   "outputs": [],
   "source": [
    "SCAE_samples_processed = list(map(ont_creator.create_scea_specimen, SCAE_samples['specimens']))\n",
    "\n",
    "SCAE_processed['specimens'] = SCAE_samples_processed"
   ]
  },
  {
   "cell_type": "markdown",
   "metadata": {},
   "source": [
    "### Format SCAE projects"
   ]
  },
  {
   "cell_type": "code",
   "execution_count": 7,
   "metadata": {
    "scrolled": true
   },
   "outputs": [],
   "source": [
    "SCAE_projects_processed = list(map(ont_creator.create_scae_project, SCAE_projects['experiments']))\n",
    "\n",
    "SCAE_processed['projects'] = SCAE_projects_processed"
   ]
  },
  {
   "cell_type": "markdown",
   "metadata": {},
   "source": [
    "### Save SCAE processed data"
   ]
  },
  {
   "cell_type": "code",
   "execution_count": 8,
   "metadata": {},
   "outputs": [],
   "source": [
    "with open('../../SingleCell-Files/processed_data/SCAE_processed.json', 'w') as outfile:\n",
    "    json.dump(SCAE_processed, outfile)"
   ]
  },
  {
   "cell_type": "code",
   "execution_count": null,
   "metadata": {},
   "outputs": [],
   "source": []
  }
 ],
 "metadata": {
  "kernelspec": {
   "display_name": "Python 3",
   "language": "python",
   "name": "python3"
  },
  "language_info": {
   "codemirror_mode": {
    "name": "ipython",
    "version": 3
   },
   "file_extension": ".py",
   "mimetype": "text/x-python",
   "name": "python",
   "nbconvert_exporter": "python",
   "pygments_lexer": "ipython3",
   "version": "3.8.8"
  }
 },
 "nbformat": 4,
 "nbformat_minor": 4
}
