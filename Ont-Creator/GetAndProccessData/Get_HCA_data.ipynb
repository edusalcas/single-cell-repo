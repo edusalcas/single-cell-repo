{
 "cells": [
  {
   "cell_type": "markdown",
   "metadata": {},
   "source": [
    "# Obtain Projects and specimens from Human Cell Atlas"
   ]
  },
  {
   "cell_type": "code",
   "execution_count": 1,
   "metadata": {},
   "outputs": [],
   "source": [
    "import requests\n",
    "import json\n",
    "import time\n",
    "\n",
    "from IPython.display import clear_output"
   ]
  },
  {
   "cell_type": "markdown",
   "metadata": {},
   "source": [
    "## Get the samples and save them\n",
    "\n",
    "The data base has 800 samples, we indicate `size=801` to get them all."
   ]
  },
  {
   "cell_type": "code",
   "execution_count": 26,
   "metadata": {},
   "outputs": [],
   "source": [
    "seed_url = \"https://service.azul.data.humancellatlas.org/index/samples?filters=%7B%7D&size=999&catalog=dcp1\""
   ]
  },
  {
   "cell_type": "markdown",
   "metadata": {},
   "source": [
    "It is necessary to indicate the user agent in the request so the server do not detect we are web scraping."
   ]
  },
  {
   "cell_type": "code",
   "execution_count": 27,
   "metadata": {},
   "outputs": [],
   "source": [
    "# User-Agent obtenido del recurso del curso.\n",
    "headers = {\n",
    "    \"user-agent\": \"Mozilla/5.0 (Macintosh; Intel Mac OS X 10_15_6) AppleWebKit/537.36 (KHTML, like Gecko) Chrome/85.0.4183.83 Safari/537.36\"\n",
    "}"
   ]
  },
  {
   "cell_type": "markdown",
   "metadata": {},
   "source": [
    "We do the request and get all the data in json format"
   ]
  },
  {
   "cell_type": "code",
   "execution_count": 28,
   "metadata": {},
   "outputs": [],
   "source": [
    "answer = requests.get(seed_url, headers=headers)"
   ]
  },
  {
   "cell_type": "markdown",
   "metadata": {},
   "source": [
    "If we take a look into the json, we can see that the data is in the object \"hits\"."
   ]
  },
  {
   "cell_type": "code",
   "execution_count": 29,
   "metadata": {},
   "outputs": [],
   "source": [
    "# print(json.dumps(answer.json(), indent=2, sort_keys=True))"
   ]
  },
  {
   "cell_type": "code",
   "execution_count": 30,
   "metadata": {},
   "outputs": [
    {
     "name": "stdout",
     "output_type": "stream",
     "text": [
      "800\n"
     ]
    }
   ],
   "source": [
    "hits = answer.json()['hits']\n",
    "print(len(hits))"
   ]
  },
  {
   "cell_type": "markdown",
   "metadata": {},
   "source": [
    "We save the hits in this raw json format."
   ]
  },
  {
   "cell_type": "code",
   "execution_count": 31,
   "metadata": {},
   "outputs": [],
   "source": [
    "with open('../../SingleCell-Files/raw_data/HCA_samples.json', 'w') as outfile:\n",
    "    json.dump({'samples': hits}, outfile)"
   ]
  },
  {
   "cell_type": "markdown",
   "metadata": {},
   "source": [
    "## Get the projects and save them"
   ]
  },
  {
   "cell_type": "code",
   "execution_count": 36,
   "metadata": {},
   "outputs": [],
   "source": [
    "seed_url = \"https://service.azul.data.humancellatlas.org/index/projects?size=999&catalog=dcp1\""
   ]
  },
  {
   "cell_type": "code",
   "execution_count": 37,
   "metadata": {},
   "outputs": [],
   "source": [
    "# User-Agent obtenido del recurso del curso.\n",
    "headers = {\n",
    "    \"user-agent\": \"Mozilla/5.0 (Macintosh; Intel Mac OS X 10_15_6) AppleWebKit/537.36 (KHTML, like Gecko) Chrome/85.0.4183.83 Safari/537.36\"\n",
    "}"
   ]
  },
  {
   "cell_type": "code",
   "execution_count": 38,
   "metadata": {},
   "outputs": [],
   "source": [
    "answer = requests.get(seed_url, headers=headers)"
   ]
  },
  {
   "cell_type": "code",
   "execution_count": 39,
   "metadata": {},
   "outputs": [],
   "source": [
    "project_hits = answer.json()[\"hits\"]\n",
    "\n",
    "# print(json.dumps(project_hits, indent=2, sort_keys=True))"
   ]
  },
  {
   "cell_type": "code",
   "execution_count": 41,
   "metadata": {},
   "outputs": [
    {
     "name": "stdout",
     "output_type": "stream",
     "text": [
      "Getting project with id \"9c20a245-f2c0-43ae-82c9-2232ec6b594f\"...\n",
      "Number of errors: 0\n",
      "28/28\n"
     ]
    }
   ],
   "source": [
    "projects = []\n",
    "accessing_error = []\n",
    "\n",
    "n_projects = len(project_hits)\n",
    "\n",
    "for n, hit in enumerate(project_hits):\n",
    "    entry_id = hit[\"entryId\"]\n",
    "    seed_url = f\"https://service.azul.data.humancellatlas.org/index/projects/{entry_id}?catalog=dcp1\"\n",
    "\n",
    "    # Print loop information\n",
    "    print(\"Getting project with id \\\"\" + entry_id + \"\\\"...\")\n",
    "    print(\"Number of errors: \" + str(len(accessing_error)))\n",
    "    print(f\"{n+1}/{n_projects}\")\n",
    "    \n",
    "    time.sleep(2)\n",
    "    \n",
    "    answer_project = requests.get(seed_url, headers=headers)\n",
    "    \n",
    "    # If couldn't get the information save the error\n",
    "    if answer.status_code != requests.codes.ok:\n",
    "        accessing_error.append(answer)\n",
    "        clear_output(wait=True)\n",
    "        continue\n",
    "    \n",
    "    projects.append(answer_project.json())\n",
    "    \n",
    "    clear_output(wait=True)\n",
    "        "
   ]
  },
  {
   "cell_type": "code",
   "execution_count": 42,
   "metadata": {},
   "outputs": [],
   "source": [
    "with open('../../SingleCell-Files/raw_data/HCA_projects.json', 'w') as outfile:\n",
    "    json.dump({\"projects\": projects}, outfile)"
   ]
  },
  {
   "cell_type": "code",
   "execution_count": null,
   "metadata": {},
   "outputs": [],
   "source": []
  }
 ],
 "metadata": {
  "kernelspec": {
   "display_name": "Python 3",
   "language": "python",
   "name": "python3"
  },
  "language_info": {
   "codemirror_mode": {
    "name": "ipython",
    "version": 3
   },
   "file_extension": ".py",
   "mimetype": "text/x-python",
   "name": "python",
   "nbconvert_exporter": "python",
   "pygments_lexer": "ipython3",
   "version": "3.8.8"
  }
 },
 "nbformat": 4,
 "nbformat_minor": 4
}
